{
 "cells": [
  {
   "cell_type": "markdown",
   "id": "383f7f58",
   "metadata": {},
   "source": [
    "# ML CUP 2022\n",
    "\n",
    "## Regression based on k-nearest neighbors\n",
    "\n",
    "This notebook creates a k-nearest neighbors for regression (KNR) model to generalize the problem of the ML cup 2022. It searches the best combination of hyperparameters performing a grid searches over a given range of values.\n",
    "\n",
    "Hyperparameters considered for the grid search:\n",
    "\n",
    "1. n_neighbors\n",
    "2. algorithm"
   ]
  },
  {
   "cell_type": "markdown",
   "id": "4a25b4a3",
   "metadata": {},
   "source": [
    "### Loading libraries"
   ]
  },
  {
   "cell_type": "code",
   "execution_count": 1,
   "id": "6adcb6eb",
   "metadata": {},
   "outputs": [],
   "source": [
    "import pandas as pd\n",
    "import numpy as np\n",
    "import matplotlib.pyplot as plt\n",
    "from numpy import linalg as LA\n",
    "\n",
    "from sklearn.metrics import make_scorer\n",
    "from sklearn.neighbors import KNeighborsRegressor\n",
    "from sklearn.model_selection import GridSearchCV\n",
    "\n",
    "import joblib\n",
    "\n",
    "import math"
   ]
  },
  {
   "cell_type": "markdown",
   "id": "1c75408f",
   "metadata": {},
   "source": [
    "### Definition of the Mean Euclidean Distance"
   ]
  },
  {
   "cell_type": "code",
   "execution_count": 2,
   "id": "1ada6007",
   "metadata": {},
   "outputs": [],
   "source": [
    "def my_mean_euclidean_distance(y_true, y_pred):\n",
    "    points = len(y_true)\n",
    "    tot_sum = 0\n",
    "    for i in range (points):\n",
    "        tot_sum += LA.norm(y_true[i] - y_pred[i])\n",
    "    \n",
    "    return tot_sum / points"
   ]
  },
  {
   "cell_type": "code",
   "execution_count": 3,
   "id": "a7d28c50",
   "metadata": {},
   "outputs": [],
   "source": [
    "mean_euclidean_distance = make_scorer(my_mean_euclidean_distance, greater_is_better=False)"
   ]
  },
  {
   "cell_type": "markdown",
   "id": "d0abb3da",
   "metadata": {},
   "source": [
    "### Loading data"
   ]
  },
  {
   "cell_type": "code",
   "execution_count": 4,
   "id": "3fe76919",
   "metadata": {},
   "outputs": [],
   "source": [
    "colnames = ['id', 'a1', 'a2', 'a3', 'a4', 'a5', 'a6', 'a7', 'a8', 'a9', 'target1', 'target2']\n",
    "mlcup_tr = pd.read_csv(\"./dataset/ml_cup22/ML-CUP22-TR.csv\", sep = \",\", names=colnames)\n",
    "mlcup_tr = mlcup_tr.iloc[1:, :]\n",
    "mlcup_tr = mlcup_tr.drop('id', axis=1)"
   ]
  },
  {
   "cell_type": "code",
   "execution_count": 5,
   "id": "6b13b6ce",
   "metadata": {},
   "outputs": [],
   "source": [
    "x_mlcup_tr = mlcup_tr.iloc[:, 0:9].values\n",
    "y_mlcup_tr = mlcup_tr.iloc[:, 9:11].values"
   ]
  },
  {
   "cell_type": "markdown",
   "id": "7f884641",
   "metadata": {},
   "source": [
    "We used the function below to normalize our training set (both input and target) according to a min-max normalization"
   ]
  },
  {
   "cell_type": "code",
   "execution_count": 6,
   "id": "474cbb54",
   "metadata": {},
   "outputs": [],
   "source": [
    "x_cols = len(x_mlcup_tr[0])\n",
    "\n",
    "max_col_value_x = [None]*x_cols\n",
    "max_vl = None\n",
    "\n",
    "min_col_value_x = [None]*x_cols\n",
    "min_vl = None\n",
    "\n",
    "for i in range(x_cols):\n",
    "    col = x_mlcup_tr[:, i]\n",
    "    max_vl = np.amax(col)\n",
    "    min_vl = np.amin(col)\n",
    "    \n",
    "    x_mlcup_tr[:, i] = (x_mlcup_tr[:, i] - min_vl) / (max_vl - min_vl)\n",
    "    \n",
    "    max_col_value_x[i] = max_vl\n",
    "    min_col_value_x[i] = min_vl\n",
    "    \n",
    "    \n",
    "    \n",
    "y_cols = len(y_mlcup_tr[0])\n",
    "\n",
    "max_col_value_y = [None]*y_cols\n",
    "\n",
    "min_col_value_y = [None]*y_cols\n",
    "\n",
    "for i in range(y_cols):\n",
    "    col = y_mlcup_tr[:, i]\n",
    "    max_vl = np.amax(col)\n",
    "    min_vl = np.amin(col)\n",
    "    \n",
    "    y_mlcup_tr[:, i] = (y_mlcup_tr[:, i] - min_vl) / (max_vl - min_vl)\n",
    "    \n",
    "    max_col_value_y[i] = max_vl\n",
    "    min_col_value_y[i] = min_vl \n",
    "\n",
    "y1_mlcup_tr = y_mlcup_tr[:, 0]\n",
    "y2_mlcup_tr = y_mlcup_tr[:, 1]"
   ]
  },
  {
   "cell_type": "markdown",
   "id": "7b630318",
   "metadata": {},
   "source": [
    "We create a validation set, splitting the training set in 70% and 30%. We do this in order not to fall in an overfitting case and to evaluate the error."
   ]
  },
  {
   "cell_type": "code",
   "execution_count": 7,
   "id": "e62daabb",
   "metadata": {},
   "outputs": [],
   "source": [
    "subset_size = int(0.3 * len(x_mlcup_tr))\n",
    "\n",
    "index = np.random.choice(len(x_mlcup_tr), subset_size, replace=False)\n",
    "index = np.sort(index)\n",
    "\n",
    "x_val_set = x_mlcup_tr[index]\n",
    "x_tr_set = np.delete(x_mlcup_tr, index, 0)\n",
    "\n",
    "y_val_set = y_mlcup_tr[index]\n",
    "y_tr_set = np.delete(y_mlcup_tr, index, 0)"
   ]
  },
  {
   "cell_type": "markdown",
   "id": "99fb8634",
   "metadata": {},
   "source": [
    "### Grid search"
   ]
  },
  {
   "cell_type": "code",
   "execution_count": 8,
   "id": "2ef87c8e",
   "metadata": {},
   "outputs": [
    {
     "name": "stdout",
     "output_type": "stream",
     "text": [
      "Fitting 5 folds for each of 196 candidates, totalling 980 fits\n",
      "The best parameters are {'algorithm': 'auto', 'n_neighbors': 14} with a score of -0.07285\n"
     ]
    }
   ],
   "source": [
    "n_neighbors = np.arange(1, 50)\n",
    "algorithm = ['auto', 'ball_tree', 'kd_tree', 'brute']\n",
    "\n",
    "param_grid = dict(\n",
    "    n_neighbors = n_neighbors,\n",
    "    algorithm = algorithm\n",
    ")\n",
    "\n",
    "grid = GridSearchCV(\n",
    "    KNeighborsRegressor(),\n",
    "    param_grid = param_grid,\n",
    "    cv = 5,\n",
    "    scoring = mean_euclidean_distance,\n",
    "    verbose = 4,\n",
    "    n_jobs = -1\n",
    ")\n",
    "\n",
    "grid.fit(x_tr_set, y_tr_set)\n",
    "\n",
    "print(\n",
    "    \"The best parameters are %s with a score of %0.5f\"\n",
    "    % (grid.best_params_, grid.best_score_)\n",
    ")"
   ]
  },
  {
   "cell_type": "code",
   "execution_count": 9,
   "id": "613c112f",
   "metadata": {},
   "outputs": [],
   "source": [
    "knr = grid.best_estimator_"
   ]
  },
  {
   "cell_type": "code",
   "execution_count": 10,
   "id": "bdd5ac2c",
   "metadata": {},
   "outputs": [],
   "source": [
    "pred_label_knr = knr.predict(x_val_set)"
   ]
  },
  {
   "cell_type": "code",
   "execution_count": 11,
   "id": "859ab92c",
   "metadata": {},
   "outputs": [],
   "source": [
    "pred_label_knr_tr = knr.predict(x_tr_set)"
   ]
  },
  {
   "cell_type": "markdown",
   "id": "efd458c2",
   "metadata": {},
   "source": [
    "After we train the model, we denormalize the data and we evaluate the error."
   ]
  },
  {
   "cell_type": "code",
   "execution_count": 12,
   "id": "dd783b3d",
   "metadata": {},
   "outputs": [],
   "source": [
    "#Denormalization\n",
    "def deNormalizer(pred_labels, max_col_value_y, min_col_value_y):\n",
    "    \n",
    "    y_cols = len(pred_labels[0])\n",
    "    \n",
    "    for i in range(y_cols):\n",
    "        \n",
    "        pred_labels[:, i] = pred_labels[:, i] * (max_col_value_y[i] - min_col_value_y[i]) + min_col_value_y[i]\n",
    "    \n",
    "    return pred_labels"
   ]
  },
  {
   "cell_type": "code",
   "execution_count": 13,
   "id": "7628c3af",
   "metadata": {},
   "outputs": [],
   "source": [
    "pred_label_knr_tr = deNormalizer(pred_label_knr_tr, max_col_value_y, min_col_value_y)\n",
    "y_tr_set = deNormalizer(y_tr_set, max_col_value_y, min_col_value_y)"
   ]
  },
  {
   "cell_type": "code",
   "execution_count": 14,
   "id": "9c505b1f",
   "metadata": {},
   "outputs": [
    {
     "name": "stdout",
     "output_type": "stream",
     "text": [
      "MEE on the training set: 1.3258909591385737\n"
     ]
    }
   ],
   "source": [
    "# Mean euclidean distance\n",
    "points = y_tr_set.shape[0]\n",
    "tot_sum = 0\n",
    "for i in range (points):\n",
    "    tot_sum += math.sqrt(math.pow((y_tr_set[i][0] - pred_label_knr_tr[i][0]), 2)\n",
    "                         + math.pow((y_tr_set[i][1] - pred_label_knr_tr[i][1]), 2))\n",
    "    \n",
    "print('MEE on the training set:', tot_sum / points)"
   ]
  },
  {
   "cell_type": "code",
   "execution_count": 15,
   "id": "ea2571b8",
   "metadata": {},
   "outputs": [],
   "source": [
    "pred_label_knr = deNormalizer(pred_label_knr, max_col_value_y, min_col_value_y)\n",
    "y_val_set = deNormalizer(y_val_set, max_col_value_y, min_col_value_y)"
   ]
  },
  {
   "cell_type": "code",
   "execution_count": 16,
   "id": "bac0c681",
   "metadata": {},
   "outputs": [
    {
     "name": "stdout",
     "output_type": "stream",
     "text": [
      "MEE on the validation set: 1.5705868868744728\n"
     ]
    }
   ],
   "source": [
    "# Mean euclidean distance\n",
    "points = y_val_set.shape[0]\n",
    "tot_sum = 0\n",
    "for i in range (points):\n",
    "    tot_sum += math.sqrt(math.pow((y_val_set[i][0] - pred_label_knr[i][0]), 2)\n",
    "                         + math.pow((y_val_set[i][1] - pred_label_knr[i][1]), 2))\n",
    "    \n",
    "print('MEE on the validation set:', tot_sum / points)"
   ]
  },
  {
   "cell_type": "markdown",
   "id": "819571f6",
   "metadata": {},
   "source": [
    "### Saving the model"
   ]
  },
  {
   "cell_type": "code",
   "execution_count": 17,
   "id": "59c80fb5",
   "metadata": {},
   "outputs": [
    {
     "data": {
      "text/plain": [
       "['./results/ml_cup/KNR/knr.z']"
      ]
     },
     "execution_count": 17,
     "metadata": {},
     "output_type": "execute_result"
    }
   ],
   "source": [
    "joblib.dump(knr, './results/ml_cup/KNR/knr.z')"
   ]
  }
 ],
 "metadata": {
  "kernelspec": {
   "display_name": "Python 3 (ipykernel)",
   "language": "python",
   "name": "python3"
  },
  "language_info": {
   "codemirror_mode": {
    "name": "ipython",
    "version": 3
   },
   "file_extension": ".py",
   "mimetype": "text/x-python",
   "name": "python",
   "nbconvert_exporter": "python",
   "pygments_lexer": "ipython3",
   "version": "3.9.13"
  }
 },
 "nbformat": 4,
 "nbformat_minor": 5
}
