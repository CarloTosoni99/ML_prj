{
 "cells": [
  {
   "cell_type": "code",
   "execution_count": 1,
   "id": "64d3dcf4",
   "metadata": {},
   "outputs": [],
   "source": [
    "import numpy as np\n",
    "import tensorflow as tf\n",
    "from numpy import loadtxt"
   ]
  },
  {
   "cell_type": "code",
   "execution_count": 2,
   "id": "e26ed463",
   "metadata": {},
   "outputs": [
    {
     "data": {
      "text/plain": [
       "array([['1', '1', '1', '1', '1', '3', '1'],\n",
       "       ['1', '1', '1', '1', '1', '3', '2'],\n",
       "       ['1', '1', '1', '1', '3', '2', '1'],\n",
       "       ['1', '1', '1', '1', '3', '3', '2'],\n",
       "       ['1', '1', '1', '2', '1', '2', '1'],\n",
       "       ['1', '1', '1', '2', '1', '2', '2'],\n",
       "       ['1', '1', '1', '2', '2', '3', '1'],\n",
       "       ['1', '1', '1', '2', '2', '4', '1'],\n",
       "       ['1', '1', '1', '2', '3', '1', '2'],\n",
       "       ['1', '1', '2', '1', '1', '1', '2']], dtype='<U8')"
      ]
     },
     "execution_count": 2,
     "metadata": {},
     "output_type": "execute_result"
    }
   ],
   "source": [
    "tr = loadtxt(\"dataset/monk1/monks-1.train\", dtype='str', delimiter=' ')\n",
    "tr = np.delete(tr, [0, 8], 1)\n",
    "tr[:10]"
   ]
  },
  {
   "cell_type": "code",
   "execution_count": 3,
   "id": "c0789b66",
   "metadata": {},
   "outputs": [
    {
     "data": {
      "text/plain": [
       "array([[1, 1, 1, 1, 1, 3, 1],\n",
       "       [1, 1, 1, 1, 1, 3, 2],\n",
       "       [1, 1, 1, 1, 3, 2, 1],\n",
       "       [1, 1, 1, 1, 3, 3, 2],\n",
       "       [1, 1, 1, 2, 1, 2, 1],\n",
       "       [1, 1, 1, 2, 1, 2, 2],\n",
       "       [1, 1, 1, 2, 2, 3, 1],\n",
       "       [1, 1, 1, 2, 2, 4, 1],\n",
       "       [1, 1, 1, 2, 3, 1, 2],\n",
       "       [1, 1, 2, 1, 1, 1, 2],\n",
       "       [0, 1, 2, 1, 1, 2, 1],\n",
       "       [0, 1, 2, 1, 1, 3, 1],\n",
       "       [0, 1, 2, 1, 1, 4, 2],\n",
       "       [1, 1, 2, 1, 2, 1, 1],\n",
       "       [0, 1, 2, 1, 2, 3, 1],\n",
       "       [0, 1, 2, 1, 2, 3, 2],\n",
       "       [0, 1, 2, 1, 2, 4, 2],\n",
       "       [0, 1, 2, 1, 3, 2, 1],\n",
       "       [0, 1, 2, 1, 3, 4, 2],\n",
       "       [0, 1, 2, 2, 1, 2, 2]])"
      ]
     },
     "execution_count": 3,
     "metadata": {},
     "output_type": "execute_result"
    }
   ],
   "source": [
    "tr = tr.astype(int)\n",
    "tr[:20]"
   ]
  },
  {
   "cell_type": "code",
   "execution_count": null,
   "id": "ab2b9def",
   "metadata": {},
   "outputs": [],
   "source": []
  }
 ],
 "metadata": {
  "kernelspec": {
   "display_name": "Python 3 (ipykernel)",
   "language": "python",
   "name": "python3"
  },
  "language_info": {
   "codemirror_mode": {
    "name": "ipython",
    "version": 3
   },
   "file_extension": ".py",
   "mimetype": "text/x-python",
   "name": "python",
   "nbconvert_exporter": "python",
   "pygments_lexer": "ipython3",
   "version": "3.10.6"
  }
 },
 "nbformat": 4,
 "nbformat_minor": 5
}
