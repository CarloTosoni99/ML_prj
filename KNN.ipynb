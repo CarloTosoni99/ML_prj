{
 "cells": [
  {
   "cell_type": "markdown",
   "id": "5ffe05d8",
   "metadata": {},
   "source": [
    "# KNN with sklearn #\n",
    "\n",
    "This notebook creates a KNN model for each monk. The best combination of hyperparameters is selected performing a grid search. Below there is a brief account about the implementation of each monk's KNN model. During the model selection we selected the best one that uses the best set of hyperparameters.\n",
    "\n",
    "\n",
    "## Monk1 ##\n",
    "\n",
    "Hyperparameters considered for the grid search:\n",
    "\n",
    "1. n_neighbors\n",
    "2. algorithm\n",
    "\n",
    "Model selection performed choosing the model with the best tuple of hyperparameters.\n",
    "\n",
    "## Monk2 ##\n",
    "\n",
    "Hyperparameters considered for the grid search:\n",
    "\n",
    "1. n_neighbors\n",
    "2. algorithm\n",
    "\n",
    "Model selection performed choosing the model with the best tuple of hyperparameters.\n",
    "\n",
    "## Monk3 ##\n",
    "\n",
    "Hyperparameters considered for the grid search:\n",
    "\n",
    "1. n_neighbors\n",
    "2. algorithm\n",
    "\n",
    "Model selection performed choosing the model with the best tuple of hyperparameters."
   ]
  },
  {
   "cell_type": "markdown",
   "id": "63161955",
   "metadata": {},
   "source": [
    "### Importing libraries"
   ]
  },
  {
   "cell_type": "code",
   "execution_count": 1,
   "id": "fc7d6f0b",
   "metadata": {},
   "outputs": [],
   "source": [
    "import pandas as pd\n",
    "import numpy as np\n",
    "import matplotlib.pyplot as plt\n",
    "import numpy as np\n",
    "import tensorflow as tf\n",
    "from numpy import loadtxt\n",
    "from sklearn.preprocessing import StandardScaler\n",
    "from sklearn.metrics import ConfusionMatrixDisplay, confusion_matrix\n",
    "\n",
    "from sklearn.neighbors import KNeighborsClassifier\n",
    "from sklearn.model_selection import StratifiedShuffleSplit\n",
    "from sklearn.model_selection import GridSearchCV\n",
    "\n",
    "import joblib"
   ]
  },
  {
   "cell_type": "markdown",
   "id": "89495e8d",
   "metadata": {},
   "source": [
    "## Monk 1"
   ]
  },
  {
   "cell_type": "markdown",
   "id": "fa4dcc67",
   "metadata": {},
   "source": [
    "### Importing datasets"
   ]
  },
  {
   "cell_type": "code",
   "execution_count": 2,
   "id": "fc0cbca5",
   "metadata": {},
   "outputs": [],
   "source": [
    "colnames = ['class', 'a1', 'a2', 'a3', 'a4', 'a5', 'a6', 'id']\n",
    "monk1_tr = pd.read_csv(\"./dataset/monk1/monks-1.train\", sep = \" \", skipinitialspace=True, names = colnames)\n",
    "monk1_tr = monk1_tr.drop('id', axis = 1)\n",
    "\n",
    "monk1_ts = pd.read_csv(\"./dataset/monk1/monks-1.test\", sep = \" \", skipinitialspace=True, names = colnames)\n",
    "monk1_ts = monk1_ts.drop('id', axis = 1)"
   ]
  },
  {
   "cell_type": "code",
   "execution_count": 3,
   "id": "a003a712",
   "metadata": {},
   "outputs": [],
   "source": [
    "x_monk1_tr = monk1_tr.iloc[:, 1:7].values\n",
    "y_monk1_tr = monk1_tr.iloc[:, 0].values\n",
    "\n",
    "x_monk1_ts = monk1_ts.iloc[:, 1:7].values\n",
    "y_monk1_ts = monk1_ts.iloc[:, 0].values"
   ]
  },
  {
   "cell_type": "markdown",
   "id": "28595a17",
   "metadata": {},
   "source": [
    "### Data normalization"
   ]
  },
  {
   "cell_type": "code",
   "execution_count": 4,
   "id": "7d0e1cfb",
   "metadata": {},
   "outputs": [],
   "source": [
    "scaler = StandardScaler()\n",
    "scaler.fit(x_monk1_tr)\n",
    "x_monk1_tr = scaler.transform(x_monk1_tr)\n",
    "x_monk1_ts = scaler.transform(x_monk1_ts)"
   ]
  },
  {
   "cell_type": "markdown",
   "id": "abe1de62",
   "metadata": {},
   "source": [
    "### Grid search\n",
    "We are going to tune the hyperparameters on _n\\_neighbors_ and _algorithm_."
   ]
  },
  {
   "cell_type": "code",
   "execution_count": 5,
   "id": "f8a1d346",
   "metadata": {},
   "outputs": [
    {
     "name": "stdout",
     "output_type": "stream",
     "text": [
      "Fitting 5 folds for each of 196 candidates, totalling 980 fits\n",
      "The best parameters are {'algorithm': 'auto', 'n_neighbors': 15} with a score of 0.77368\n"
     ]
    }
   ],
   "source": [
    "n_neighbors = np.arange(1, 50)\n",
    "algorithm = ['auto', 'brute', 'ball_tree', 'kd_tree']\n",
    "\n",
    "param_grid = dict(\n",
    "    n_neighbors = n_neighbors,\n",
    "    algorithm = algorithm\n",
    ")\n",
    "\n",
    "cv = StratifiedShuffleSplit(\n",
    "    n_splits=5,\n",
    "    test_size=0.3\n",
    ")\n",
    "\n",
    "grid = GridSearchCV(\n",
    "    KNeighborsClassifier(),\n",
    "    param_grid = param_grid,\n",
    "    cv = cv,\n",
    "    scoring = 'accuracy',\n",
    "    verbose = 4,\n",
    "    n_jobs = -1\n",
    ")\n",
    "\n",
    "grid.fit(x_monk1_tr, y_monk1_tr)\n",
    "\n",
    "print(\n",
    "    \"The best parameters are %s with a score of %0.5f\"\n",
    "    % (grid.best_params_, grid.best_score_)\n",
    ")"
   ]
  },
  {
   "cell_type": "code",
   "execution_count": 6,
   "id": "716b8924",
   "metadata": {},
   "outputs": [],
   "source": [
    "knn = grid.best_estimator_"
   ]
  },
  {
   "cell_type": "code",
   "execution_count": 7,
   "id": "c2c96214",
   "metadata": {
    "scrolled": true
   },
   "outputs": [
    {
     "data": {
      "image/png": "[encoded data removed]",
      "text/plain": [
       "<Figure size 640x480 with 2 Axes>"
      ]
     },
     "metadata": {},
     "output_type": "display_data"
    }
   ],
   "source": [
    "predictions = knn.predict(x_monk1_tr)\n",
    "\n",
    "cm = confusion_matrix(y_monk1_tr, predictions)\n",
    "disp = ConfusionMatrixDisplay(confusion_matrix=cm)\n",
    "disp.plot()\n",
    "plt.show()"
   ]
  },
  {
   "cell_type": "markdown",
   "id": "02434a79",
   "metadata": {},
   "source": [
    "### Model selection\n",
    "We choose the model that returns the best accuracy on the validation set."
   ]
  },
  {
   "cell_type": "code",
   "execution_count": 8,
   "id": "42b65a82",
   "metadata": {},
   "outputs": [
    {
     "data": {
      "text/plain": [
       "['./results/monk1/KNN/knn.z']"
      ]
     },
     "execution_count": 8,
     "metadata": {},
     "output_type": "execute_result"
    }
   ],
   "source": [
    "joblib.dump(knn, './results/monk1/KNN/knn.z')"
   ]
  },
  {
   "cell_type": "markdown",
   "id": "2eae8625",
   "metadata": {},
   "source": [
    "### Model assessment\n",
    "After the selection phase we assess the generalization capabilities of the final model."
   ]
  },
  {
   "cell_type": "code",
   "execution_count": 9,
   "id": "6c3cd9ce",
   "metadata": {},
   "outputs": [],
   "source": [
    "score1 = knn.score(x_monk1_ts, y_monk1_ts)"
   ]
  },
  {
   "cell_type": "code",
   "execution_count": 10,
   "id": "041dd319",
   "metadata": {},
   "outputs": [
    {
     "name": "stdout",
     "output_type": "stream",
     "text": [
      "Final accuracy on the test set: 0.7106481481481481\n"
     ]
    }
   ],
   "source": [
    "print(\"Final accuracy on the test set: \" + str(score1))"
   ]
  },
  {
   "cell_type": "code",
   "execution_count": 11,
   "id": "df8261ef",
   "metadata": {},
   "outputs": [
    {
     "data": {
      "image/png": "[encoded data removed]",
      "text/plain": [
       "<Figure size 640x480 with 2 Axes>"
      ]
     },
     "metadata": {},
     "output_type": "display_data"
    }
   ],
   "source": [
    "predictions = knn.predict(x_monk1_ts)\n",
    "\n",
    "cm = confusion_matrix(y_monk1_ts, predictions)\n",
    "disp = ConfusionMatrixDisplay(confusion_matrix=cm)\n",
    "disp.plot()\n",
    "plt.show()"
   ]
  },
  {
   "cell_type": "markdown",
   "id": "15111ca1",
   "metadata": {},
   "source": [
    "## Monk 2"
   ]
  },
  {
   "cell_type": "markdown",
   "id": "a8cee379",
   "metadata": {},
   "source": [
    "### Importing datasets"
   ]
  },
  {
   "cell_type": "code",
   "execution_count": 12,
   "id": "b3cf7d8d",
   "metadata": {},
   "outputs": [],
   "source": [
    "colnames = ['class', 'a1', 'a2', 'a3', 'a4', 'a5', 'a6', 'id']\n",
    "monk2_tr = pd.read_csv(\"./dataset/monk2/monks-2.train\", sep = \" \", skipinitialspace=True, names = colnames)\n",
    "monk2_tr = monk2_tr.drop('id', axis = 1)\n",
    "\n",
    "monk2_ts = pd.read_csv(\"./dataset/monk2/monks-2.test\", sep = \" \", skipinitialspace=True, names = colnames)\n",
    "monk2_ts = monk2_ts.drop('id', axis = 1)"
   ]
  },
  {
   "cell_type": "code",
   "execution_count": 13,
   "id": "e5439fa1",
   "metadata": {},
   "outputs": [],
   "source": [
    "x_monk2_tr = monk2_tr.iloc[:, 1:7].values\n",
    "y_monk2_tr = monk2_tr.iloc[:, 0].values\n",
    "\n",
    "x_monk2_ts = monk2_ts.iloc[:, 1:7].values\n",
    "y_monk2_ts = monk2_ts.iloc[:, 0].values"
   ]
  },
  {
   "cell_type": "markdown",
   "id": "1d81d453",
   "metadata": {},
   "source": [
    "### Data normalization"
   ]
  },
  {
   "cell_type": "code",
   "execution_count": 14,
   "id": "947a8ee5",
   "metadata": {},
   "outputs": [],
   "source": [
    "scaler = StandardScaler()\n",
    "scaler.fit(x_monk2_tr)\n",
    "x_monk2_tr = scaler.transform(x_monk2_tr)\n",
    "x_monk2_ts = scaler.transform(x_monk2_ts)"
   ]
  },
  {
   "cell_type": "markdown",
   "id": "e05125bc",
   "metadata": {},
   "source": [
    "### Grid search\n",
    "We are going to tune the hyperparameters on _n\\_neighbors_ and _algorithm_."
   ]
  },
  {
   "cell_type": "code",
   "execution_count": 15,
   "id": "b96ad599",
   "metadata": {},
   "outputs": [
    {
     "name": "stdout",
     "output_type": "stream",
     "text": [
      "Fitting 5 folds for each of 196 candidates, totalling 980 fits\n",
      "The best parameters are {'algorithm': 'ball_tree', 'n_neighbors': 2} with a score of 0.74118\n"
     ]
    }
   ],
   "source": [
    "n_neighbors = np.arange(1, 50)\n",
    "algorithm = ['auto', 'ball_tree', 'kd_tree', 'brute']\n",
    "\n",
    "param_grid = dict(\n",
    "    n_neighbors = n_neighbors,\n",
    "    algorithm = algorithm\n",
    ")\n",
    "\n",
    "cv = StratifiedShuffleSplit(\n",
    "    n_splits=5,\n",
    "    test_size=0.3\n",
    ")\n",
    "\n",
    "grid = GridSearchCV(\n",
    "    KNeighborsClassifier(),\n",
    "    param_grid = param_grid,\n",
    "    cv = cv,\n",
    "    scoring = 'accuracy',\n",
    "    verbose = 4,\n",
    "    n_jobs = -1\n",
    ")\n",
    "\n",
    "grid.fit(x_monk2_tr, y_monk2_tr)\n",
    "\n",
    "print(\n",
    "    \"The best parameters are %s with a score of %0.5f\"\n",
    "    % (grid.best_params_, grid.best_score_)\n",
    ")"
   ]
  },
  {
   "cell_type": "code",
   "execution_count": 16,
   "id": "bc01b2c7",
   "metadata": {},
   "outputs": [],
   "source": [
    "knn = grid.best_estimator_"
   ]
  },
  {
   "cell_type": "code",
   "execution_count": 17,
   "id": "68d9c53b",
   "metadata": {
    "scrolled": true
   },
   "outputs": [
    {
     "data": {
      "image/png": "[encoded data removed]",
      "text/plain": [
       "<Figure size 640x480 with 2 Axes>"
      ]
     },
     "metadata": {},
     "output_type": "display_data"
    }
   ],
   "source": [
    "predictions = knn.predict(x_monk2_tr)\n",
    "\n",
    "cm = confusion_matrix(y_monk2_tr, predictions)\n",
    "disp = ConfusionMatrixDisplay(confusion_matrix=cm)\n",
    "disp.plot()\n",
    "plt.show()"
   ]
  },
  {
   "cell_type": "markdown",
   "id": "1ff6272b",
   "metadata": {},
   "source": [
    "### Model selection\n",
    "We choose the model that returns the best accuracy on the validation set."
   ]
  },
  {
   "cell_type": "code",
   "execution_count": 18,
   "id": "782471c2",
   "metadata": {},
   "outputs": [
    {
     "data": {
      "text/plain": [
       "['./results/monk2/KNN/knn.z']"
      ]
     },
     "execution_count": 18,
     "metadata": {},
     "output_type": "execute_result"
    }
   ],
   "source": [
    "joblib.dump(knn, './results/monk2/KNN/knn.z')"
   ]
  },
  {
   "cell_type": "markdown",
   "id": "4b304817",
   "metadata": {},
   "source": [
    "### Model assessment\n",
    "After the selection phase we assess the generalization capabilities of the final model."
   ]
  },
  {
   "cell_type": "code",
   "execution_count": 19,
   "id": "81439020",
   "metadata": {},
   "outputs": [],
   "source": [
    "score2 = knn.score(x_monk2_ts, y_monk2_ts)"
   ]
  },
  {
   "cell_type": "code",
   "execution_count": 20,
   "id": "49cdd684",
   "metadata": {},
   "outputs": [
    {
     "name": "stdout",
     "output_type": "stream",
     "text": [
      "Final accuracy on the test set: 0.7777777777777778\n"
     ]
    }
   ],
   "source": [
    "print(\"Final accuracy on the test set: \" + str(score2))"
   ]
  },
  {
   "cell_type": "code",
   "execution_count": 21,
   "id": "a93574ae",
   "metadata": {},
   "outputs": [
    {
     "data": {
      "image/png": "[encoded data removed]",
      "text/plain": [
       "<Figure size 640x480 with 2 Axes>"
      ]
     },
     "metadata": {},
     "output_type": "display_data"
    }
   ],
   "source": [
    "predictions = knn.predict(x_monk2_ts)\n",
    "\n",
    "cm = confusion_matrix(y_monk2_ts, predictions)\n",
    "disp = ConfusionMatrixDisplay(confusion_matrix=cm)\n",
    "disp.plot()\n",
    "plt.show()"
   ]
  },
  {
   "cell_type": "markdown",
   "id": "244bfada",
   "metadata": {},
   "source": [
    "## Monk 3"
   ]
  },
  {
   "cell_type": "markdown",
   "id": "47b4a28a",
   "metadata": {},
   "source": [
    "### Importing datasets"
   ]
  },
  {
   "cell_type": "code",
   "execution_count": 22,
   "id": "898c2019",
   "metadata": {},
   "outputs": [],
   "source": [
    "colnames = ['class', 'a1', 'a2', 'a3', 'a4', 'a5', 'a6', 'id']\n",
    "monk3_tr = pd.read_csv(\"./dataset/monk3/monks-3.train\", sep = \" \", skipinitialspace=True, names = colnames)\n",
    "monk3_tr = monk3_tr.drop('id', axis = 1)\n",
    "\n",
    "monk3_ts = pd.read_csv(\"./dataset/monk3/monks-3.test\", sep = \" \", skipinitialspace=True, names = colnames)\n",
    "monk3_ts = monk3_ts.drop('id', axis = 1)"
   ]
  },
  {
   "cell_type": "code",
   "execution_count": 23,
   "id": "d7496127",
   "metadata": {},
   "outputs": [],
   "source": [
    "x_monk3_tr = monk3_tr.iloc[:, 1:7].values\n",
    "y_monk3_tr = monk3_tr.iloc[:, 0].values\n",
    "\n",
    "x_monk3_ts = monk3_ts.iloc[:, 1:7].values\n",
    "y_monk3_ts = monk3_ts.iloc[:, 0].values"
   ]
  },
  {
   "cell_type": "markdown",
   "id": "2c6bbe4a",
   "metadata": {},
   "source": [
    "### Data normalization"
   ]
  },
  {
   "cell_type": "code",
   "execution_count": 24,
   "id": "c8175662",
   "metadata": {},
   "outputs": [],
   "source": [
    "scaler = StandardScaler()\n",
    "scaler.fit(x_monk3_tr)\n",
    "x_monk3_tr = scaler.transform(x_monk3_tr)\n",
    "x_monk3_ts = scaler.transform(x_monk3_ts)"
   ]
  },
  {
   "cell_type": "markdown",
   "id": "9ae05c9a",
   "metadata": {},
   "source": [
    "### Grid search\n",
    "We are going to tune the hyperparameters on _n\\_neighbors_ and _algorithm_."
   ]
  },
  {
   "cell_type": "code",
   "execution_count": 25,
   "id": "875153c9",
   "metadata": {},
   "outputs": [
    {
     "name": "stdout",
     "output_type": "stream",
     "text": [
      "Fitting 5 folds for each of 196 candidates, totalling 980 fits\n",
      "The best parameters are {'algorithm': 'auto', 'n_neighbors': 14} with a score of 0.88108\n"
     ]
    }
   ],
   "source": [
    "n_neighbors = np.arange(1, 50)\n",
    "algorithm = ['auto', 'ball_tree', 'kd_tree', 'brute']\n",
    "\n",
    "param_grid = dict(\n",
    "    n_neighbors = n_neighbors,\n",
    "    algorithm = algorithm\n",
    ")\n",
    "\n",
    "cv = StratifiedShuffleSplit(\n",
    "    n_splits=5,\n",
    "    test_size=0.3\n",
    ")\n",
    "\n",
    "grid = GridSearchCV(\n",
    "    KNeighborsClassifier(),\n",
    "    param_grid = param_grid,\n",
    "    cv = cv,\n",
    "    scoring = 'accuracy',\n",
    "    verbose = 4,\n",
    "    n_jobs = -1\n",
    ")\n",
    "\n",
    "grid.fit(x_monk3_tr, y_monk3_tr)\n",
    "\n",
    "print(\n",
    "    \"The best parameters are %s with a score of %0.5f\"\n",
    "    % (grid.best_params_, grid.best_score_)\n",
    ")"
   ]
  },
  {
   "cell_type": "code",
   "execution_count": 26,
   "id": "125c0289",
   "metadata": {},
   "outputs": [],
   "source": [
    "knn = grid.best_estimator_"
   ]
  },
  {
   "cell_type": "code",
   "execution_count": 27,
   "id": "3b03247a",
   "metadata": {},
   "outputs": [
    {
     "data": {
      "image/png": "[encoded data removed]",
      "text/plain": [
       "<Figure size 640x480 with 2 Axes>"
      ]
     },
     "metadata": {},
     "output_type": "display_data"
    }
   ],
   "source": [
    "predictions = knn.predict(x_monk3_tr)\n",
    "\n",
    "cm = confusion_matrix(y_monk3_tr, predictions)\n",
    "disp = ConfusionMatrixDisplay(confusion_matrix=cm)\n",
    "disp.plot()\n",
    "plt.show()"
   ]
  },
  {
   "cell_type": "markdown",
   "id": "caccd0d1",
   "metadata": {},
   "source": [
    "### Model selection\n",
    "We choose the model that returns the best accuracy on the validation set."
   ]
  },
  {
   "cell_type": "code",
   "execution_count": 28,
   "id": "c6d1012c",
   "metadata": {},
   "outputs": [
    {
     "data": {
      "text/plain": [
       "['./results/monk3/KNN/knn.z']"
      ]
     },
     "execution_count": 28,
     "metadata": {},
     "output_type": "execute_result"
    }
   ],
   "source": [
    "joblib.dump(knn, './results/monk3/KNN/knn.z')"
   ]
  },
  {
   "cell_type": "markdown",
   "id": "e0efdbfc",
   "metadata": {},
   "source": [
    "### Model assessment\n",
    "After the selection phase we assess the generalization capabilities of the final model."
   ]
  },
  {
   "cell_type": "code",
   "execution_count": 29,
   "id": "a490634f",
   "metadata": {},
   "outputs": [],
   "source": [
    "score3 = knn.score(x_monk3_ts, y_monk3_ts)"
   ]
  },
  {
   "cell_type": "code",
   "execution_count": 30,
   "id": "fb46fba4",
   "metadata": {},
   "outputs": [
    {
     "name": "stdout",
     "output_type": "stream",
     "text": [
      "Final accuracy on the test set: 0.8634259259259259\n"
     ]
    }
   ],
   "source": [
    "print(\"Final accuracy on the test set: \" + str(score3))"
   ]
  },
  {
   "cell_type": "code",
   "execution_count": 31,
   "id": "563db8f3",
   "metadata": {},
   "outputs": [
    {
     "data": {
      "image/png": "[encoded data removed]",
      "text/plain": [
       "<Figure size 640x480 with 2 Axes>"
      ]
     },
     "metadata": {},
     "output_type": "display_data"
    }
   ],
   "source": [
    "predictions = knn.predict(x_monk3_ts)\n",
    "\n",
    "cm = confusion_matrix(y_monk3_ts, predictions)\n",
    "disp = ConfusionMatrixDisplay(confusion_matrix=cm)\n",
    "disp.plot()\n",
    "plt.show()"
   ]
  }
 ],
 "metadata": {
  "kernelspec": {
   "display_name": "Python 3 (ipykernel)",
   "language": "python",
   "name": "python3"
  },
  "language_info": {
   "codemirror_mode": {
    "name": "ipython",
    "version": 3
   },
   "file_extension": ".py",
   "mimetype": "text/x-python",
   "name": "python",
   "nbconvert_exporter": "python",
   "pygments_lexer": "ipython3",
   "version": "3.9.13"
  }
 },
 "nbformat": 4,
 "nbformat_minor": 5
}
