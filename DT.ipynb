{
 "cells": [
  {
   "cell_type": "markdown",
   "id": "da5844b4",
   "metadata": {},
   "source": [
    "# Decision Trees and Random Forests with scikit"
   ]
  },
  {
   "cell_type": "code",
   "execution_count": 1,
   "id": "ed221276",
   "metadata": {},
   "outputs": [],
   "source": [
    "import numpy as np\n",
    "import pandas as pd\n",
    "from sklearn import tree\n",
    "from sklearn.ensemble import RandomForestClassifier\n",
    "from sklearn.model_selection import GridSearchCV\n",
    "from sklearn.model_selection import RandomizedSearchCV\n",
    "from sklearn.model_selection import train_test_split\n",
    "from sklearn.preprocessing import OneHotEncoder\n",
    "from sklearn.utils import shuffle\n",
    "from sklearn import tree\n",
    "from sklearn.metrics import ConfusionMatrixDisplay, confusion_matrix\n",
    "import statistics\n",
    "import matplotlib.pyplot as plt\n",
    "import joblib"
   ]
  },
  {
   "cell_type": "markdown",
   "id": "a41ca244",
   "metadata": {},
   "source": [
    "## Monk 1"
   ]
  },
  {
   "cell_type": "code",
   "execution_count": 2,
   "id": "682c4540",
   "metadata": {},
   "outputs": [],
   "source": [
    "colnames = ['class', 'a1', 'a2', 'a3', 'a4', 'a5', 'a6', 'id']\n",
    "monk1_tr = pd.read_csv(\"./dataset/monk1/monks-1.train\", sep = \" \", skipinitialspace=True, names = colnames)\n",
    "monk1_tr = monk1_tr.drop('id', axis = 1)\n",
    "\n",
    "monk1_ts = pd.read_csv(\"./dataset/monk1/monks-1.test\", sep = \" \", skipinitialspace=True, names = colnames)\n",
    "monk1_ts = monk1_ts.drop('id', axis = 1)"
   ]
  },
  {
   "cell_type": "code",
   "execution_count": 3,
   "id": "9d63b0dd",
   "metadata": {},
   "outputs": [],
   "source": [
    "x_monk1_tr = monk1_tr.iloc[:, 1:7].values\n",
    "y_monk1_tr = monk1_tr.iloc[:, 0].values\n",
    "\n",
    "x_monk1_ts = monk1_ts.iloc[:, 1:7].values\n",
    "y_monk1_ts = monk1_ts.iloc[:, 0].values"
   ]
  },
  {
   "cell_type": "code",
   "execution_count": 4,
   "id": "a182a288",
   "metadata": {},
   "outputs": [],
   "source": [
    "one_hot_encoder_tr = OneHotEncoder(sparse=False)\n",
    "one_hot_encoder_tr.fit(x_monk1_tr)\n",
    "x_monk1_tr = one_hot_encoder_tr.transform(x_monk1_tr)\n",
    "\n",
    "one_hot_encoder_ts = OneHotEncoder(sparse=False)\n",
    "one_hot_encoder_ts.fit(x_monk1_ts)\n",
    "x_monk1_ts = one_hot_encoder_ts.transform(x_monk1_ts)\n",
    "\n",
    "x_monk1_tr, y_monk1_tr = shuffle(x_monk1_tr, y_monk1_tr)\n",
    "x_monk1_ts, y_monk1_ts = shuffle(x_monk1_ts, y_monk1_ts)"
   ]
  },
  {
   "cell_type": "code",
   "execution_count": 74,
   "id": "f67a6438",
   "metadata": {},
   "outputs": [
    {
     "name": "stdout",
     "output_type": "stream",
     "text": [
      "Fitting 5 folds for each of 18 candidates, totalling 90 fits\n",
      "[CV 1/5] END criterion=gini, min_samples_split=1, splitter=best;, score=nan total time=   0.0s\n",
      "[CV 2/5] END criterion=gini, min_samples_split=1, splitter=best;, score=nan total time=   0.0s\n",
      "[CV 3/5] END criterion=gini, min_samples_split=1, splitter=best;, score=nan total time=   0.0s\n",
      "[CV 4/5] END criterion=gini, min_samples_split=1, splitter=best;, score=nan total time=   0.0s\n",
      "[CV 5/5] END criterion=gini, min_samples_split=1, splitter=best;, score=nan total time=   0.0s\n",
      "[CV 1/5] END criterion=gini, min_samples_split=1, splitter=random;, score=nan total time=   0.0s\n",
      "[CV 2/5] END criterion=gini, min_samples_split=1, splitter=random;, score=nan total time=   0.0s\n",
      "[CV 3/5] END criterion=gini, min_samples_split=1, splitter=random;, score=nan total time=   0.0s\n",
      "[CV 4/5] END criterion=gini, min_samples_split=1, splitter=random;, score=nan total time=   0.0s\n",
      "[CV 5/5] END criterion=gini, min_samples_split=1, splitter=random;, score=nan total time=   0.0s\n",
      "[CV 1/5] END criterion=gini, min_samples_split=2, splitter=best;, score=0.880 total time=   0.0s\n",
      "[CV 2/5] END criterion=gini, min_samples_split=2, splitter=best;, score=0.840 total time=   0.0s\n",
      "[CV 3/5] END criterion=gini, min_samples_split=2, splitter=best;, score=0.760 total time=   0.0s\n",
      "[CV 4/5] END criterion=gini, min_samples_split=2, splitter=best;, score=0.800 total time=   0.0s\n",
      "[CV 5/5] END criterion=gini, min_samples_split=2, splitter=best;, score=0.833 total time=   0.0s\n",
      "[CV 1/5] END criterion=gini, min_samples_split=2, splitter=random;, score=0.920 total time=   0.0s\n",
      "[CV 2/5] END criterion=gini, min_samples_split=2, splitter=random;, score=0.800 total time=   0.0s\n",
      "[CV 3/5] END criterion=gini, min_samples_split=2, splitter=random;, score=0.840 total time=   0.0s\n",
      "[CV 4/5] END criterion=gini, min_samples_split=2, splitter=random;, score=0.800 total time=   0.0s\n",
      "[CV 5/5] END criterion=gini, min_samples_split=2, splitter=random;, score=0.833 total time=   0.0s\n",
      "[CV 1/5] END criterion=gini, min_samples_split=3, splitter=best;, score=0.920 total time=   0.0s\n",
      "[CV 2/5] END criterion=gini, min_samples_split=3, splitter=best;, score=0.840 total time=   0.0s\n",
      "[CV 3/5] END criterion=gini, min_samples_split=3, splitter=best;, score=0.760 total time=   0.0s\n",
      "[CV 4/5] END criterion=gini, min_samples_split=3, splitter=best;, score=0.800 total time=   0.0s\n",
      "[CV 5/5] END criterion=gini, min_samples_split=3, splitter=best;, score=0.750 total time=   0.0s\n",
      "[CV 1/5] END criterion=gini, min_samples_split=3, splitter=random;, score=0.960 total time=   0.0s\n",
      "[CV 2/5] END criterion=gini, min_samples_split=3, splitter=random;, score=0.840 total time=   0.0s\n",
      "[CV 3/5] END criterion=gini, min_samples_split=3, splitter=random;, score=0.840 total time=   0.0s\n",
      "[CV 4/5] END criterion=gini, min_samples_split=3, splitter=random;, score=0.800 total time=   0.0s\n",
      "[CV 5/5] END criterion=gini, min_samples_split=3, splitter=random;, score=0.792 total time=   0.0s\n",
      "[CV 1/5] END criterion=entropy, min_samples_split=1, splitter=best;, score=nan total time=   0.0s\n",
      "[CV 2/5] END criterion=entropy, min_samples_split=1, splitter=best;, score=nan total time=   0.0s\n",
      "[CV 3/5] END criterion=entropy, min_samples_split=1, splitter=best;, score=nan total time=   0.0s\n",
      "[CV 4/5] END criterion=entropy, min_samples_split=1, splitter=best;, score=nan total time=   0.0s\n",
      "[CV 5/5] END criterion=entropy, min_samples_split=1, splitter=best;, score=nan total time=   0.0s\n",
      "[CV 1/5] END criterion=entropy, min_samples_split=1, splitter=random;, score=nan total time=   0.0s\n",
      "[CV 2/5] END criterion=entropy, min_samples_split=1, splitter=random;, score=nan total time=   0.0s\n",
      "[CV 3/5] END criterion=entropy, min_samples_split=1, splitter=random;, score=nan total time=   0.0s\n",
      "[CV 4/5] END criterion=entropy, min_samples_split=1, splitter=random;, score=nan total time=   0.0s\n",
      "[CV 5/5] END criterion=entropy, min_samples_split=1, splitter=random;, score=nan total time=   0.0s\n",
      "[CV 1/5] END criterion=entropy, min_samples_split=2, splitter=best;, score=0.920 total time=   0.0s\n",
      "[CV 2/5] END criterion=entropy, min_samples_split=2, splitter=best;, score=0.800 total time=   0.0s\n",
      "[CV 3/5] END criterion=entropy, min_samples_split=2, splitter=best;, score=0.840 total time=   0.0s\n",
      "[CV 4/5] END criterion=entropy, min_samples_split=2, splitter=best;, score=0.800 total time=   0.0s\n",
      "[CV 5/5] END criterion=entropy, min_samples_split=2, splitter=best;, score=0.833 total time=   0.0s\n",
      "[CV 1/5] END criterion=entropy, min_samples_split=2, splitter=random;, score=0.920 total time=   0.0s\n",
      "[CV 2/5] END criterion=entropy, min_samples_split=2, splitter=random;, score=0.800 total time=   0.0s\n",
      "[CV 3/5] END criterion=entropy, min_samples_split=2, splitter=random;, score=0.800 total time=   0.0s\n",
      "[CV 4/5] END criterion=entropy, min_samples_split=2, splitter=random;, score=0.800 total time=   0.0s\n",
      "[CV 5/5] END criterion=entropy, min_samples_split=2, splitter=random;, score=0.792 total time=   0.0s\n",
      "[CV 1/5] END criterion=entropy, min_samples_split=3, splitter=best;, score=0.920 total time=   0.0s\n",
      "[CV 2/5] END criterion=entropy, min_samples_split=3, splitter=best;, score=0.840 total time=   0.0s\n",
      "[CV 3/5] END criterion=entropy, min_samples_split=3, splitter=best;, score=0.920 total time=   0.0s\n",
      "[CV 4/5] END criterion=entropy, min_samples_split=3, splitter=best;, score=0.800 total time=   0.0s\n",
      "[CV 5/5] END criterion=entropy, min_samples_split=3, splitter=best;, score=0.750 total time=   0.0s\n",
      "[CV 1/5] END criterion=entropy, min_samples_split=3, splitter=random;, score=0.920 total time=   0.0s\n",
      "[CV 2/5] END criterion=entropy, min_samples_split=3, splitter=random;, score=0.840 total time=   0.0s\n",
      "[CV 3/5] END criterion=entropy, min_samples_split=3, splitter=random;, score=0.920 total time=   0.0s\n",
      "[CV 4/5] END criterion=entropy, min_samples_split=3, splitter=random;, score=0.840 total time=   0.0s\n",
      "[CV 5/5] END criterion=entropy, min_samples_split=3, splitter=random;, score=0.792 total time=   0.0s\n",
      "[CV 1/5] END criterion=log_loss, min_samples_split=1, splitter=best;, score=nan total time=   0.0s\n",
      "[CV 2/5] END criterion=log_loss, min_samples_split=1, splitter=best;, score=nan total time=   0.0s\n",
      "[CV 3/5] END criterion=log_loss, min_samples_split=1, splitter=best;, score=nan total time=   0.0s\n",
      "[CV 4/5] END criterion=log_loss, min_samples_split=1, splitter=best;, score=nan total time=   0.0s\n",
      "[CV 5/5] END criterion=log_loss, min_samples_split=1, splitter=best;, score=nan total time=   0.0s\n",
      "[CV 1/5] END criterion=log_loss, min_samples_split=1, splitter=random;, score=nan total time=   0.0s\n",
      "[CV 2/5] END criterion=log_loss, min_samples_split=1, splitter=random;, score=nan total time=   0.0s\n",
      "[CV 3/5] END criterion=log_loss, min_samples_split=1, splitter=random;, score=nan total time=   0.0s\n",
      "[CV 4/5] END criterion=log_loss, min_samples_split=1, splitter=random;, score=nan total time=   0.0s\n",
      "[CV 5/5] END criterion=log_loss, min_samples_split=1, splitter=random;, score=nan total time=   0.0s\n",
      "[CV 1/5] END criterion=log_loss, min_samples_split=2, splitter=best;, score=nan total time=   0.0s\n",
      "[CV 2/5] END criterion=log_loss, min_samples_split=2, splitter=best;, score=nan total time=   0.0s\n",
      "[CV 3/5] END criterion=log_loss, min_samples_split=2, splitter=best;, score=nan total time=   0.0s\n",
      "[CV 4/5] END criterion=log_loss, min_samples_split=2, splitter=best;, score=nan total time=   0.0s\n",
      "[CV 5/5] END criterion=log_loss, min_samples_split=2, splitter=best;, score=nan total time=   0.0s\n",
      "[CV 1/5] END criterion=log_loss, min_samples_split=2, splitter=random;, score=nan total time=   0.0s\n",
      "[CV 2/5] END criterion=log_loss, min_samples_split=2, splitter=random;, score=nan total time=   0.0s\n",
      "[CV 3/5] END criterion=log_loss, min_samples_split=2, splitter=random;, score=nan total time=   0.0s\n",
      "[CV 4/5] END criterion=log_loss, min_samples_split=2, splitter=random;, score=nan total time=   0.0s\n",
      "[CV 5/5] END criterion=log_loss, min_samples_split=2, splitter=random;, score=nan total time=   0.0s\n",
      "[CV 1/5] END criterion=log_loss, min_samples_split=3, splitter=best;, score=nan total time=   0.0s\n",
      "[CV 2/5] END criterion=log_loss, min_samples_split=3, splitter=best;, score=nan total time=   0.0s\n",
      "[CV 3/5] END criterion=log_loss, min_samples_split=3, splitter=best;, score=nan total time=   0.0s\n",
      "[CV 4/5] END criterion=log_loss, min_samples_split=3, splitter=best;, score=nan total time=   0.0s\n",
      "[CV 5/5] END criterion=log_loss, min_samples_split=3, splitter=best;, score=nan total time=   0.0s\n",
      "[CV 1/5] END criterion=log_loss, min_samples_split=3, splitter=random;, score=nan total time=   0.0s\n",
      "[CV 2/5] END criterion=log_loss, min_samples_split=3, splitter=random;, score=nan total time=   0.0s\n",
      "[CV 3/5] END criterion=log_loss, min_samples_split=3, splitter=random;, score=nan total time=   0.0s\n",
      "[CV 4/5] END criterion=log_loss, min_samples_split=3, splitter=random;, score=nan total time=   0.0s\n",
      "[CV 5/5] END criterion=log_loss, min_samples_split=3, splitter=random;, score=nan total time=   0.0s\n",
      "The best parameters are {'criterion': 'entropy', 'min_samples_split': 3, 'splitter': 'random'} with a score of 0.86233\n"
     ]
    },
    {
     "name": "stderr",
     "output_type": "stream",
     "text": [
      "/Users/innocenzofulginiti/opt/anaconda3/lib/python3.9/site-packages/sklearn/model_selection/_validation.py:372: FitFailedWarning: \n",
      "50 fits failed out of a total of 90.\n",
      "The score on these train-test partitions for these parameters will be set to nan.\n",
      "If these failures are not expected, you can try to debug them by setting error_score='raise'.\n",
      "\n",
      "Below are more details about the failures:\n",
      "--------------------------------------------------------------------------------\n",
      "30 fits failed with the following error:\n",
      "Traceback (most recent call last):\n",
      "  File \"/Users/innocenzofulginiti/opt/anaconda3/lib/python3.9/site-packages/sklearn/model_selection/_validation.py\", line 680, in _fit_and_score\n",
      "    estimator.fit(X_train, y_train, **fit_params)\n",
      "  File \"/Users/innocenzofulginiti/opt/anaconda3/lib/python3.9/site-packages/sklearn/tree/_classes.py\", line 937, in fit\n",
      "    super().fit(\n",
      "  File \"/Users/innocenzofulginiti/opt/anaconda3/lib/python3.9/site-packages/sklearn/tree/_classes.py\", line 250, in fit\n",
      "    raise ValueError(\n",
      "ValueError: min_samples_split must be an integer greater than 1 or a float in (0.0, 1.0]; got the integer 1\n",
      "\n",
      "--------------------------------------------------------------------------------\n",
      "20 fits failed with the following error:\n",
      "Traceback (most recent call last):\n",
      "  File \"/Users/innocenzofulginiti/opt/anaconda3/lib/python3.9/site-packages/sklearn/model_selection/_validation.py\", line 680, in _fit_and_score\n",
      "    estimator.fit(X_train, y_train, **fit_params)\n",
      "  File \"/Users/innocenzofulginiti/opt/anaconda3/lib/python3.9/site-packages/sklearn/tree/_classes.py\", line 937, in fit\n",
      "    super().fit(\n",
      "  File \"/Users/innocenzofulginiti/opt/anaconda3/lib/python3.9/site-packages/sklearn/tree/_classes.py\", line 352, in fit\n",
      "    criterion = CRITERIA_CLF[self.criterion](\n",
      "KeyError: 'log_loss'\n",
      "\n",
      "  warnings.warn(some_fits_failed_message, FitFailedWarning)\n",
      "/Users/innocenzofulginiti/opt/anaconda3/lib/python3.9/site-packages/sklearn/model_selection/_search.py:969: UserWarning: One or more of the test scores are non-finite: [       nan        nan 0.82266667 0.83866667 0.814      0.84633333\n",
      "        nan        nan 0.83866667 0.82233333 0.846      0.86233333\n",
      "        nan        nan        nan        nan        nan        nan]\n",
      "  warnings.warn(\n"
     ]
    }
   ],
   "source": [
    "param_grid = {'max_features': ['auto', 'sqrt', 'log2'],\n",
    "              'ccp_alpha': [0.1, 0.05, 0.01, 0.005, 0.001, 0.0005, 0.0001, 0],\n",
    "              'criterion' :['gini', 'entropy', 'log_loss'],\n",
    "              'splitter' :['best', 'random'],\n",
    "              'min_samples_split' :[1, 2, 3]\n",
    "             }\n",
    "\n",
    "\n",
    "dt = tree.DecisionTreeClassifier()\n",
    "\n",
    "grid = GridSearchCV(\n",
    "    dt,\n",
    "    param_grid,\n",
    "    cv=5,\n",
    "    scoring='accuracy',\n",
    "    return_train_score=False,\n",
    "    verbose=4\n",
    ")\n",
    "\n",
    "\n",
    "grid.fit(x_monk1_tr, y_monk1_tr)\n",
    "print(\n",
    "    \"The best parameters are %s with a score of %0.5f\"\n",
    "    % (grid.best_params_, grid.best_score_)\n",
    ")"
   ]
  },
  {
   "cell_type": "code",
   "execution_count": 41,
   "id": "37d69c88",
   "metadata": {},
   "outputs": [
    {
     "data": {
      "text/plain": [
       "DecisionTreeClassifier()"
      ]
     },
     "execution_count": 41,
     "metadata": {},
     "output_type": "execute_result"
    }
   ],
   "source": [
    "dt = tree.DecisionTreeClassifier() # TODO test\n",
    "dt.fit(x_monk1_tr, y_monk1_tr)"
   ]
  },
  {
   "cell_type": "code",
   "execution_count": 75,
   "id": "a84aea33",
   "metadata": {},
   "outputs": [],
   "source": [
    "dt = grid.best_estimator_\n",
    "\n",
    "train_pred = dt.predict(x_monk1_tr)\n",
    "test_pred = dt.predict(x_monk1_ts)"
   ]
  },
  {
   "cell_type": "code",
   "execution_count": 76,
   "id": "8a1c7ad6",
   "metadata": {
    "scrolled": true
   },
   "outputs": [
    {
     "data": {
      "image/png": "[encoded data removed]",
      "text/plain": [
       "<Figure size 640x480 with 2 Axes>"
      ]
     },
     "metadata": {},
     "output_type": "display_data"
    }
   ],
   "source": [
    "predictions = dt.predict(x_monk1_tr)\n",
    "\n",
    "cm = confusion_matrix(y_monk1_tr, predictions)\n",
    "disp = ConfusionMatrixDisplay(confusion_matrix=cm)\n",
    "disp.plot()\n",
    "plt.show()"
   ]
  },
  {
   "cell_type": "code",
   "execution_count": 77,
   "id": "7d80c560",
   "metadata": {},
   "outputs": [
    {
     "data": {
      "text/plain": [
       "['./results/monk1/DT/dt_monk1.z']"
      ]
     },
     "execution_count": 77,
     "metadata": {},
     "output_type": "execute_result"
    }
   ],
   "source": [
    "joblib.dump(dt, './results/monk1/DT/dt_monk1.z')"
   ]
  },
  {
   "cell_type": "markdown",
   "id": "d572c4b3",
   "metadata": {},
   "source": [
    "### Model assesstment"
   ]
  },
  {
   "cell_type": "code",
   "execution_count": 78,
   "id": "227e0cfd",
   "metadata": {},
   "outputs": [],
   "source": [
    "dt_monk1 = joblib.load('./results/monk1/DT/dt_monk1.z')"
   ]
  },
  {
   "cell_type": "code",
   "execution_count": 79,
   "id": "b1ffcb40",
   "metadata": {},
   "outputs": [],
   "source": [
    "score1 = dt_monk1.score(x_monk1_ts, y_monk1_ts)"
   ]
  },
  {
   "cell_type": "code",
   "execution_count": 80,
   "id": "f3e26663",
   "metadata": {},
   "outputs": [
    {
     "name": "stdout",
     "output_type": "stream",
     "text": [
      "Final accuracy on the test set: 0.9120370370370371\n"
     ]
    }
   ],
   "source": [
    "print(\"Final accuracy on the test set: \" + str(score1))"
   ]
  },
  {
   "cell_type": "code",
   "execution_count": 48,
   "id": "3dcde644",
   "metadata": {},
   "outputs": [
    {
     "data": {
      "image/png": "[encoded data removed]",
      "text/plain": [
       "<Figure size 640x480 with 2 Axes>"
      ]
     },
     "metadata": {},
     "output_type": "display_data"
    }
   ],
   "source": [
    "predictions = dt_monk1.predict(x_monk1_ts)\n",
    "\n",
    "cm = confusion_matrix(y_monk1_ts, predictions)\n",
    "disp = ConfusionMatrixDisplay(confusion_matrix=cm)\n",
    "disp.plot()\n",
    "plt.show()"
   ]
  },
  {
   "cell_type": "markdown",
   "id": "9cea68dd",
   "metadata": {},
   "source": [
    "## Monk 2"
   ]
  },
  {
   "cell_type": "code",
   "execution_count": 49,
   "id": "1e517625",
   "metadata": {},
   "outputs": [],
   "source": [
    "colnames = ['class', 'a1', 'a2', 'a3', 'a4', 'a5', 'a6', 'id']\n",
    "monk2_tr = pd.read_csv(\"./dataset/monk2/monks-2.train\", sep = \" \", skipinitialspace=True, names = colnames)\n",
    "monk2_tr = monk2_tr.drop('id', axis = 1)\n",
    "\n",
    "monk2_ts = pd.read_csv(\"./dataset/monk2/monks-2.test\", sep = \" \", skipinitialspace=True, names = colnames)\n",
    "monk2_ts = monk2_ts.drop('id', axis = 1)"
   ]
  },
  {
   "cell_type": "code",
   "execution_count": 50,
   "id": "6324b389",
   "metadata": {},
   "outputs": [],
   "source": [
    "x_monk2_tr = monk2_tr.iloc[:, 1:7].values\n",
    "y_monk2_tr = monk2_tr.iloc[:, 0].values\n",
    "\n",
    "x_monk2_ts = monk2_ts.iloc[:, 1:7].values\n",
    "y_monk2_ts = monk2_ts.iloc[:, 0].values"
   ]
  },
  {
   "cell_type": "code",
   "execution_count": 51,
   "id": "bb5eda7d",
   "metadata": {},
   "outputs": [],
   "source": [
    "one_hot_encoder_tr = OneHotEncoder(sparse=False)\n",
    "one_hot_encoder_tr.fit(x_monk2_tr)\n",
    "x_monk2_tr = one_hot_encoder_tr.transform(x_monk2_tr)\n",
    "\n",
    "one_hot_encoder_ts = OneHotEncoder(sparse=False)\n",
    "one_hot_encoder_ts.fit(x_monk2_ts)\n",
    "x_monk2_ts = one_hot_encoder_ts.transform(x_monk2_ts)"
   ]
  },
  {
   "cell_type": "code",
   "execution_count": 59,
   "id": "c8da8e99",
   "metadata": {},
   "outputs": [
    {
     "name": "stdout",
     "output_type": "stream",
     "text": [
      "Fitting 5 folds for each of 54 candidates, totalling 270 fits\n",
      "[CV 1/5] END criterion=gini, max_features=auto, min_samples_split=1, splitter=best;, score=nan total time=   0.0s\n",
      "[CV 2/5] END criterion=gini, max_features=auto, min_samples_split=1, splitter=best;, score=nan total time=   0.0s\n",
      "[CV 3/5] END criterion=gini, max_features=auto, min_samples_split=1, splitter=best;, score=nan total time=   0.0s\n",
      "[CV 4/5] END criterion=gini, max_features=auto, min_samples_split=1, splitter=best;, score=nan total time=   0.0s\n",
      "[CV 5/5] END criterion=gini, max_features=auto, min_samples_split=1, splitter=best;, score=nan total time=   0.0s\n",
      "[CV 1/5] END criterion=gini, max_features=auto, min_samples_split=1, splitter=random;, score=nan total time=   0.0s\n",
      "[CV 2/5] END criterion=gini, max_features=auto, min_samples_split=1, splitter=random;, score=nan total time=   0.0s\n",
      "[CV 3/5] END criterion=gini, max_features=auto, min_samples_split=1, splitter=random;, score=nan total time=   0.0s\n",
      "[CV 4/5] END criterion=gini, max_features=auto, min_samples_split=1, splitter=random;, score=nan total time=   0.0s\n",
      "[CV 5/5] END criterion=gini, max_features=auto, min_samples_split=1, splitter=random;, score=nan total time=   0.0s\n",
      "[CV 1/5] END criterion=gini, max_features=auto, min_samples_split=2, splitter=best;, score=0.529 total time=   0.0s\n",
      "[CV 2/5] END criterion=gini, max_features=auto, min_samples_split=2, splitter=best;, score=0.529 total time=   0.0s\n",
      "[CV 3/5] END criterion=gini, max_features=auto, min_samples_split=2, splitter=best;, score=0.471 total time=   0.0s\n",
      "[CV 4/5] END criterion=gini, max_features=auto, min_samples_split=2, splitter=best;, score=0.676 total time=   0.0s\n",
      "[CV 5/5] END criterion=gini, max_features=auto, min_samples_split=2, splitter=best;, score=0.485 total time=   0.0s\n",
      "[CV 1/5] END criterion=gini, max_features=auto, min_samples_split=2, splitter=random;, score=0.618 total time=   0.0s\n",
      "[CV 2/5] END criterion=gini, max_features=auto, min_samples_split=2, splitter=random;, score=0.471 total time=   0.0s\n",
      "[CV 3/5] END criterion=gini, max_features=auto, min_samples_split=2, splitter=random;, score=0.618 total time=   0.0s\n",
      "[CV 4/5] END criterion=gini, max_features=auto, min_samples_split=2, splitter=random;, score=0.500 total time=   0.0s\n",
      "[CV 5/5] END criterion=gini, max_features=auto, min_samples_split=2, splitter=random;, score=0.636 total time=   0.0s\n",
      "[CV 1/5] END criterion=gini, max_features=auto, min_samples_split=3, splitter=best;, score=0.588 total time=   0.0s\n",
      "[CV 2/5] END criterion=gini, max_features=auto, min_samples_split=3, splitter=best;, score=0.559 total time=   0.0s\n",
      "[CV 3/5] END criterion=gini, max_features=auto, min_samples_split=3, splitter=best;, score=0.294 total time=   0.0s\n",
      "[CV 4/5] END criterion=gini, max_features=auto, min_samples_split=3, splitter=best;, score=0.588 total time=   0.0s\n",
      "[CV 5/5] END criterion=gini, max_features=auto, min_samples_split=3, splitter=best;, score=0.515 total time=   0.0s\n",
      "[CV 1/5] END criterion=gini, max_features=auto, min_samples_split=3, splitter=random;, score=0.382 total time=   0.0s\n",
      "[CV 2/5] END criterion=gini, max_features=auto, min_samples_split=3, splitter=random;, score=0.529 total time=   0.0s\n",
      "[CV 3/5] END criterion=gini, max_features=auto, min_samples_split=3, splitter=random;, score=0.382 total time=   0.0s\n",
      "[CV 4/5] END criterion=gini, max_features=auto, min_samples_split=3, splitter=random;, score=0.529 total time=   0.0s\n",
      "[CV 5/5] END criterion=gini, max_features=auto, min_samples_split=3, splitter=random;, score=0.606 total time=   0.0s\n",
      "[CV 1/5] END criterion=gini, max_features=sqrt, min_samples_split=1, splitter=best;, score=nan total time=   0.0s\n",
      "[CV 2/5] END criterion=gini, max_features=sqrt, min_samples_split=1, splitter=best;, score=nan total time=   0.0s\n",
      "[CV 3/5] END criterion=gini, max_features=sqrt, min_samples_split=1, splitter=best;, score=nan total time=   0.0s\n",
      "[CV 4/5] END criterion=gini, max_features=sqrt, min_samples_split=1, splitter=best;, score=nan total time=   0.0s\n",
      "[CV 5/5] END criterion=gini, max_features=sqrt, min_samples_split=1, splitter=best;, score=nan total time=   0.0s\n",
      "[CV 1/5] END criterion=gini, max_features=sqrt, min_samples_split=1, splitter=random;, score=nan total time=   0.0s\n",
      "[CV 2/5] END criterion=gini, max_features=sqrt, min_samples_split=1, splitter=random;, score=nan total time=   0.0s\n",
      "[CV 3/5] END criterion=gini, max_features=sqrt, min_samples_split=1, splitter=random;, score=nan total time=   0.0s\n",
      "[CV 4/5] END criterion=gini, max_features=sqrt, min_samples_split=1, splitter=random;, score=nan total time=   0.0s\n",
      "[CV 5/5] END criterion=gini, max_features=sqrt, min_samples_split=1, splitter=random;, score=nan total time=   0.0s\n",
      "[CV 1/5] END criterion=gini, max_features=sqrt, min_samples_split=2, splitter=best;, score=0.529 total time=   0.0s\n",
      "[CV 2/5] END criterion=gini, max_features=sqrt, min_samples_split=2, splitter=best;, score=0.529 total time=   0.0s\n",
      "[CV 3/5] END criterion=gini, max_features=sqrt, min_samples_split=2, splitter=best;, score=0.647 total time=   0.0s\n",
      "[CV 4/5] END criterion=gini, max_features=sqrt, min_samples_split=2, splitter=best;, score=0.618 total time=   0.0s\n",
      "[CV 5/5] END criterion=gini, max_features=sqrt, min_samples_split=2, splitter=best;, score=0.515 total time=   0.0s\n",
      "[CV 1/5] END criterion=gini, max_features=sqrt, min_samples_split=2, splitter=random;, score=0.618 total time=   0.0s\n",
      "[CV 2/5] END criterion=gini, max_features=sqrt, min_samples_split=2, splitter=random;, score=0.441 total time=   0.0s\n",
      "[CV 3/5] END criterion=gini, max_features=sqrt, min_samples_split=2, splitter=random;, score=0.265 total time=   0.0s\n",
      "[CV 4/5] END criterion=gini, max_features=sqrt, min_samples_split=2, splitter=random;, score=0.647 total time=   0.0s\n",
      "[CV 5/5] END criterion=gini, max_features=sqrt, min_samples_split=2, splitter=random;, score=0.697 total time=   0.0s\n",
      "[CV 1/5] END criterion=gini, max_features=sqrt, min_samples_split=3, splitter=best;, score=0.588 total time=   0.0s\n",
      "[CV 2/5] END criterion=gini, max_features=sqrt, min_samples_split=3, splitter=best;, score=0.588 total time=   0.0s\n",
      "[CV 3/5] END criterion=gini, max_features=sqrt, min_samples_split=3, splitter=best;, score=0.529 total time=   0.0s\n",
      "[CV 4/5] END criterion=gini, max_features=sqrt, min_samples_split=3, splitter=best;, score=0.559 total time=   0.0s\n",
      "[CV 5/5] END criterion=gini, max_features=sqrt, min_samples_split=3, splitter=best;, score=0.485 total time=   0.0s\n",
      "[CV 1/5] END criterion=gini, max_features=sqrt, min_samples_split=3, splitter=random;, score=0.647 total time=   0.0s\n",
      "[CV 2/5] END criterion=gini, max_features=sqrt, min_samples_split=3, splitter=random;, score=0.441 total time=   0.0s\n",
      "[CV 3/5] END criterion=gini, max_features=sqrt, min_samples_split=3, splitter=random;, score=0.588 total time=   0.0s\n",
      "[CV 4/5] END criterion=gini, max_features=sqrt, min_samples_split=3, splitter=random;, score=0.618 total time=   0.0s\n",
      "[CV 5/5] END criterion=gini, max_features=sqrt, min_samples_split=3, splitter=random;, score=0.576 total time=   0.0s\n",
      "[CV 1/5] END criterion=gini, max_features=log2, min_samples_split=1, splitter=best;, score=nan total time=   0.0s\n",
      "[CV 2/5] END criterion=gini, max_features=log2, min_samples_split=1, splitter=best;, score=nan total time=   0.0s\n",
      "[CV 3/5] END criterion=gini, max_features=log2, min_samples_split=1, splitter=best;, score=nan total time=   0.0s\n",
      "[CV 4/5] END criterion=gini, max_features=log2, min_samples_split=1, splitter=best;, score=nan total time=   0.0s\n",
      "[CV 5/5] END criterion=gini, max_features=log2, min_samples_split=1, splitter=best;, score=nan total time=   0.0s\n",
      "[CV 1/5] END criterion=gini, max_features=log2, min_samples_split=1, splitter=random;, score=nan total time=   0.0s\n",
      "[CV 2/5] END criterion=gini, max_features=log2, min_samples_split=1, splitter=random;, score=nan total time=   0.0s\n",
      "[CV 3/5] END criterion=gini, max_features=log2, min_samples_split=1, splitter=random;, score=nan total time=   0.0s\n",
      "[CV 4/5] END criterion=gini, max_features=log2, min_samples_split=1, splitter=random;, score=nan total time=   0.0s\n",
      "[CV 5/5] END criterion=gini, max_features=log2, min_samples_split=1, splitter=random;, score=nan total time=   0.0s\n",
      "[CV 1/5] END criterion=gini, max_features=log2, min_samples_split=2, splitter=best;, score=0.529 total time=   0.0s\n",
      "[CV 2/5] END criterion=gini, max_features=log2, min_samples_split=2, splitter=best;, score=0.529 total time=   0.0s\n",
      "[CV 3/5] END criterion=gini, max_features=log2, min_samples_split=2, splitter=best;, score=0.529 total time=   0.0s\n",
      "[CV 4/5] END criterion=gini, max_features=log2, min_samples_split=2, splitter=best;, score=0.706 total time=   0.0s\n",
      "[CV 5/5] END criterion=gini, max_features=log2, min_samples_split=2, splitter=best;, score=0.636 total time=   0.0s\n",
      "[CV 1/5] END criterion=gini, max_features=log2, min_samples_split=2, splitter=random;, score=0.618 total time=   0.0s\n",
      "[CV 2/5] END criterion=gini, max_features=log2, min_samples_split=2, splitter=random;, score=0.441 total time=   0.0s\n",
      "[CV 3/5] END criterion=gini, max_features=log2, min_samples_split=2, splitter=random;, score=0.471 total time=   0.0s\n",
      "[CV 4/5] END criterion=gini, max_features=log2, min_samples_split=2, splitter=random;, score=0.647 total time=   0.0s\n",
      "[CV 5/5] END criterion=gini, max_features=log2, min_samples_split=2, splitter=random;, score=0.636 total time=   0.0s\n",
      "[CV 1/5] END criterion=gini, max_features=log2, min_samples_split=3, splitter=best;, score=0.647 total time=   0.0s\n",
      "[CV 2/5] END criterion=gini, max_features=log2, min_samples_split=3, splitter=best;, score=0.471 total time=   0.0s\n",
      "[CV 3/5] END criterion=gini, max_features=log2, min_samples_split=3, splitter=best;, score=0.353 total time=   0.0s\n",
      "[CV 4/5] END criterion=gini, max_features=log2, min_samples_split=3, splitter=best;, score=0.706 total time=   0.0s\n",
      "[CV 5/5] END criterion=gini, max_features=log2, min_samples_split=3, splitter=best;, score=0.515 total time=   0.0s\n",
      "[CV 1/5] END criterion=gini, max_features=log2, min_samples_split=3, splitter=random;, score=0.647 total time=   0.0s\n",
      "[CV 2/5] END criterion=gini, max_features=log2, min_samples_split=3, splitter=random;, score=0.676 total time=   0.0s\n",
      "[CV 3/5] END criterion=gini, max_features=log2, min_samples_split=3, splitter=random;, score=0.441 total time=   0.0s\n",
      "[CV 4/5] END criterion=gini, max_features=log2, min_samples_split=3, splitter=random;, score=0.706 total time=   0.0s\n",
      "[CV 5/5] END criterion=gini, max_features=log2, min_samples_split=3, splitter=random;, score=0.697 total time=   0.0s\n",
      "[CV 1/5] END criterion=entropy, max_features=auto, min_samples_split=1, splitter=best;, score=nan total time=   0.0s\n",
      "[CV 2/5] END criterion=entropy, max_features=auto, min_samples_split=1, splitter=best;, score=nan total time=   0.0s\n",
      "[CV 3/5] END criterion=entropy, max_features=auto, min_samples_split=1, splitter=best;, score=nan total time=   0.0s\n",
      "[CV 4/5] END criterion=entropy, max_features=auto, min_samples_split=1, splitter=best;, score=nan total time=   0.0s\n",
      "[CV 5/5] END criterion=entropy, max_features=auto, min_samples_split=1, splitter=best;, score=nan total time=   0.0s\n",
      "[CV 1/5] END criterion=entropy, max_features=auto, min_samples_split=1, splitter=random;, score=nan total time=   0.0s\n",
      "[CV 2/5] END criterion=entropy, max_features=auto, min_samples_split=1, splitter=random;, score=nan total time=   0.0s\n",
      "[CV 3/5] END criterion=entropy, max_features=auto, min_samples_split=1, splitter=random;, score=nan total time=   0.0s\n",
      "[CV 4/5] END criterion=entropy, max_features=auto, min_samples_split=1, splitter=random;, score=nan total time=   0.0s\n",
      "[CV 5/5] END criterion=entropy, max_features=auto, min_samples_split=1, splitter=random;, score=nan total time=   0.0s\n",
      "[CV 1/5] END criterion=entropy, max_features=auto, min_samples_split=2, splitter=best;, score=0.471 total time=   0.0s\n",
      "[CV 2/5] END criterion=entropy, max_features=auto, min_samples_split=2, splitter=best;, score=0.618 total time=   0.0s\n",
      "[CV 3/5] END criterion=entropy, max_features=auto, min_samples_split=2, splitter=best;, score=0.382 total time=   0.0s\n",
      "[CV 4/5] END criterion=entropy, max_features=auto, min_samples_split=2, splitter=best;, score=0.382 total time=   0.0s\n",
      "[CV 5/5] END criterion=entropy, max_features=auto, min_samples_split=2, splitter=best;, score=0.667 total time=   0.0s\n",
      "[CV 1/5] END criterion=entropy, max_features=auto, min_samples_split=2, splitter=random;, score=0.618 total time=   0.0s\n",
      "[CV 2/5] END criterion=entropy, max_features=auto, min_samples_split=2, splitter=random;, score=0.529 total time=   0.0s\n",
      "[CV 3/5] END criterion=entropy, max_features=auto, min_samples_split=2, splitter=random;, score=0.588 total time=   0.0s\n",
      "[CV 4/5] END criterion=entropy, max_features=auto, min_samples_split=2, splitter=random;, score=0.588 total time=   0.0s\n",
      "[CV 5/5] END criterion=entropy, max_features=auto, min_samples_split=2, splitter=random;, score=0.455 total time=   0.0s\n",
      "[CV 1/5] END criterion=entropy, max_features=auto, min_samples_split=3, splitter=best;, score=0.618 total time=   0.0s\n",
      "[CV 2/5] END criterion=entropy, max_features=auto, min_samples_split=3, splitter=best;, score=0.588 total time=   0.0s\n",
      "[CV 3/5] END criterion=entropy, max_features=auto, min_samples_split=3, splitter=best;, score=0.235 total time=   0.0s\n",
      "[CV 4/5] END criterion=entropy, max_features=auto, min_samples_split=3, splitter=best;, score=0.529 total time=   0.0s\n",
      "[CV 5/5] END criterion=entropy, max_features=auto, min_samples_split=3, splitter=best;, score=0.788 total time=   0.0s\n",
      "[CV 1/5] END criterion=entropy, max_features=auto, min_samples_split=3, splitter=random;, score=0.529 total time=   0.0s\n",
      "[CV 2/5] END criterion=entropy, max_features=auto, min_samples_split=3, splitter=random;, score=0.559 total time=   0.0s\n",
      "[CV 3/5] END criterion=entropy, max_features=auto, min_samples_split=3, splitter=random;, score=0.471 total time=   0.0s\n",
      "[CV 4/5] END criterion=entropy, max_features=auto, min_samples_split=3, splitter=random;, score=0.794 total time=   0.0s\n",
      "[CV 5/5] END criterion=entropy, max_features=auto, min_samples_split=3, splitter=random;, score=0.606 total time=   0.0s\n",
      "[CV 1/5] END criterion=entropy, max_features=sqrt, min_samples_split=1, splitter=best;, score=nan total time=   0.0s\n",
      "[CV 2/5] END criterion=entropy, max_features=sqrt, min_samples_split=1, splitter=best;, score=nan total time=   0.0s\n",
      "[CV 3/5] END criterion=entropy, max_features=sqrt, min_samples_split=1, splitter=best;, score=nan total time=   0.0s\n",
      "[CV 4/5] END criterion=entropy, max_features=sqrt, min_samples_split=1, splitter=best;, score=nan total time=   0.0s\n",
      "[CV 5/5] END criterion=entropy, max_features=sqrt, min_samples_split=1, splitter=best;, score=nan total time=   0.0s\n",
      "[CV 1/5] END criterion=entropy, max_features=sqrt, min_samples_split=1, splitter=random;, score=nan total time=   0.0s\n",
      "[CV 2/5] END criterion=entropy, max_features=sqrt, min_samples_split=1, splitter=random;, score=nan total time=   0.0s\n",
      "[CV 3/5] END criterion=entropy, max_features=sqrt, min_samples_split=1, splitter=random;, score=nan total time=   0.0s\n",
      "[CV 4/5] END criterion=entropy, max_features=sqrt, min_samples_split=1, splitter=random;, score=nan total time=   0.0s\n",
      "[CV 5/5] END criterion=entropy, max_features=sqrt, min_samples_split=1, splitter=random;, score=nan total time=   0.0s\n",
      "[CV 1/5] END criterion=entropy, max_features=sqrt, min_samples_split=2, splitter=best;, score=0.500 total time=   0.0s\n",
      "[CV 2/5] END criterion=entropy, max_features=sqrt, min_samples_split=2, splitter=best;, score=0.559 total time=   0.0s\n",
      "[CV 3/5] END criterion=entropy, max_features=sqrt, min_samples_split=2, splitter=best;, score=0.412 total time=   0.0s\n",
      "[CV 4/5] END criterion=entropy, max_features=sqrt, min_samples_split=2, splitter=best;, score=0.559 total time=   0.0s\n",
      "[CV 5/5] END criterion=entropy, max_features=sqrt, min_samples_split=2, splitter=best;, score=0.394 total time=   0.0s\n",
      "[CV 1/5] END criterion=entropy, max_features=sqrt, min_samples_split=2, splitter=random;, score=0.471 total time=   0.0s\n",
      "[CV 2/5] END criterion=entropy, max_features=sqrt, min_samples_split=2, splitter=random;, score=0.588 total time=   0.0s\n",
      "[CV 3/5] END criterion=entropy, max_features=sqrt, min_samples_split=2, splitter=random;, score=0.529 total time=   0.0s\n",
      "[CV 4/5] END criterion=entropy, max_features=sqrt, min_samples_split=2, splitter=random;, score=0.324 total time=   0.0s\n",
      "[CV 5/5] END criterion=entropy, max_features=sqrt, min_samples_split=2, splitter=random;, score=0.455 total time=   0.0s\n",
      "[CV 1/5] END criterion=entropy, max_features=sqrt, min_samples_split=3, splitter=best;, score=0.647 total time=   0.0s\n",
      "[CV 2/5] END criterion=entropy, max_features=sqrt, min_samples_split=3, splitter=best;, score=0.529 total time=   0.0s\n",
      "[CV 3/5] END criterion=entropy, max_features=sqrt, min_samples_split=3, splitter=best;, score=0.324 total time=   0.0s\n",
      "[CV 4/5] END criterion=entropy, max_features=sqrt, min_samples_split=3, splitter=best;, score=0.382 total time=   0.0s\n",
      "[CV 5/5] END criterion=entropy, max_features=sqrt, min_samples_split=3, splitter=best;, score=0.545 total time=   0.0s\n",
      "[CV 1/5] END criterion=entropy, max_features=sqrt, min_samples_split=3, splitter=random;, score=0.647 total time=   0.0s\n",
      "[CV 2/5] END criterion=entropy, max_features=sqrt, min_samples_split=3, splitter=random;, score=0.559 total time=   0.0s\n",
      "[CV 3/5] END criterion=entropy, max_features=sqrt, min_samples_split=3, splitter=random;, score=0.500 total time=   0.0s\n",
      "[CV 4/5] END criterion=entropy, max_features=sqrt, min_samples_split=3, splitter=random;, score=0.706 total time=   0.0s\n",
      "[CV 5/5] END criterion=entropy, max_features=sqrt, min_samples_split=3, splitter=random;, score=0.697 total time=   0.0s\n",
      "[CV 1/5] END criterion=entropy, max_features=log2, min_samples_split=1, splitter=best;, score=nan total time=   0.0s\n",
      "[CV 2/5] END criterion=entropy, max_features=log2, min_samples_split=1, splitter=best;, score=nan total time=   0.0s\n",
      "[CV 3/5] END criterion=entropy, max_features=log2, min_samples_split=1, splitter=best;, score=nan total time=   0.0s\n",
      "[CV 4/5] END criterion=entropy, max_features=log2, min_samples_split=1, splitter=best;, score=nan total time=   0.0s\n",
      "[CV 5/5] END criterion=entropy, max_features=log2, min_samples_split=1, splitter=best;, score=nan total time=   0.0s\n",
      "[CV 1/5] END criterion=entropy, max_features=log2, min_samples_split=1, splitter=random;, score=nan total time=   0.0s\n",
      "[CV 2/5] END criterion=entropy, max_features=log2, min_samples_split=1, splitter=random;, score=nan total time=   0.0s\n",
      "[CV 3/5] END criterion=entropy, max_features=log2, min_samples_split=1, splitter=random;, score=nan total time=   0.0s\n",
      "[CV 4/5] END criterion=entropy, max_features=log2, min_samples_split=1, splitter=random;, score=nan total time=   0.0s\n",
      "[CV 5/5] END criterion=entropy, max_features=log2, min_samples_split=1, splitter=random;, score=nan total time=   0.0s\n",
      "[CV 1/5] END criterion=entropy, max_features=log2, min_samples_split=2, splitter=best;, score=0.559 total time=   0.0s\n",
      "[CV 2/5] END criterion=entropy, max_features=log2, min_samples_split=2, splitter=best;, score=0.471 total time=   0.0s\n",
      "[CV 3/5] END criterion=entropy, max_features=log2, min_samples_split=2, splitter=best;, score=0.324 total time=   0.0s\n",
      "[CV 4/5] END criterion=entropy, max_features=log2, min_samples_split=2, splitter=best;, score=0.618 total time=   0.0s\n",
      "[CV 5/5] END criterion=entropy, max_features=log2, min_samples_split=2, splitter=best;, score=0.455 total time=   0.0s\n",
      "[CV 1/5] END criterion=entropy, max_features=log2, min_samples_split=2, splitter=random;, score=0.618 total time=   0.0s\n",
      "[CV 2/5] END criterion=entropy, max_features=log2, min_samples_split=2, splitter=random;, score=0.559 total time=   0.0s\n",
      "[CV 3/5] END criterion=entropy, max_features=log2, min_samples_split=2, splitter=random;, score=0.676 total time=   0.0s\n",
      "[CV 4/5] END criterion=entropy, max_features=log2, min_samples_split=2, splitter=random;, score=0.588 total time=   0.0s\n",
      "[CV 5/5] END criterion=entropy, max_features=log2, min_samples_split=2, splitter=random;, score=0.455 total time=   0.0s\n",
      "[CV 1/5] END criterion=entropy, max_features=log2, min_samples_split=3, splitter=best;, score=0.559 total time=   0.0s\n",
      "[CV 2/5] END criterion=entropy, max_features=log2, min_samples_split=3, splitter=best;, score=0.559 total time=   0.0s\n",
      "[CV 3/5] END criterion=entropy, max_features=log2, min_samples_split=3, splitter=best;, score=0.618 total time=   0.0s\n",
      "[CV 4/5] END criterion=entropy, max_features=log2, min_samples_split=3, splitter=best;, score=0.500 total time=   0.0s\n",
      "[CV 5/5] END criterion=entropy, max_features=log2, min_samples_split=3, splitter=best;, score=0.576 total time=   0.0s\n",
      "[CV 1/5] END criterion=entropy, max_features=log2, min_samples_split=3, splitter=random;, score=0.676 total time=   0.0s\n",
      "[CV 2/5] END criterion=entropy, max_features=log2, min_samples_split=3, splitter=random;, score=0.647 total time=   0.0s\n",
      "[CV 3/5] END criterion=entropy, max_features=log2, min_samples_split=3, splitter=random;, score=0.500 total time=   0.0s\n",
      "[CV 4/5] END criterion=entropy, max_features=log2, min_samples_split=3, splitter=random;, score=0.588 total time=   0.0s\n",
      "[CV 5/5] END criterion=entropy, max_features=log2, min_samples_split=3, splitter=random;, score=0.424 total time=   0.0s\n",
      "[CV 1/5] END criterion=log_loss, max_features=auto, min_samples_split=1, splitter=best;, score=nan total time=   0.0s\n",
      "[CV 2/5] END criterion=log_loss, max_features=auto, min_samples_split=1, splitter=best;, score=nan total time=   0.0s\n",
      "[CV 3/5] END criterion=log_loss, max_features=auto, min_samples_split=1, splitter=best;, score=nan total time=   0.0s\n",
      "[CV 4/5] END criterion=log_loss, max_features=auto, min_samples_split=1, splitter=best;, score=nan total time=   0.0s\n",
      "[CV 5/5] END criterion=log_loss, max_features=auto, min_samples_split=1, splitter=best;, score=nan total time=   0.0s\n",
      "[CV 1/5] END criterion=log_loss, max_features=auto, min_samples_split=1, splitter=random;, score=nan total time=   0.0s\n",
      "[CV 2/5] END criterion=log_loss, max_features=auto, min_samples_split=1, splitter=random;, score=nan total time=   0.0s\n",
      "[CV 3/5] END criterion=log_loss, max_features=auto, min_samples_split=1, splitter=random;, score=nan total time=   0.0s\n",
      "[CV 4/5] END criterion=log_loss, max_features=auto, min_samples_split=1, splitter=random;, score=nan total time=   0.0s\n",
      "[CV 5/5] END criterion=log_loss, max_features=auto, min_samples_split=1, splitter=random;, score=nan total time=   0.0s\n",
      "[CV 1/5] END criterion=log_loss, max_features=auto, min_samples_split=2, splitter=best;, score=nan total time=   0.0s\n",
      "[CV 2/5] END criterion=log_loss, max_features=auto, min_samples_split=2, splitter=best;, score=nan total time=   0.0s\n",
      "[CV 3/5] END criterion=log_loss, max_features=auto, min_samples_split=2, splitter=best;, score=nan total time=   0.0s\n",
      "[CV 4/5] END criterion=log_loss, max_features=auto, min_samples_split=2, splitter=best;, score=nan total time=   0.0s\n",
      "[CV 5/5] END criterion=log_loss, max_features=auto, min_samples_split=2, splitter=best;, score=nan total time=   0.0s\n",
      "[CV 1/5] END criterion=log_loss, max_features=auto, min_samples_split=2, splitter=random;, score=nan total time=   0.0s\n",
      "[CV 2/5] END criterion=log_loss, max_features=auto, min_samples_split=2, splitter=random;, score=nan total time=   0.0s\n",
      "[CV 3/5] END criterion=log_loss, max_features=auto, min_samples_split=2, splitter=random;, score=nan total time=   0.0s\n",
      "[CV 4/5] END criterion=log_loss, max_features=auto, min_samples_split=2, splitter=random;, score=nan total time=   0.0s\n",
      "[CV 5/5] END criterion=log_loss, max_features=auto, min_samples_split=2, splitter=random;, score=nan total time=   0.0s\n",
      "[CV 1/5] END criterion=log_loss, max_features=auto, min_samples_split=3, splitter=best;, score=nan total time=   0.0s\n",
      "[CV 2/5] END criterion=log_loss, max_features=auto, min_samples_split=3, splitter=best;, score=nan total time=   0.0s\n",
      "[CV 3/5] END criterion=log_loss, max_features=auto, min_samples_split=3, splitter=best;, score=nan total time=   0.0s\n",
      "[CV 4/5] END criterion=log_loss, max_features=auto, min_samples_split=3, splitter=best;, score=nan total time=   0.0s\n",
      "[CV 5/5] END criterion=log_loss, max_features=auto, min_samples_split=3, splitter=best;, score=nan total time=   0.0s\n",
      "[CV 1/5] END criterion=log_loss, max_features=auto, min_samples_split=3, splitter=random;, score=nan total time=   0.0s\n",
      "[CV 2/5] END criterion=log_loss, max_features=auto, min_samples_split=3, splitter=random;, score=nan total time=   0.0s\n",
      "[CV 3/5] END criterion=log_loss, max_features=auto, min_samples_split=3, splitter=random;, score=nan total time=   0.0s\n",
      "[CV 4/5] END criterion=log_loss, max_features=auto, min_samples_split=3, splitter=random;, score=nan total time=   0.0s\n",
      "[CV 5/5] END criterion=log_loss, max_features=auto, min_samples_split=3, splitter=random;, score=nan total time=   0.0s\n",
      "[CV 1/5] END criterion=log_loss, max_features=sqrt, min_samples_split=1, splitter=best;, score=nan total time=   0.0s\n",
      "[CV 2/5] END criterion=log_loss, max_features=sqrt, min_samples_split=1, splitter=best;, score=nan total time=   0.0s\n",
      "[CV 3/5] END criterion=log_loss, max_features=sqrt, min_samples_split=1, splitter=best;, score=nan total time=   0.0s\n",
      "[CV 4/5] END criterion=log_loss, max_features=sqrt, min_samples_split=1, splitter=best;, score=nan total time=   0.0s\n",
      "[CV 5/5] END criterion=log_loss, max_features=sqrt, min_samples_split=1, splitter=best;, score=nan total time=   0.0s\n",
      "[CV 1/5] END criterion=log_loss, max_features=sqrt, min_samples_split=1, splitter=random;, score=nan total time=   0.0s\n",
      "[CV 2/5] END criterion=log_loss, max_features=sqrt, min_samples_split=1, splitter=random;, score=nan total time=   0.0s\n",
      "[CV 3/5] END criterion=log_loss, max_features=sqrt, min_samples_split=1, splitter=random;, score=nan total time=   0.0s\n",
      "[CV 4/5] END criterion=log_loss, max_features=sqrt, min_samples_split=1, splitter=random;, score=nan total time=   0.0s\n",
      "[CV 5/5] END criterion=log_loss, max_features=sqrt, min_samples_split=1, splitter=random;, score=nan total time=   0.0s\n",
      "[CV 1/5] END criterion=log_loss, max_features=sqrt, min_samples_split=2, splitter=best;, score=nan total time=   0.0s\n",
      "[CV 2/5] END criterion=log_loss, max_features=sqrt, min_samples_split=2, splitter=best;, score=nan total time=   0.0s\n",
      "[CV 3/5] END criterion=log_loss, max_features=sqrt, min_samples_split=2, splitter=best;, score=nan total time=   0.0s\n",
      "[CV 4/5] END criterion=log_loss, max_features=sqrt, min_samples_split=2, splitter=best;, score=nan total time=   0.0s\n",
      "[CV 5/5] END criterion=log_loss, max_features=sqrt, min_samples_split=2, splitter=best;, score=nan total time=   0.0s\n",
      "[CV 1/5] END criterion=log_loss, max_features=sqrt, min_samples_split=2, splitter=random;, score=nan total time=   0.0s\n",
      "[CV 2/5] END criterion=log_loss, max_features=sqrt, min_samples_split=2, splitter=random;, score=nan total time=   0.0s\n",
      "[CV 3/5] END criterion=log_loss, max_features=sqrt, min_samples_split=2, splitter=random;, score=nan total time=   0.0s\n",
      "[CV 4/5] END criterion=log_loss, max_features=sqrt, min_samples_split=2, splitter=random;, score=nan total time=   0.0s\n",
      "[CV 5/5] END criterion=log_loss, max_features=sqrt, min_samples_split=2, splitter=random;, score=nan total time=   0.0s\n",
      "[CV 1/5] END criterion=log_loss, max_features=sqrt, min_samples_split=3, splitter=best;, score=nan total time=   0.0s\n",
      "[CV 2/5] END criterion=log_loss, max_features=sqrt, min_samples_split=3, splitter=best;, score=nan total time=   0.0s\n",
      "[CV 3/5] END criterion=log_loss, max_features=sqrt, min_samples_split=3, splitter=best;, score=nan total time=   0.0s\n",
      "[CV 4/5] END criterion=log_loss, max_features=sqrt, min_samples_split=3, splitter=best;, score=nan total time=   0.0s\n",
      "[CV 5/5] END criterion=log_loss, max_features=sqrt, min_samples_split=3, splitter=best;, score=nan total time=   0.0s\n",
      "[CV 1/5] END criterion=log_loss, max_features=sqrt, min_samples_split=3, splitter=random;, score=nan total time=   0.0s\n",
      "[CV 2/5] END criterion=log_loss, max_features=sqrt, min_samples_split=3, splitter=random;, score=nan total time=   0.0s\n",
      "[CV 3/5] END criterion=log_loss, max_features=sqrt, min_samples_split=3, splitter=random;, score=nan total time=   0.0s\n",
      "[CV 4/5] END criterion=log_loss, max_features=sqrt, min_samples_split=3, splitter=random;, score=nan total time=   0.0s\n",
      "[CV 5/5] END criterion=log_loss, max_features=sqrt, min_samples_split=3, splitter=random;, score=nan total time=   0.0s\n",
      "[CV 1/5] END criterion=log_loss, max_features=log2, min_samples_split=1, splitter=best;, score=nan total time=   0.0s\n",
      "[CV 2/5] END criterion=log_loss, max_features=log2, min_samples_split=1, splitter=best;, score=nan total time=   0.0s\n",
      "[CV 3/5] END criterion=log_loss, max_features=log2, min_samples_split=1, splitter=best;, score=nan total time=   0.0s\n",
      "[CV 4/5] END criterion=log_loss, max_features=log2, min_samples_split=1, splitter=best;, score=nan total time=   0.0s\n",
      "[CV 5/5] END criterion=log_loss, max_features=log2, min_samples_split=1, splitter=best;, score=nan total time=   0.0s\n",
      "[CV 1/5] END criterion=log_loss, max_features=log2, min_samples_split=1, splitter=random;, score=nan total time=   0.0s\n",
      "[CV 2/5] END criterion=log_loss, max_features=log2, min_samples_split=1, splitter=random;, score=nan total time=   0.0s\n",
      "[CV 3/5] END criterion=log_loss, max_features=log2, min_samples_split=1, splitter=random;, score=nan total time=   0.0s\n",
      "[CV 4/5] END criterion=log_loss, max_features=log2, min_samples_split=1, splitter=random;, score=nan total time=   0.0s\n",
      "[CV 5/5] END criterion=log_loss, max_features=log2, min_samples_split=1, splitter=random;, score=nan total time=   0.0s\n",
      "[CV 1/5] END criterion=log_loss, max_features=log2, min_samples_split=2, splitter=best;, score=nan total time=   0.0s\n",
      "[CV 2/5] END criterion=log_loss, max_features=log2, min_samples_split=2, splitter=best;, score=nan total time=   0.0s\n",
      "[CV 3/5] END criterion=log_loss, max_features=log2, min_samples_split=2, splitter=best;, score=nan total time=   0.0s\n",
      "[CV 4/5] END criterion=log_loss, max_features=log2, min_samples_split=2, splitter=best;, score=nan total time=   0.0s\n",
      "[CV 5/5] END criterion=log_loss, max_features=log2, min_samples_split=2, splitter=best;, score=nan total time=   0.0s\n",
      "[CV 1/5] END criterion=log_loss, max_features=log2, min_samples_split=2, splitter=random;, score=nan total time=   0.0s\n",
      "[CV 2/5] END criterion=log_loss, max_features=log2, min_samples_split=2, splitter=random;, score=nan total time=   0.0s\n",
      "[CV 3/5] END criterion=log_loss, max_features=log2, min_samples_split=2, splitter=random;, score=nan total time=   0.0s\n",
      "[CV 4/5] END criterion=log_loss, max_features=log2, min_samples_split=2, splitter=random;, score=nan total time=   0.0s\n",
      "[CV 5/5] END criterion=log_loss, max_features=log2, min_samples_split=2, splitter=random;, score=nan total time=   0.0s\n",
      "[CV 1/5] END criterion=log_loss, max_features=log2, min_samples_split=3, splitter=best;, score=nan total time=   0.0s\n",
      "[CV 2/5] END criterion=log_loss, max_features=log2, min_samples_split=3, splitter=best;, score=nan total time=   0.0s\n",
      "[CV 3/5] END criterion=log_loss, max_features=log2, min_samples_split=3, splitter=best;, score=nan total time=   0.0s\n",
      "[CV 4/5] END criterion=log_loss, max_features=log2, min_samples_split=3, splitter=best;, score=nan total time=   0.0s\n",
      "[CV 5/5] END criterion=log_loss, max_features=log2, min_samples_split=3, splitter=best;, score=nan total time=   0.0s\n",
      "[CV 1/5] END criterion=log_loss, max_features=log2, min_samples_split=3, splitter=random;, score=nan total time=   0.0s\n",
      "[CV 2/5] END criterion=log_loss, max_features=log2, min_samples_split=3, splitter=random;, score=nan total time=   0.0s\n",
      "[CV 3/5] END criterion=log_loss, max_features=log2, min_samples_split=3, splitter=random;, score=nan total time=   0.0s\n",
      "[CV 4/5] END criterion=log_loss, max_features=log2, min_samples_split=3, splitter=random;, score=nan total time=   0.0s\n",
      "[CV 5/5] END criterion=log_loss, max_features=log2, min_samples_split=3, splitter=random;, score=nan total time=   0.0s\n",
      "The best parameters are {'criterion': 'gini', 'max_features': 'log2', 'min_samples_split': 3, 'splitter': 'random'} with a score of 0.63351\n"
     ]
    },
    {
     "name": "stderr",
     "output_type": "stream",
     "text": [
      "/Users/innocenzofulginiti/opt/anaconda3/lib/python3.9/site-packages/sklearn/model_selection/_validation.py:372: FitFailedWarning: \n",
      "150 fits failed out of a total of 270.\n",
      "The score on these train-test partitions for these parameters will be set to nan.\n",
      "If these failures are not expected, you can try to debug them by setting error_score='raise'.\n",
      "\n",
      "Below are more details about the failures:\n",
      "--------------------------------------------------------------------------------\n",
      "90 fits failed with the following error:\n",
      "Traceback (most recent call last):\n",
      "  File \"/Users/innocenzofulginiti/opt/anaconda3/lib/python3.9/site-packages/sklearn/model_selection/_validation.py\", line 680, in _fit_and_score\n",
      "    estimator.fit(X_train, y_train, **fit_params)\n",
      "  File \"/Users/innocenzofulginiti/opt/anaconda3/lib/python3.9/site-packages/sklearn/tree/_classes.py\", line 937, in fit\n",
      "    super().fit(\n",
      "  File \"/Users/innocenzofulginiti/opt/anaconda3/lib/python3.9/site-packages/sklearn/tree/_classes.py\", line 250, in fit\n",
      "    raise ValueError(\n",
      "ValueError: min_samples_split must be an integer greater than 1 or a float in (0.0, 1.0]; got the integer 1\n",
      "\n",
      "--------------------------------------------------------------------------------\n",
      "60 fits failed with the following error:\n",
      "Traceback (most recent call last):\n",
      "  File \"/Users/innocenzofulginiti/opt/anaconda3/lib/python3.9/site-packages/sklearn/model_selection/_validation.py\", line 680, in _fit_and_score\n",
      "    estimator.fit(X_train, y_train, **fit_params)\n",
      "  File \"/Users/innocenzofulginiti/opt/anaconda3/lib/python3.9/site-packages/sklearn/tree/_classes.py\", line 937, in fit\n",
      "    super().fit(\n",
      "  File \"/Users/innocenzofulginiti/opt/anaconda3/lib/python3.9/site-packages/sklearn/tree/_classes.py\", line 352, in fit\n",
      "    criterion = CRITERIA_CLF[self.criterion](\n",
      "KeyError: 'log_loss'\n",
      "\n",
      "  warnings.warn(some_fits_failed_message, FitFailedWarning)\n",
      "/Users/innocenzofulginiti/opt/anaconda3/lib/python3.9/site-packages/sklearn/model_selection/_search.py:969: UserWarning: One or more of the test scores are non-finite: [       nan        nan 0.53814617 0.5684492  0.50891266 0.485918\n",
      "        nan        nan 0.56773619 0.53351159 0.54991087 0.57397504\n",
      "        nan        nan 0.58609626 0.56256684 0.53832442 0.63351159\n",
      "        nan        nan 0.50392157 0.55561497 0.5516934  0.59180036\n",
      "        nan        nan 0.48467023 0.47326203 0.4855615  0.62174688\n",
      "        nan        nan 0.48502674 0.57914439 0.56221034 0.56720143\n",
      "        nan        nan        nan        nan        nan        nan\n",
      "        nan        nan        nan        nan        nan        nan\n",
      "        nan        nan        nan        nan        nan        nan]\n",
      "  warnings.warn(\n"
     ]
    }
   ],
   "source": [
    "param_grid = {'max_features': ['auto', 'sqrt', 'log2'],\n",
    "              'ccp_alpha': [0.1, 0.05, 0.01, 0.005, 0.001, 0.0005, 0.0001, 0],\n",
    "              'criterion' :['gini', 'entropy', 'log_loss'],\n",
    "              'splitter' :['best', 'random'],\n",
    "              'min_samples_split' :[1, 2, 3]\n",
    "             }\n",
    "\n",
    "\n",
    "dt = tree.DecisionTreeClassifier()\n",
    "\n",
    "grid = GridSearchCV(\n",
    "    dt,\n",
    "    param_grid,\n",
    "    cv=5,\n",
    "    scoring='accuracy',\n",
    "    return_train_score=False,\n",
    "    verbose=4\n",
    ")\n",
    "\n",
    "\n",
    "grid.fit(x_monk2_tr, y_monk2_tr)\n",
    "print(\n",
    "    \"The best parameters are %s with a score of %0.5f\"\n",
    "    % (grid.best_params_, grid.best_score_)\n",
    ")"
   ]
  },
  {
   "cell_type": "code",
   "execution_count": 60,
   "id": "693f39db",
   "metadata": {},
   "outputs": [
    {
     "data": {
      "text/plain": [
       "DecisionTreeClassifier()"
      ]
     },
     "execution_count": 60,
     "metadata": {},
     "output_type": "execute_result"
    }
   ],
   "source": [
    "dt = tree.DecisionTreeClassifier() # TODO test\n",
    "dt.fit(x_monk2_tr, y_monk2_tr)"
   ]
  },
  {
   "cell_type": "code",
   "execution_count": 61,
   "id": "96b747f4",
   "metadata": {},
   "outputs": [],
   "source": [
    "dt = grid.best_estimator_\n",
    "\n",
    "train_pred = dt.predict(x_monk2_tr)\n",
    "test_pred = dt.predict(x_monk2_ts)"
   ]
  },
  {
   "cell_type": "code",
   "execution_count": 62,
   "id": "7cd1cc8c",
   "metadata": {},
   "outputs": [
    {
     "data": {
      "image/png": "[encoded data removed]",
      "text/plain": [
       "<Figure size 640x480 with 2 Axes>"
      ]
     },
     "metadata": {},
     "output_type": "display_data"
    }
   ],
   "source": [
    "predictions = dt.predict(x_monk2_tr)\n",
    "\n",
    "cm = confusion_matrix(y_monk2_tr, predictions)\n",
    "disp = ConfusionMatrixDisplay(confusion_matrix=cm)\n",
    "disp.plot()\n",
    "plt.show()"
   ]
  },
  {
   "cell_type": "code",
   "execution_count": 63,
   "id": "c243905d",
   "metadata": {},
   "outputs": [
    {
     "data": {
      "text/plain": [
       "['./results/monk2/DT/dt_monk2.z']"
      ]
     },
     "execution_count": 63,
     "metadata": {},
     "output_type": "execute_result"
    }
   ],
   "source": [
    "joblib.dump(dt, './results/monk2/DT/dt_monk2.z')"
   ]
  },
  {
   "cell_type": "markdown",
   "id": "7bc79dbf",
   "metadata": {},
   "source": [
    "### Model assesstment"
   ]
  },
  {
   "cell_type": "code",
   "execution_count": 64,
   "id": "a37b57cb",
   "metadata": {},
   "outputs": [],
   "source": [
    "dt_monk2 = joblib.load('./results/monk2/DT/dt_monk2.z')"
   ]
  },
  {
   "cell_type": "code",
   "execution_count": 65,
   "id": "86cd0d6e",
   "metadata": {},
   "outputs": [],
   "source": [
    "score2 = dt_monk2.score(x_monk2_ts, y_monk2_ts)"
   ]
  },
  {
   "cell_type": "code",
   "execution_count": 66,
   "id": "afb9a1b5",
   "metadata": {},
   "outputs": [
    {
     "name": "stdout",
     "output_type": "stream",
     "text": [
      "Final accuracy on the test set: 0.7013888888888888\n"
     ]
    }
   ],
   "source": [
    "print(\"Final accuracy on the test set: \" + str(score2))"
   ]
  },
  {
   "cell_type": "code",
   "execution_count": 23,
   "id": "14d43ec8",
   "metadata": {},
   "outputs": [
    {
     "data": {
      "image/png": "[encoded data removed]",
      "text/plain": [
       "<Figure size 640x480 with 2 Axes>"
      ]
     },
     "metadata": {},
     "output_type": "display_data"
    }
   ],
   "source": [
    "predictions = dt_monk2.predict(x_monk2_ts)\n",
    "\n",
    "cm = confusion_matrix(y_monk2_ts, predictions)\n",
    "disp = ConfusionMatrixDisplay(confusion_matrix=cm)\n",
    "disp.plot()\n",
    "plt.show()"
   ]
  },
  {
   "cell_type": "markdown",
   "id": "ab2616f1",
   "metadata": {},
   "source": [
    "## Monk 3"
   ]
  },
  {
   "cell_type": "code",
   "execution_count": 44,
   "id": "8750e0c0",
   "metadata": {},
   "outputs": [],
   "source": [
    "colnames = ['class', 'a1', 'a2', 'a3', 'a4', 'a5', 'a6', 'id']\n",
    "monk3_tr = pd.read_csv(\"./dataset/monk3/monks-3.train\", sep = \" \", skipinitialspace=True, names = colnames)\n",
    "monk3_tr = monk3_tr.drop('id', axis = 1)\n",
    "\n",
    "monk3_ts = pd.read_csv(\"./dataset/monk3/monks-3.test\", sep = \" \", skipinitialspace=True, names = colnames)\n",
    "monk3_ts = monk3_ts.drop('id', axis = 1)"
   ]
  },
  {
   "cell_type": "code",
   "execution_count": 45,
   "id": "b5796200",
   "metadata": {},
   "outputs": [],
   "source": [
    "x_monk3_tr = monk3_tr.iloc[:, 1:7].values\n",
    "y_monk3_tr = monk3_tr.iloc[:, 0].values\n",
    "\n",
    "x_monk3_ts = monk3_ts.iloc[:, 1:7].values\n",
    "y_monk3_ts = monk3_ts.iloc[:, 0].values"
   ]
  },
  {
   "cell_type": "code",
   "execution_count": 46,
   "id": "d10b63c8",
   "metadata": {},
   "outputs": [],
   "source": [
    "one_hot_encoder_tr = OneHotEncoder(sparse=False)\n",
    "one_hot_encoder_tr.fit(x_monk3_tr)\n",
    "x_monk3_tr = one_hot_encoder_tr.transform(x_monk3_tr)\n",
    "\n",
    "one_hot_encoder_ts = OneHotEncoder(sparse=False)\n",
    "one_hot_encoder_ts.fit(x_monk3_ts)\n",
    "x_monk3_ts = one_hot_encoder_ts.transform(x_monk3_ts)"
   ]
  },
  {
   "cell_type": "code",
   "execution_count": null,
   "id": "256092a3",
   "metadata": {},
   "outputs": [],
   "source": [
    "param_grid = {'max_features': ['auto', 'sqrt', 'log2'],\n",
    "              'ccp_alpha': [0.1, 0.05, 0.01, 0.005, 0.001, 0.0005, 0.0001, 0.2],\n",
    "              'max_depth' : np.arange(8, 30, 1),\n",
    "              'criterion' :['gini', 'entropy']\n",
    "             }\n",
    "\n",
    "\n",
    "dt = tree.DecisionTreeClassifier()\n",
    "\n",
    "grid = GridSearchCV(\n",
    "    dt,\n",
    "    param_grid,\n",
    "    cv=5,\n",
    "    scoring='accuracy',\n",
    "    return_train_score=False,\n",
    "    verbose=4\n",
    ")\n",
    "\n",
    "\n",
    "grid.fit(x_monk3_tr, y_monk3_tr)\n",
    "print(\n",
    "    \"The best parameters are %s with a score of %0.5f\"\n",
    "    % (grid.best_params_, grid.best_score_)\n",
    ")"
   ]
  },
  {
   "cell_type": "code",
   "execution_count": 47,
   "id": "b214a335",
   "metadata": {},
   "outputs": [
    {
     "data": {
      "text/plain": [
       "DecisionTreeClassifier()"
      ]
     },
     "execution_count": 47,
     "metadata": {},
     "output_type": "execute_result"
    }
   ],
   "source": [
    "dt = tree.DecisionTreeClassifier() # TODO test\n",
    "dt.fit(x_monk3_tr, y_monk3_tr)"
   ]
  },
  {
   "cell_type": "code",
   "execution_count": 48,
   "id": "2cc56e4c",
   "metadata": {},
   "outputs": [],
   "source": [
    "# dt = grid.best_estimator_\n",
    "\n",
    "train_pred = dt.predict(x_monk3_tr)\n",
    "test_pred = dt.predict(x_monk3_ts)"
   ]
  },
  {
   "cell_type": "code",
   "execution_count": 49,
   "id": "83dc3537",
   "metadata": {},
   "outputs": [
    {
     "data": {
      "image/png": "[encoded data removed]",
      "text/plain": [
       "<Figure size 640x480 with 2 Axes>"
      ]
     },
     "metadata": {},
     "output_type": "display_data"
    }
   ],
   "source": [
    "predictions = dt.predict(x_monk3_tr)\n",
    "\n",
    "cm = confusion_matrix(y_monk3_tr, predictions)\n",
    "disp = ConfusionMatrixDisplay(confusion_matrix=cm)\n",
    "disp.plot()\n",
    "plt.show()"
   ]
  },
  {
   "cell_type": "code",
   "execution_count": 50,
   "id": "4385efac",
   "metadata": {},
   "outputs": [
    {
     "data": {
      "text/plain": [
       "['./results/monk3/DT/dt_monk3.z']"
      ]
     },
     "execution_count": 50,
     "metadata": {},
     "output_type": "execute_result"
    }
   ],
   "source": [
    "joblib.dump(dt, './results/monk3/DT/dt_monk3.z')"
   ]
  },
  {
   "cell_type": "markdown",
   "id": "9390203f",
   "metadata": {},
   "source": [
    "### Model assesstment"
   ]
  },
  {
   "cell_type": "code",
   "execution_count": 51,
   "id": "3e067793",
   "metadata": {},
   "outputs": [],
   "source": [
    "dt_monk3 = joblib.load('./results/monk3/DT/dt_monk3.z')"
   ]
  },
  {
   "cell_type": "code",
   "execution_count": 52,
   "id": "4bdbb8fb",
   "metadata": {},
   "outputs": [],
   "source": [
    "score3 = dt_monk3.score(x_monk3_ts, y_monk3_ts)"
   ]
  },
  {
   "cell_type": "code",
   "execution_count": 53,
   "id": "7e883f7c",
   "metadata": {},
   "outputs": [
    {
     "name": "stdout",
     "output_type": "stream",
     "text": [
      "Final accuracy on the test set: 0.9375\n"
     ]
    }
   ],
   "source": [
    "print(\"Final accuracy on the test set: \" + str(score3))"
   ]
  },
  {
   "cell_type": "code",
   "execution_count": 54,
   "id": "bdb1e716",
   "metadata": {},
   "outputs": [
    {
     "data": {
      "image/png": "[encoded data removed]",
      "text/plain": [
       "<Figure size 640x480 with 2 Axes>"
      ]
     },
     "metadata": {},
     "output_type": "display_data"
    }
   ],
   "source": [
    "predictions = dt_monk3.predict(x_monk3_ts)\n",
    "\n",
    "cm = confusion_matrix(y_monk3_ts, predictions)\n",
    "disp = ConfusionMatrixDisplay(confusion_matrix=cm)\n",
    "disp.plot()\n",
    "plt.show()"
   ]
  },
  {
   "cell_type": "markdown",
   "id": "3cb542ff",
   "metadata": {},
   "source": [
    "# Random forests with scikit"
   ]
  },
  {
   "cell_type": "markdown",
   "id": "eff29731",
   "metadata": {},
   "source": [
    "## Monk 1"
   ]
  },
  {
   "cell_type": "markdown",
   "id": "8c03f1c3",
   "metadata": {},
   "source": [
    "### Grid Search"
   ]
  },
  {
   "cell_type": "code",
   "execution_count": null,
   "id": "32ba592c",
   "metadata": {},
   "outputs": [],
   "source": [
    "param_grid = {\n",
    "    'bootstrap': [True],\n",
    "    'max_depth': [80, 90, 100, 110],\n",
    "    'max_features': [2, 3],\n",
    "    'min_samples_leaf': [3, 4, 5],\n",
    "    'min_samples_split': [8, 10, 12],\n",
    "    'n_estimators': np.arange(50, 1000, 75)\n",
    "}\n",
    "\n",
    "rf = RandomForestClassifier()\n",
    "\n",
    "grid = GridSearchCV(estimator = rf, param_grid = param_grid, \n",
    "                          cv = 5, n_jobs = -1, verbose = 2)\n",
    "\n",
    "grid.fit(x_monk1_tr, y_monk1_tr)\n",
    "\n",
    "print(\n",
    "    \"The best parameters are %s with a score of %0.5f\"\n",
    "    % (grid.best_params_, grid.best_score_)\n",
    ")"
   ]
  },
  {
   "cell_type": "code",
   "execution_count": 58,
   "id": "81323fbb",
   "metadata": {},
   "outputs": [
    {
     "data": {
      "text/plain": [
       "RandomForestClassifier()"
      ]
     },
     "execution_count": 58,
     "metadata": {},
     "output_type": "execute_result"
    }
   ],
   "source": [
    "rf = RandomForestClassifier() # TODO test\n",
    "rf.fit(x_monk1_tr, y_monk1_tr)"
   ]
  },
  {
   "cell_type": "code",
   "execution_count": 59,
   "id": "02327270",
   "metadata": {},
   "outputs": [],
   "source": [
    "#rf = grid.best_estimator_\n",
    "\n",
    "train_pred = rf.predict(x_monk1_tr)\n",
    "test_pred = rf.predict(x_monk1_ts)"
   ]
  },
  {
   "cell_type": "code",
   "execution_count": 60,
   "id": "57df18fe",
   "metadata": {},
   "outputs": [
    {
     "data": {
      "image/png": "[encoded data removed]",
      "text/plain": [
       "<Figure size 640x480 with 2 Axes>"
      ]
     },
     "metadata": {},
     "output_type": "display_data"
    }
   ],
   "source": [
    "predictions = rf.predict(x_monk1_tr)\n",
    "\n",
    "cm = confusion_matrix(y_monk1_tr, predictions)\n",
    "disp = ConfusionMatrixDisplay(confusion_matrix=cm)\n",
    "disp.plot()\n",
    "plt.show()"
   ]
  },
  {
   "cell_type": "markdown",
   "id": "ecc0b3ef",
   "metadata": {},
   "source": [
    "### Random Hyperparameter Grid Search"
   ]
  },
  {
   "cell_type": "code",
   "execution_count": null,
   "id": "ec9fbe73",
   "metadata": {},
   "outputs": [],
   "source": [
    "n_estimators = [int(x) for x in np.linspace(start = 200, stop = 2000, num = 10)]\n",
    "max_features = ['auto', 'sqrt']\n",
    "max_depth = [int(x) for x in np.linspace(10, 110, num = 11)]\n",
    "max_depth.append(None)\n",
    "min_samples_split = [2, 5, 10]\n",
    "min_samples_leaf = [1, 2, 4]\n",
    "bootstrap = [True, False]\n",
    "\n",
    "random_param_grid = {'n_estimators': n_estimators,\n",
    "               'max_features': max_features,\n",
    "               'max_depth': max_depth,\n",
    "               'min_samples_split': min_samples_split,\n",
    "               'min_samples_leaf': min_samples_leaf,\n",
    "               'bootstrap': bootstrap}\n",
    "\n",
    "rf_random = RandomForestClassifier()\n",
    "\n",
    "random_grid = RandomizedSearchCV(\n",
    "    estimator = rf_random,\n",
    "    param_distributions = random_param_grid,\n",
    "    n_iter = 100,\n",
    "    cv = 5,\n",
    "    verbose=4,\n",
    "    random_state=42,\n",
    "    n_jobs = -1\n",
    ")\n",
    "\n",
    "random_grid.fit(x_monk1_tr, y_monk1_tr)"
   ]
  },
  {
   "cell_type": "code",
   "execution_count": null,
   "id": "eaf5c491",
   "metadata": {},
   "outputs": [],
   "source": [
    "rf = RandomForestClassifier() # TODO test\n",
    "rf.fit(x_monk2_tr, y_monk2_tr)"
   ]
  },
  {
   "cell_type": "code",
   "execution_count": null,
   "id": "7d380f21",
   "metadata": {},
   "outputs": [],
   "source": [
    "rf_random = random_grid.best_estimator_\n",
    "\n",
    "train_pred = rf_random.predict(x_monk1_tr)\n",
    "test_pred = rf_random.predict(x_monk1_ts)"
   ]
  },
  {
   "cell_type": "code",
   "execution_count": null,
   "id": "ff5f5f5a",
   "metadata": {},
   "outputs": [],
   "source": [
    "predictions = rf_random.predict(x_monk1_tr)\n",
    "\n",
    "cm = confusion_matrix(y_monk1_tr, predictions)\n",
    "disp = ConfusionMatrixDisplay(confusion_matrix=cm)\n",
    "disp.plot()\n",
    "plt.show()"
   ]
  },
  {
   "cell_type": "markdown",
   "id": "0726c24c",
   "metadata": {},
   "source": [
    "### Model selection"
   ]
  },
  {
   "cell_type": "code",
   "execution_count": null,
   "id": "e2080c82",
   "metadata": {},
   "outputs": [],
   "source": [
    "joblib.dump(rf_random, './results/monk1/DT/rf_monk1.z')"
   ]
  },
  {
   "cell_type": "markdown",
   "id": "3243c94e",
   "metadata": {},
   "source": [
    "### Model assesstment"
   ]
  },
  {
   "cell_type": "code",
   "execution_count": null,
   "id": "4ec41b10",
   "metadata": {},
   "outputs": [],
   "source": [
    "rf_monk1 = joblib.load('./results/monk1/DT/rf_monk1.z')"
   ]
  },
  {
   "cell_type": "code",
   "execution_count": null,
   "id": "1a44e238",
   "metadata": {},
   "outputs": [],
   "source": [
    "score1 = rf_monk1.score(x_monk1_ts, y_monk1_ts)"
   ]
  },
  {
   "cell_type": "code",
   "execution_count": null,
   "id": "a942ecf4",
   "metadata": {},
   "outputs": [],
   "source": [
    "print(\"Final accuracy on the test set: \" + str(score1))"
   ]
  },
  {
   "cell_type": "code",
   "execution_count": null,
   "id": "b7f073cd",
   "metadata": {},
   "outputs": [],
   "source": [
    "predictions = rf_monk1.predict(x_monk1_ts)\n",
    "\n",
    "cm = confusion_matrix(y_monk1_ts, predictions)\n",
    "disp = ConfusionMatrixDisplay(confusion_matrix=cm)\n",
    "disp.plot()\n",
    "plt.show()"
   ]
  },
  {
   "cell_type": "markdown",
   "id": "842245be",
   "metadata": {},
   "source": [
    "## Monk 2"
   ]
  },
  {
   "cell_type": "code",
   "execution_count": null,
   "id": "a03a4a03",
   "metadata": {},
   "outputs": [],
   "source": [
    "param_grid = {\n",
    "    'bootstrap': [True],\n",
    "    'max_depth': [80, 90, 100, 110],\n",
    "    'max_features': [2, 3],\n",
    "    'min_samples_leaf': [3, 4, 5],\n",
    "    'min_samples_split': [8, 10, 12],\n",
    "    'n_estimators': np.arange(50, 1000, 75)\n",
    "}\n",
    "\n",
    "rf = RandomForestClassifier()\n",
    "\n",
    "grid = GridSearchCV(estimator = rf, param_grid = param_grid, \n",
    "                          cv = 5, n_jobs = -1, verbose = 2)\n",
    "\n",
    "grid.fit(x_monk2_tr, y_monk2_tr)\n",
    "\n",
    "print(\n",
    "    \"The best parameters are %s with a score of %0.5f\"\n",
    "    % (grid.best_params_, grid.best_score_)\n",
    ")"
   ]
  },
  {
   "cell_type": "code",
   "execution_count": 66,
   "id": "3a3ad667",
   "metadata": {},
   "outputs": [
    {
     "data": {
      "text/plain": [
       "RandomForestClassifier()"
      ]
     },
     "execution_count": 66,
     "metadata": {},
     "output_type": "execute_result"
    }
   ],
   "source": [
    "rf = RandomForestClassifier() # TODO test\n",
    "rf.fit(x_monk2_tr, y_monk2_tr)"
   ]
  },
  {
   "cell_type": "code",
   "execution_count": 67,
   "id": "d2224060",
   "metadata": {},
   "outputs": [],
   "source": [
    "# rf = grid.best_estimator_\n",
    "\n",
    "train_pred = rf.predict(x_monk2_tr)\n",
    "test_pred = rf.predict(x_monk2_ts)"
   ]
  },
  {
   "cell_type": "code",
   "execution_count": 68,
   "id": "de2fb046",
   "metadata": {},
   "outputs": [
    {
     "data": {
      "image/png": "[encoded data removed]",
      "text/plain": [
       "<Figure size 640x480 with 2 Axes>"
      ]
     },
     "metadata": {},
     "output_type": "display_data"
    }
   ],
   "source": [
    "predictions = rf.predict(x_monk2_tr)\n",
    "\n",
    "cm = confusion_matrix(y_monk2_tr, predictions)\n",
    "disp = ConfusionMatrixDisplay(confusion_matrix=cm)\n",
    "disp.plot()\n",
    "plt.show()"
   ]
  },
  {
   "cell_type": "markdown",
   "id": "3f5cd476",
   "metadata": {},
   "source": [
    "### Random Hyperparameter Grid Search"
   ]
  },
  {
   "cell_type": "code",
   "execution_count": null,
   "id": "1cf81c74",
   "metadata": {},
   "outputs": [],
   "source": [
    "n_estimators = [int(x) for x in np.linspace(start = 200, stop = 2000, num = 10)]\n",
    "max_features = ['auto', 'sqrt']\n",
    "max_depth = [int(x) for x in np.linspace(10, 110, num = 11)]\n",
    "max_depth.append(None)\n",
    "min_samples_split = [2, 5, 10]\n",
    "min_samples_leaf = [1, 2, 4]\n",
    "bootstrap = [True, False]\n",
    "\n",
    "random_param_grid = {'n_estimators': n_estimators,\n",
    "               'max_features': max_features,\n",
    "               'max_depth': max_depth,\n",
    "               'min_samples_split': min_samples_split,\n",
    "               'min_samples_leaf': min_samples_leaf,\n",
    "               'bootstrap': bootstrap}\n",
    "\n",
    "rf_random = RandomForestClassifier()\n",
    "\n",
    "random_grid = RandomizedSearchCV(\n",
    "    estimator = rf_random,\n",
    "    param_distributions = random_param_grid,\n",
    "    n_iter = 100,\n",
    "    cv = 5,\n",
    "    verbose=4,\n",
    "    random_state=42,\n",
    "    n_jobs = -1\n",
    ")\n",
    "\n",
    "random_grid.fit(x_monk2_tr, y_monk2_tr)"
   ]
  },
  {
   "cell_type": "code",
   "execution_count": null,
   "id": "dc7a926a",
   "metadata": {},
   "outputs": [],
   "source": [
    "rf_random = random_grid.best_estimator_\n",
    "\n",
    "train_pred = rf_random.predict(x_monk2_tr)\n",
    "test_pred = rf_random.predict(x_monk2_ts)"
   ]
  },
  {
   "cell_type": "code",
   "execution_count": null,
   "id": "27ce81b0",
   "metadata": {},
   "outputs": [],
   "source": [
    "predictions = rf_random.predict(x_monk2_tr)\n",
    "\n",
    "cm = confusion_matrix(y_monk2_tr, predictions)\n",
    "disp = ConfusionMatrixDisplay(confusion_matrix=cm)\n",
    "disp.plot()\n",
    "plt.show()"
   ]
  },
  {
   "cell_type": "markdown",
   "id": "8f875dab",
   "metadata": {},
   "source": [
    "### Model Selection"
   ]
  },
  {
   "cell_type": "code",
   "execution_count": 69,
   "id": "40d5a518",
   "metadata": {},
   "outputs": [
    {
     "data": {
      "text/plain": [
       "['./results/monk2/DT/rf_monk2.z']"
      ]
     },
     "execution_count": 69,
     "metadata": {},
     "output_type": "execute_result"
    }
   ],
   "source": [
    "joblib.dump(rf, './results/monk2/DT/rf_monk2.z')"
   ]
  },
  {
   "cell_type": "markdown",
   "id": "20970248",
   "metadata": {},
   "source": [
    "### Model assesstment"
   ]
  },
  {
   "cell_type": "code",
   "execution_count": 70,
   "id": "845f9028",
   "metadata": {},
   "outputs": [
    {
     "name": "stdout",
     "output_type": "stream",
     "text": [
      "Final accuracy on the test set: 0.75\n"
     ]
    }
   ],
   "source": [
    "rf_monk2 = joblib.load('./results/monk2/DT/rf_monk2.z')\n",
    "score2 = rf_monk2.score(x_monk2_ts, y_monk2_ts)\n",
    "print(\"Final accuracy on the test set: \" + str(score2))"
   ]
  },
  {
   "cell_type": "code",
   "execution_count": 72,
   "id": "6df05a4e",
   "metadata": {},
   "outputs": [
    {
     "data": {
      "image/png": "[encoded data removed]",
      "text/plain": [
       "<Figure size 640x480 with 2 Axes>"
      ]
     },
     "metadata": {},
     "output_type": "display_data"
    }
   ],
   "source": [
    "predictions = rf_monk2.predict(x_monk2_tr)\n",
    "\n",
    "cm = confusion_matrix(y_monk2_tr, predictions)\n",
    "disp = ConfusionMatrixDisplay(confusion_matrix=cm)\n",
    "disp.plot()\n",
    "plt.show()"
   ]
  },
  {
   "cell_type": "markdown",
   "id": "b5c08301",
   "metadata": {},
   "source": [
    "## Monk 3"
   ]
  },
  {
   "cell_type": "code",
   "execution_count": null,
   "id": "70bc85be",
   "metadata": {},
   "outputs": [],
   "source": [
    "param_grid = {\n",
    "    'bootstrap': [True],\n",
    "    'max_depth': [80, 90, 100, 110],\n",
    "    'max_features': [2, 3],\n",
    "    'min_samples_leaf': [3, 4, 5],\n",
    "    'min_samples_split': [8, 10, 12],\n",
    "    'n_estimators': np.arange(50, 1000, 75)\n",
    "}\n",
    "\n",
    "rf = RandomForestClassifier()\n",
    "\n",
    "grid = GridSearchCV(estimator = rf, param_grid = param_grid, \n",
    "                          cv = 5, n_jobs = -1, verbose = 2)\n",
    "\n",
    "grid.fit(x_monk3_tr, y_monk3_tr)\n",
    "\n",
    "print(\n",
    "    \"The best parameters are %s with a score of %0.5f\"\n",
    "    % (grid.best_params_, grid.best_score_)\n",
    ")"
   ]
  },
  {
   "cell_type": "code",
   "execution_count": null,
   "id": "94fc53c2",
   "metadata": {},
   "outputs": [],
   "source": [
    "rf = grid.best_estimator_\n",
    "\n",
    "train_pred = rf.predict(x_monk3_tr)\n",
    "test_pred = rf.predict(x_monk3_ts)"
   ]
  },
  {
   "cell_type": "code",
   "execution_count": null,
   "id": "f4ba8917",
   "metadata": {},
   "outputs": [],
   "source": [
    "predictions = rf.predict(x_monk3_tr)\n",
    "\n",
    "cm = confusion_matrix(y_monk3_tr, predictions)\n",
    "disp = ConfusionMatrixDisplay(confusion_matrix=cm)\n",
    "disp.plot()\n",
    "plt.show()"
   ]
  },
  {
   "cell_type": "markdown",
   "id": "dffc7d27",
   "metadata": {},
   "source": [
    "### Random Hyperparameter Grid Search"
   ]
  },
  {
   "cell_type": "code",
   "execution_count": null,
   "id": "be9380b4",
   "metadata": {},
   "outputs": [],
   "source": [
    "n_estimators = [int(x) for x in np.linspace(start = 200, stop = 2000, num = 10)]\n",
    "max_features = ['auto', 'sqrt']\n",
    "max_depth = [int(x) for x in np.linspace(10, 110, num = 11)]\n",
    "max_depth.append(None)\n",
    "min_samples_split = [2, 5, 10]\n",
    "min_samples_leaf = [1, 2, 4]\n",
    "bootstrap = [True, False]\n",
    "\n",
    "random_param_grid = {'n_estimators': n_estimators,\n",
    "               'max_features': max_features,\n",
    "               'max_depth': max_depth,\n",
    "               'min_samples_split': min_samples_split,\n",
    "               'min_samples_leaf': min_samples_leaf,\n",
    "               'bootstrap': bootstrap}\n",
    "\n",
    "rf_random = RandomForestClassifier()\n",
    "\n",
    "random_grid = RandomizedSearchCV(\n",
    "    estimator = rf_random,\n",
    "    param_distributions = random_param_grid,\n",
    "    n_iter = 100,\n",
    "    cv = 5,\n",
    "    verbose=4,\n",
    "    random_state=42,\n",
    "    n_jobs = -1\n",
    ")\n",
    "\n",
    "random_grid.fit(x_monk3_tr, y_monk3_tr)"
   ]
  },
  {
   "cell_type": "code",
   "execution_count": 73,
   "id": "6500bc14",
   "metadata": {},
   "outputs": [
    {
     "data": {
      "text/plain": [
       "RandomForestClassifier()"
      ]
     },
     "execution_count": 73,
     "metadata": {},
     "output_type": "execute_result"
    }
   ],
   "source": [
    "rf = RandomForestClassifier() # TODO test\n",
    "rf.fit(x_monk3_tr, y_monk3_tr)"
   ]
  },
  {
   "cell_type": "code",
   "execution_count": 75,
   "id": "2185bb0e",
   "metadata": {},
   "outputs": [],
   "source": [
    "#rf_random = random_grid.best_estimator_\n",
    "\n",
    "train_pred = rf.predict(x_monk3_tr)\n",
    "test_pred = rf.predict(x_monk3_ts)"
   ]
  },
  {
   "cell_type": "code",
   "execution_count": 77,
   "id": "4800e98d",
   "metadata": {},
   "outputs": [
    {
     "data": {
      "image/png": "[encoded data removed]",
      "text/plain": [
       "<Figure size 640x480 with 2 Axes>"
      ]
     },
     "metadata": {},
     "output_type": "display_data"
    }
   ],
   "source": [
    "predictions = rf.predict(x_monk3_tr)\n",
    "\n",
    "cm = confusion_matrix(y_monk3_tr, predictions)\n",
    "disp = ConfusionMatrixDisplay(confusion_matrix=cm)\n",
    "disp.plot()\n",
    "plt.show()"
   ]
  },
  {
   "cell_type": "markdown",
   "id": "20a57934",
   "metadata": {},
   "source": [
    "### Model Selection"
   ]
  },
  {
   "cell_type": "code",
   "execution_count": 78,
   "id": "835a9671",
   "metadata": {},
   "outputs": [
    {
     "data": {
      "text/plain": [
       "['./results/monk3/DT/rf_monk3.z']"
      ]
     },
     "execution_count": 78,
     "metadata": {},
     "output_type": "execute_result"
    }
   ],
   "source": [
    "joblib.dump(rf, './results/monk3/DT/rf_monk3.z')"
   ]
  },
  {
   "cell_type": "markdown",
   "id": "9b5e7d58",
   "metadata": {},
   "source": [
    "### Model assesstment"
   ]
  },
  {
   "cell_type": "code",
   "execution_count": 79,
   "id": "aa72a26b",
   "metadata": {},
   "outputs": [
    {
     "name": "stdout",
     "output_type": "stream",
     "text": [
      "Final accuracy on the test set: 0.9606481481481481\n"
     ]
    }
   ],
   "source": [
    "rf_monk3 = joblib.load('./results/monk3/DT/rf_monk3.z')\n",
    "score3 = rf_monk3.score(x_monk3_ts, y_monk3_ts)\n",
    "print(\"Final accuracy on the test set: \" + str(score3))"
   ]
  },
  {
   "cell_type": "code",
   "execution_count": 83,
   "id": "55d397f1",
   "metadata": {},
   "outputs": [
    {
     "data": {
      "image/png": "[encoded data removed]",
      "text/plain": [
       "<Figure size 640x480 with 2 Axes>"
      ]
     },
     "metadata": {},
     "output_type": "display_data"
    }
   ],
   "source": [
    "predictions = rf.predict(x_monk3_ts)\n",
    "\n",
    "cm = confusion_matrix(y_monk3_ts, predictions)\n",
    "disp = ConfusionMatrixDisplay(confusion_matrix=cm)\n",
    "disp.plot()\n",
    "plt.show()"
   ]
  },
  {
   "cell_type": "code",
   "execution_count": null,
   "id": "05c6d68b",
   "metadata": {},
   "outputs": [],
   "source": []
  }
 ],
 "metadata": {
  "kernelspec": {
   "display_name": "Python 3 (ipykernel)",
   "language": "python",
   "name": "python3"
  },
  "language_info": {
   "codemirror_mode": {
    "name": "ipython",
    "version": 3
   },
   "file_extension": ".py",
   "mimetype": "text/x-python",
   "name": "python",
   "nbconvert_exporter": "python",
   "pygments_lexer": "ipython3",
   "version": "3.9.13"
  }
 },
 "nbformat": 4,
 "nbformat_minor": 5
}
