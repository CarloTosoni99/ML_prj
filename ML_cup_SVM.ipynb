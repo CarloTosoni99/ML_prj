{
 "cells": [
  {
   "cell_type": "markdown",
   "id": "383f7f58",
   "metadata": {},
   "source": [
    "# ML CUP 2022\n",
    "\n",
    "## Support Vector Machine\n",
    "\n",
    "This notebook creates two Support Vector Machine (SVM) models to generalize the problem of the ML cup 2022. It searches the best combination of hyperparameters performing a grid searches over a given range of values. Two different models are given as output in this phase, one for each target, and for both models there is a tuning phase based on the same hyperparameters. In the end of the notebook there is a comparison between the learning curves of KRR and SVR models.\n",
    "\n",
    "Hyperparameters considered for the grid search:\n",
    "\n",
    "1. kernel\n",
    "2. C\n",
    "3. epsilon\n",
    "4. gamma (only for rbf and poly kernels)\n",
    "5. degree (only for poly kernel)\n",
    "\n",
    "Model selection performed using a cross validation.\\\n",
    "The model assessment phase is not included in this notebook."
   ]
  },
  {
   "cell_type": "markdown",
   "id": "2ac196dd",
   "metadata": {},
   "source": [
    "### Importing libraries"
   ]
  },
  {
   "cell_type": "code",
   "execution_count": 54,
   "id": "2c48f2a0",
   "metadata": {},
   "outputs": [],
   "source": [
    "import pandas as pd\n",
    "import numpy as np\n",
    "import matplotlib.pyplot as plt\n",
    "from numpy import linalg as LA\n",
    "\n",
    "from sklearn.metrics import make_scorer\n",
    "from sklearn.svm import SVR\n",
    "from sklearn.model_selection import GridSearchCV\n",
    "\n",
    "import joblib"
   ]
  },
  {
   "cell_type": "markdown",
   "id": "3f111416",
   "metadata": {},
   "source": [
    "### Definition of the Mean Euclidean Distance"
   ]
  },
  {
   "cell_type": "code",
   "execution_count": 55,
   "id": "d831ebf2",
   "metadata": {},
   "outputs": [],
   "source": [
    "def my_mean_euclidean_distance(y_true, y_pred):\n",
    "    points = len(y_true)\n",
    "    tot_sum = 0\n",
    "    for i in range (points):\n",
    "        tot_sum += LA.norm(y_true[i] - y_pred[i])\n",
    "    \n",
    "    return tot_sum / points"
   ]
  },
  {
   "cell_type": "code",
   "execution_count": 56,
   "id": "40e3cd82",
   "metadata": {},
   "outputs": [],
   "source": [
    "mean_euclidean_distance = make_scorer(my_mean_euclidean_distance, greater_is_better=False)"
   ]
  },
  {
   "cell_type": "markdown",
   "id": "88e08769",
   "metadata": {},
   "source": [
    "### Loading data"
   ]
  },
  {
   "cell_type": "code",
   "execution_count": 57,
   "id": "509d5ac0",
   "metadata": {},
   "outputs": [],
   "source": [
    "colnames = ['id', 'a1', 'a2', 'a3', 'a4', 'a5', 'a6', 'a7', 'a8', 'a9', 'target1', 'target2']\n",
    "mlcup_tr = pd.read_csv(\"./dataset/ml_cup22/ML-CUP22-TR.csv\", sep = \",\", names=colnames)\n",
    "mlcup_tr = mlcup_tr.iloc[1:, :]\n",
    "mlcup_tr = mlcup_tr.drop('id', axis=1)"
   ]
  },
  {
   "cell_type": "code",
   "execution_count": 58,
   "id": "cef8285e",
   "metadata": {},
   "outputs": [],
   "source": [
    "x_mlcup_tr = mlcup_tr.iloc[:, 0:9].values\n",
    "y_mlcup_tr = mlcup_tr.iloc[:, 9:11].values"
   ]
  },
  {
   "cell_type": "markdown",
   "id": "6bcb8578",
   "metadata": {},
   "source": [
    "We used the function below to normalize our training set (both input and target) according to a min-max normalization"
   ]
  },
  {
   "cell_type": "code",
   "execution_count": 59,
   "id": "75b6514e",
   "metadata": {},
   "outputs": [],
   "source": [
    "x_cols = len(x_mlcup_tr[0])\n",
    "\n",
    "max_col_value_x = [None]*x_cols\n",
    "max_vl = None\n",
    "\n",
    "min_col_value_x = [None]*x_cols\n",
    "min_vl = None\n",
    "\n",
    "for i in range(x_cols):\n",
    "    col = x_mlcup_tr[:, i]\n",
    "    max_vl = np.amax(col)\n",
    "    min_vl = np.amin(col)\n",
    "    \n",
    "    x_mlcup_tr[:, i] = (x_mlcup_tr[:, i] - min_vl) / (max_vl - min_vl)\n",
    "    \n",
    "    max_col_value_x[i] = max_vl\n",
    "    min_col_value_x[i] = min_vl\n",
    "    \n",
    "    \n",
    "    \n",
    "y_cols = len(y_mlcup_tr[0])\n",
    "\n",
    "max_col_value_y = [None]*y_cols\n",
    "\n",
    "min_col_value_y = [None]*y_cols\n",
    "\n",
    "for i in range(y_cols):\n",
    "    col = y_mlcup_tr[:, i]\n",
    "    max_vl = np.amax(col)\n",
    "    min_vl = np.amin(col)\n",
    "    \n",
    "    y_mlcup_tr[:, i] = (y_mlcup_tr[:, i] - min_vl) / (max_vl - min_vl)\n",
    "    \n",
    "    max_col_value_y[i] = max_vl\n",
    "    min_col_value_y[i] = min_vl "
   ]
  },
  {
   "cell_type": "code",
   "execution_count": 60,
   "id": "4522379a",
   "metadata": {},
   "outputs": [],
   "source": [
    "y1_mlcup_tr = y_mlcup_tr[:, 0]\n",
    "y2_mlcup_tr = y_mlcup_tr[:, 1]"
   ]
  },
  {
   "cell_type": "markdown",
   "id": "479b343a",
   "metadata": {},
   "source": [
    "### Grid search for target 1\n",
    "#### rbf kernel"
   ]
  },
  {
   "cell_type": "code",
   "execution_count": 61,
   "id": "adfaa5ca",
   "metadata": {},
   "outputs": [
    {
     "name": "stdout",
     "output_type": "stream",
     "text": [
      "Fitting 4 folds for each of 1200 candidates, totalling 4800 fits\n",
      "The best parameters are {'C': 0.295530576797567, 'epsilon': 0.1, 'gamma': 1.259921049894872} with a score of -0.04\n"
     ]
    }
   ],
   "source": [
    "C_range = np.logspace(-2, 5, 30, base = 2)\n",
    "gamma_range = np.logspace(-9, 3, 10, base = 2)\n",
    "epsilon_range = np.arange(0.1, 0.5, 0.1)\n",
    "\n",
    "param_grid = dict(\n",
    "    gamma = gamma_range,\n",
    "    C = C_range,\n",
    "    epsilon = epsilon_range\n",
    ")\n",
    "\n",
    "grid = GridSearchCV(\n",
    "    SVR(kernel = 'rbf'),\n",
    "    param_grid = param_grid,\n",
    "    cv = 4,\n",
    "    scoring = mean_euclidean_distance,\n",
    "    verbose = 4,\n",
    "    n_jobs = -1\n",
    ")\n",
    "\n",
    "grid.fit(x_mlcup_tr, y1_mlcup_tr)\n",
    "\n",
    "print(\n",
    "    \"The best parameters are %s with a score of %0.2f\"\n",
    "    % (grid.best_params_, grid.best_score_)\n",
    ")"
   ]
  },
  {
   "cell_type": "code",
   "execution_count": 62,
   "id": "c32866e2",
   "metadata": {},
   "outputs": [],
   "source": [
    "rbf_classifier_1 = grid.best_estimator_\n",
    "\n",
    "rbf_results_1 = rbf_classifier_1.fit(x_mlcup_tr, y1_mlcup_tr)"
   ]
  },
  {
   "cell_type": "markdown",
   "id": "3e2d01b1",
   "metadata": {},
   "source": [
    "### linear kernel"
   ]
  },
  {
   "cell_type": "code",
   "execution_count": 63,
   "id": "68b6aa4f",
   "metadata": {},
   "outputs": [
    {
     "name": "stdout",
     "output_type": "stream",
     "text": [
      "Fitting 4 folds for each of 400 candidates, totalling 1600 fits\n",
      "The best parameters are {'C': 136.3252594483153, 'epsilon': 0.1} with a score of -0.05\n"
     ]
    }
   ],
   "source": [
    "C_range = np.logspace(-2, 10, 100, base = 2)\n",
    "epsilon_range = np.arange(0.1, 0.5, 0.1)\n",
    "\n",
    "param_grid = dict(\n",
    "    C = C_range,\n",
    "    epsilon = epsilon_range\n",
    ")\n",
    "\n",
    "grid = GridSearchCV(\n",
    "    SVR(kernel = 'linear'),\n",
    "    param_grid = param_grid,\n",
    "    cv = 4,\n",
    "    scoring = mean_euclidean_distance,\n",
    "    verbose = 4,\n",
    "    n_jobs = -1 \n",
    ")\n",
    "\n",
    "grid.fit(x_mlcup_tr, y1_mlcup_tr)\n",
    "\n",
    "print(\n",
    "    \"The best parameters are %s with a score of %0.2f\"\n",
    "    % (grid.best_params_, grid.best_score_)\n",
    ")"
   ]
  },
  {
   "cell_type": "code",
   "execution_count": 64,
   "id": "5940f552",
   "metadata": {},
   "outputs": [],
   "source": [
    "linear_classifier_1 = grid.best_estimator_\n",
    "linear_results_1 = linear_classifier_1.fit(x_mlcup_tr, y1_mlcup_tr)"
   ]
  },
  {
   "cell_type": "markdown",
   "id": "fdc4fbc3",
   "metadata": {},
   "source": [
    "### polynomial kernel"
   ]
  },
  {
   "cell_type": "code",
   "execution_count": 65,
   "id": "343f5a68",
   "metadata": {},
   "outputs": [
    {
     "name": "stdout",
     "output_type": "stream",
     "text": [
      "Fitting 4 folds for each of 1200 candidates, totalling 4800 fits\n",
      "The best parameters are {'C': 3.7034988491491627, 'degree': 2, 'epsilon': 0.1, 'gamma': 0.9258747122872907} with a score of -0.05\n"
     ]
    }
   ],
   "source": [
    "degree_range = np.arange(2, 5, 1)\n",
    "C_range = np.logspace(-9, 5, 10, base = 2)\n",
    "gamma_range = np.logspace(-9, 1, 10, base = 2)\n",
    "epsilon_range = np.arange(0.1, 0.5, 0.1)\n",
    "\n",
    "param_grid = dict(\n",
    "    degree = degree_range,\n",
    "    C = C_range,\n",
    "    gamma = gamma_range,\n",
    "    epsilon = epsilon_range\n",
    ")\n",
    "\n",
    "grid = GridSearchCV(\n",
    "    SVR(kernel = 'poly'),\n",
    "    param_grid = param_grid,\n",
    "    cv = 4,\n",
    "    scoring = mean_euclidean_distance,\n",
    "    verbose = 4,\n",
    "    n_jobs = -1\n",
    ")\n",
    "\n",
    "grid.fit(x_mlcup_tr, y1_mlcup_tr)\n",
    "\n",
    "print(\n",
    "    \"The best parameters are %s with a score of %0.2f\"\n",
    "    % (grid.best_params_, grid.best_score_)\n",
    ")"
   ]
  },
  {
   "cell_type": "code",
   "execution_count": 66,
   "id": "baa33e6a",
   "metadata": {},
   "outputs": [],
   "source": [
    "poly_classifier_1 = grid.best_estimator_\n",
    "poly_results_1 = poly_classifier_1.fit(x_mlcup_tr, y1_mlcup_tr)"
   ]
  },
  {
   "cell_type": "markdown",
   "id": "abaa9154",
   "metadata": {},
   "source": [
    "### Grid search for target 2\n",
    "#### rbf kernel"
   ]
  },
  {
   "cell_type": "code",
   "execution_count": 67,
   "id": "9e8957a5",
   "metadata": {},
   "outputs": [
    {
     "name": "stdout",
     "output_type": "stream",
     "text": [
      "Fitting 4 folds for each of 3600 candidates, totalling 14400 fits\n",
      "The best parameters are {'C': 0.25, 'epsilon': 0.1, 'gamma': 2.5399983964682855} with a score of -0.07\n"
     ]
    }
   ],
   "source": [
    "C_range = np.logspace(-2, 5, 30, base = 2)\n",
    "gamma_range = np.logspace(-9, 3, 30, base = 2)\n",
    "epsilon_range = np.arange(0.1, 0.5, 0.1)\n",
    "\n",
    "param_grid = dict(\n",
    "    gamma = gamma_range,\n",
    "    C = C_range,\n",
    "    epsilon = epsilon_range\n",
    ")\n",
    "\n",
    "grid = GridSearchCV(\n",
    "    SVR(kernel = 'rbf'),\n",
    "    param_grid = param_grid,\n",
    "    cv = 4,\n",
    "    scoring = mean_euclidean_distance,\n",
    "    verbose = 4,\n",
    "    n_jobs = -1\n",
    ")\n",
    "\n",
    "grid.fit(x_mlcup_tr, y2_mlcup_tr)\n",
    "\n",
    "print(\n",
    "    \"The best parameters are %s with a score of %0.2f\"\n",
    "    % (grid.best_params_, grid.best_score_)\n",
    ")"
   ]
  },
  {
   "cell_type": "code",
   "execution_count": 68,
   "id": "8521db74",
   "metadata": {},
   "outputs": [],
   "source": [
    "rbf_classifier_2 = grid.best_estimator_\n",
    "rbf_results_2 = rbf_classifier_2.fit(x_mlcup_tr, y2_mlcup_tr)"
   ]
  },
  {
   "cell_type": "markdown",
   "id": "27490f27",
   "metadata": {},
   "source": [
    "#### linear kernel"
   ]
  },
  {
   "cell_type": "code",
   "execution_count": 69,
   "id": "9672e8a7",
   "metadata": {},
   "outputs": [
    {
     "name": "stdout",
     "output_type": "stream",
     "text": [
      "Fitting 4 folds for each of 400 candidates, totalling 1600 fits\n",
      "The best parameters are {'C': 0.25, 'epsilon': 0.1} with a score of -0.08\n"
     ]
    }
   ],
   "source": [
    "C_range = np.logspace(-2, 10, 100, base = 2)\n",
    "epsilon_range = np.arange(0.1, 0.5, 0.1)\n",
    "\n",
    "param_grid = dict(\n",
    "    C = C_range,\n",
    "    epsilon = epsilon_range\n",
    ")\n",
    "\n",
    "grid = GridSearchCV(\n",
    "    SVR(kernel = 'linear'),\n",
    "    param_grid = param_grid,\n",
    "    cv = 4,\n",
    "    scoring = mean_euclidean_distance,\n",
    "    verbose = 4,\n",
    "    n_jobs = -1\n",
    ")\n",
    "\n",
    "grid.fit(x_mlcup_tr, y2_mlcup_tr)\n",
    "\n",
    "print(\n",
    "    \"The best parameters are %s with a score of %0.2f\"\n",
    "    % (grid.best_params_, grid.best_score_)\n",
    ")"
   ]
  },
  {
   "cell_type": "code",
   "execution_count": 70,
   "id": "5cdc4092",
   "metadata": {},
   "outputs": [],
   "source": [
    "linear_classifier_2 = grid.best_estimator_\n",
    "linear_results_2 = linear_classifier_2.fit(x_mlcup_tr, y2_mlcup_tr)"
   ]
  },
  {
   "cell_type": "markdown",
   "id": "0a0cc16c",
   "metadata": {},
   "source": [
    "#### polynomial kernel"
   ]
  },
  {
   "cell_type": "code",
   "execution_count": 71,
   "id": "840b040d",
   "metadata": {},
   "outputs": [
    {
     "name": "stdout",
     "output_type": "stream",
     "text": [
      "Fitting 4 folds for each of 1200 candidates, totalling 4800 fits\n",
      "The best parameters are {'C': 3.7034988491491627, 'degree': 2, 'epsilon': 0.1, 'gamma': 0.4286219914265367} with a score of -0.08\n"
     ]
    }
   ],
   "source": [
    "degree_range = np.arange(2, 5, 1)\n",
    "C_range = np.logspace(-9, 5, 10, base = 2)\n",
    "gamma_range = np.logspace(-9, 1, 10, base = 2)\n",
    "epsilon_range = np.arange(0.1, 0.5, 0.1)\n",
    "\n",
    "param_grid = dict(\n",
    "    degree = degree_range,\n",
    "    C = C_range,\n",
    "    gamma = gamma_range,\n",
    "    epsilon = epsilon_range\n",
    ")\n",
    "\n",
    "grid = GridSearchCV(\n",
    "    SVR(kernel = 'poly'),\n",
    "    param_grid = param_grid,\n",
    "    cv = 4,\n",
    "    scoring = mean_euclidean_distance,\n",
    "    verbose = 4,\n",
    "    n_jobs = -1\n",
    ")\n",
    "\n",
    "grid.fit(x_mlcup_tr, y2_mlcup_tr)\n",
    "\n",
    "print(\n",
    "    \"The best parameters are %s with a score of %0.2f\"\n",
    "    % (grid.best_params_, grid.best_score_)\n",
    ")"
   ]
  },
  {
   "cell_type": "code",
   "execution_count": 72,
   "id": "1ef0176f",
   "metadata": {},
   "outputs": [],
   "source": [
    "poly_classifier_2 = grid.best_estimator_\n",
    "poly_results_2 = poly_classifier_2.fit(x_mlcup_tr, y2_mlcup_tr)"
   ]
  },
  {
   "cell_type": "markdown",
   "id": "9505a174",
   "metadata": {},
   "source": [
    "## Model selection\n",
    "### Target 1"
   ]
  },
  {
   "cell_type": "code",
   "execution_count": 73,
   "id": "5ab9251d",
   "metadata": {
    "scrolled": true
   },
   "outputs": [
    {
     "name": "stdout",
     "output_type": "stream",
     "text": [
      "MEE score: 0.03902\n"
     ]
    }
   ],
   "source": [
    "mee_1 = my_mean_euclidean_distance(y1_mlcup_tr, rbf_classifier_1.predict(x_mlcup_tr))\n",
    "print(\"MEE score: %0.5f\" %(mee_1))"
   ]
  },
  {
   "cell_type": "code",
   "execution_count": 74,
   "id": "77a72cfd",
   "metadata": {},
   "outputs": [
    {
     "name": "stdout",
     "output_type": "stream",
     "text": [
      "MEE score: 0.05287\n"
     ]
    }
   ],
   "source": [
    "mee_1 = my_mean_euclidean_distance(y1_mlcup_tr, linear_classifier_1.predict(x_mlcup_tr))\n",
    "print(\"MEE score: %0.5f\" %(mee_1))"
   ]
  },
  {
   "cell_type": "code",
   "execution_count": 75,
   "id": "c46c7c98",
   "metadata": {},
   "outputs": [
    {
     "name": "stdout",
     "output_type": "stream",
     "text": [
      "MEE score: 0.05103\n"
     ]
    }
   ],
   "source": [
    "mee_1 = my_mean_euclidean_distance(y1_mlcup_tr, poly_classifier_1.predict(x_mlcup_tr))\n",
    "print(\"MEE score: %0.5f\" %(mee_1))"
   ]
  },
  {
   "cell_type": "markdown",
   "id": "1dd8c1ef",
   "metadata": {},
   "source": [
    "### Target 2"
   ]
  },
  {
   "cell_type": "code",
   "execution_count": 76,
   "id": "9cb64a1e",
   "metadata": {},
   "outputs": [
    {
     "name": "stdout",
     "output_type": "stream",
     "text": [
      "MEE score: 0.06402\n"
     ]
    }
   ],
   "source": [
    "mee_2 = my_mean_euclidean_distance(y2_mlcup_tr, rbf_classifier_2.predict(x_mlcup_tr))\n",
    "print(\"MEE score: %0.5f\" %(mee_2))"
   ]
  },
  {
   "cell_type": "code",
   "execution_count": 77,
   "id": "3bfee0c4",
   "metadata": {},
   "outputs": [
    {
     "name": "stdout",
     "output_type": "stream",
     "text": [
      "MEE score: 0.08246\n"
     ]
    }
   ],
   "source": [
    "mee_2 = my_mean_euclidean_distance(y2_mlcup_tr, linear_classifier_2.predict(x_mlcup_tr))\n",
    "print(\"MEE score: %0.5f\" %(mee_2))"
   ]
  },
  {
   "cell_type": "code",
   "execution_count": 78,
   "id": "99e615e5",
   "metadata": {},
   "outputs": [
    {
     "name": "stdout",
     "output_type": "stream",
     "text": [
      "MEE score: 0.07553\n"
     ]
    }
   ],
   "source": [
    "mee_2 = my_mean_euclidean_distance(y2_mlcup_tr, poly_classifier_2.predict(x_mlcup_tr))\n",
    "print(\"MEE score: %0.5f\" %(mee_2))"
   ]
  },
  {
   "cell_type": "markdown",
   "id": "0ae9ea5d",
   "metadata": {},
   "source": [
    "Since the best results are given by the Support Vector Machine classifier with the rbf kernel both on the first and second target, we choose these two models."
   ]
  },
  {
   "cell_type": "code",
   "execution_count": 38,
   "id": "ee2238a1",
   "metadata": {
    "scrolled": true
   },
   "outputs": [
    {
     "data": {
      "text/plain": [
       "['./results/ml_cup/SVM/rbf_classifier_2.z']"
      ]
     },
     "execution_count": 38,
     "metadata": {},
     "output_type": "execute_result"
    }
   ],
   "source": [
    "joblib.dump(rbf_classifier_1, './results/ml_cup/SVM/rbf_classifier_1.z')\n",
    "joblib.dump(rbf_classifier_2, './results/ml_cup/SVM/rbf_classifier_2.z')"
   ]
  },
  {
   "cell_type": "markdown",
   "id": "883b2655",
   "metadata": {},
   "source": [
    "### Comparison between SVM and KRR"
   ]
  },
  {
   "cell_type": "code",
   "execution_count": 39,
   "id": "29321fcf",
   "metadata": {},
   "outputs": [],
   "source": [
    "from sklearn.model_selection import learning_curve"
   ]
  },
  {
   "cell_type": "code",
   "execution_count": 40,
   "id": "f505a33b",
   "metadata": {},
   "outputs": [
    {
     "data": {
      "image/png": "[encoded data removed]",
      "text/plain": [
       "<Figure size 640x480 with 1 Axes>"
      ]
     },
     "metadata": {},
     "output_type": "display_data"
    }
   ],
   "source": [
    "plt.figure()\n",
    "\n",
    "svr = joblib.load('./results/ml_cup/SVM/rbf_classifier_1.z')\n",
    "kr = joblib.load('./results/ml_cup/KRR/rbf_krr_1.z')\n",
    "train_sizes, train_scores_svr, test_scores_svr = learning_curve(\n",
    "    svr,\n",
    "    x_mlcup_tr,\n",
    "    y1_mlcup_tr,\n",
    "    train_sizes = np.linspace(0.1, 1, 500),\n",
    "    scoring = mean_euclidean_distance,\n",
    "    cv = 5,\n",
    ")\n",
    "train_sizes_abs, train_scores_kr, test_scores_kr = learning_curve(\n",
    "    kr,\n",
    "    x_mlcup_tr,\n",
    "    y1_mlcup_tr,\n",
    "    train_sizes = np.linspace(0.1, 1, 500),\n",
    "    scoring = mean_euclidean_distance,\n",
    "    cv = 5,\n",
    ")\n",
    "\n",
    "plt.plot(train_sizes, -test_scores_kr.mean(1), color=\"g\", label=\"KRR\")\n",
    "plt.plot(train_sizes, -test_scores_svr.mean(1), color=\"r\", label=\"SVR\")\n",
    "plt.xlabel(\"Train size\")\n",
    "plt.ylabel(\"Mean Euclidean Distance\")\n",
    "plt.title(\"Learning curves\")\n",
    "plt.legend(loc=\"best\")\n",
    "\n",
    "plt.show()"
   ]
  },
  {
   "cell_type": "code",
   "execution_count": 41,
   "id": "ae5f9ff5",
   "metadata": {},
   "outputs": [
    {
     "data": {
      "image/png": "[encoded data removed]",
      "text/plain": [
       "<Figure size 640x480 with 1 Axes>"
      ]
     },
     "metadata": {},
     "output_type": "display_data"
    }
   ],
   "source": [
    "plt.figure()\n",
    "\n",
    "svr = joblib.load('./results/ml_cup/SVM/rbf_classifier_2.z')\n",
    "kr = joblib.load('./results/ml_cup/KRR/rbf_krr_2.z')\n",
    "train_sizes, train_scores_svr, test_scores_svr = learning_curve(\n",
    "    svr,\n",
    "    x_mlcup_tr,\n",
    "    y2_mlcup_tr,\n",
    "    train_sizes = np.linspace(0.1, 1, 500),\n",
    "    scoring = mean_euclidean_distance,\n",
    "    cv = 5,\n",
    ")\n",
    "train_sizes_abs, train_scores_kr, test_scores_kr = learning_curve(\n",
    "    kr,\n",
    "    x_mlcup_tr,\n",
    "    y2_mlcup_tr,\n",
    "    train_sizes = np.linspace(0.1, 1, 500),\n",
    "    scoring = mean_euclidean_distance,\n",
    "    cv = 5,\n",
    ")\n",
    "\n",
    "plt.plot(train_sizes, -test_scores_kr.mean(1), color=\"g\", label=\"KRR\")\n",
    "plt.plot(train_sizes, -test_scores_svr.mean(1), color=\"r\", label=\"SVR\")\n",
    "plt.xlabel(\"Train size\")\n",
    "plt.ylabel(\"Mean Euclidean Distance\")\n",
    "plt.title(\"Learning curves\")\n",
    "plt.legend(loc=\"best\")\n",
    "\n",
    "plt.show()"
   ]
  }
 ],
 "metadata": {
  "kernelspec": {
   "display_name": "Python 3 (ipykernel)",
   "language": "python",
   "name": "python3"
  },
  "language_info": {
   "codemirror_mode": {
    "name": "ipython",
    "version": 3
   },
   "file_extension": ".py",
   "mimetype": "text/x-python",
   "name": "python",
   "nbconvert_exporter": "python",
   "pygments_lexer": "ipython3",
   "version": "3.9.13"
  }
 },
 "nbformat": 4,
 "nbformat_minor": 5
}
