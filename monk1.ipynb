{
 "cells": [
  {
   "cell_type": "code",
   "execution_count": 3,
   "metadata": {
    "colab": {
     "base_uri": "https://localhost:8080/",
     "height": 342
    },
    "id": "To625fCJDk4v",
    "outputId": "fd4835fa-b717-4470-faea-e0ea30aa59bf"
   },
   "outputs": [],
   "source": [
    "import numpy as np\n",
    "import tensorflow as tf\n",
    "from sklearn.model_selection import GridSearchCV\n",
    "from tensorflow.keras.models import Sequential\n",
    "from tensorflow.keras.layers import Dense\n",
    "from scikeras.wrappers import KerasClassifier\n",
    "from numpy import loadtxt"
   ]
  },
  {
   "cell_type": "code",
   "execution_count": 5,
   "metadata": {
    "colab": {
     "base_uri": "https://localhost:8080/"
    },
    "id": "lxs1wgOXDlwy",
    "outputId": "86b840bd-01e5-4b64-eea6-80f1ccb8b904"
   },
   "outputs": [
    {
     "data": {
      "text/plain": [
       "array([['1', '1', '1', '1', '1', '3', '1'],\n",
       "       ['1', '1', '1', '1', '1', '3', '2'],\n",
       "       ['1', '1', '1', '1', '3', '2', '1'],\n",
       "       ['1', '1', '1', '1', '3', '3', '2'],\n",
       "       ['1', '1', '1', '2', '1', '2', '1'],\n",
       "       ['1', '1', '1', '2', '1', '2', '2'],\n",
       "       ['1', '1', '1', '2', '2', '3', '1'],\n",
       "       ['1', '1', '1', '2', '2', '4', '1'],\n",
       "       ['1', '1', '1', '2', '3', '1', '2'],\n",
       "       ['1', '1', '2', '1', '1', '1', '2']], dtype='<U8')"
      ]
     },
     "execution_count": 5,
     "metadata": {},
     "output_type": "execute_result"
    }
   ],
   "source": [
    "tr = loadtxt(\"dataset/monk1/monks-1.train\", dtype='str', delimiter=' ')\n",
    "tr = np.delete(tr, [0, 8], 1)\n",
    "tr[:10]"
   ]
  },
  {
   "cell_type": "code",
   "execution_count": 6,
   "metadata": {
    "colab": {
     "base_uri": "https://localhost:8080/"
    },
    "id": "OlnBhZeA22Ll",
    "outputId": "5edc0f2c-a386-4f60-dd5d-757677668cff"
   },
   "outputs": [
    {
     "data": {
      "text/plain": [
       "array([[1, 1, 1, 1, 1, 3, 1],\n",
       "       [1, 1, 1, 1, 1, 3, 2],\n",
       "       [1, 1, 1, 1, 3, 2, 1],\n",
       "       [1, 1, 1, 1, 3, 3, 2],\n",
       "       [1, 1, 1, 2, 1, 2, 1],\n",
       "       [1, 1, 1, 2, 1, 2, 2],\n",
       "       [1, 1, 1, 2, 2, 3, 1],\n",
       "       [1, 1, 1, 2, 2, 4, 1],\n",
       "       [1, 1, 1, 2, 3, 1, 2],\n",
       "       [1, 1, 2, 1, 1, 1, 2],\n",
       "       [0, 1, 2, 1, 1, 2, 1],\n",
       "       [0, 1, 2, 1, 1, 3, 1],\n",
       "       [0, 1, 2, 1, 1, 4, 2],\n",
       "       [1, 1, 2, 1, 2, 1, 1],\n",
       "       [0, 1, 2, 1, 2, 3, 1],\n",
       "       [0, 1, 2, 1, 2, 3, 2],\n",
       "       [0, 1, 2, 1, 2, 4, 2],\n",
       "       [0, 1, 2, 1, 3, 2, 1],\n",
       "       [0, 1, 2, 1, 3, 4, 2],\n",
       "       [0, 1, 2, 2, 1, 2, 2]])"
      ]
     },
     "execution_count": 6,
     "metadata": {},
     "output_type": "execute_result"
    }
   ],
   "source": [
    "tr = tr.astype(int)\n",
    "tr[:20]"
   ]
  },
  {
   "cell_type": "code",
   "execution_count": 7,
   "metadata": {
    "id": "RSoWTIrqB35x"
   },
   "outputs": [],
   "source": [
    "tr_y = tr[:, [0]]\n",
    "tr_x = tr[:, range(1,7)]"
   ]
  },
  {
   "cell_type": "code",
   "execution_count": 8,
   "metadata": {
    "colab": {
     "base_uri": "https://localhost:8080/"
    },
    "id": "yZUNdNC8CIZx",
    "outputId": "5bc4bbe9-20e9-4c18-ea32-f5130debd002"
   },
   "outputs": [
    {
     "data": {
      "text/plain": [
       "array([[1, 1, 1, 1, 3, 1],\n",
       "       [1, 1, 1, 1, 3, 2],\n",
       "       [1, 1, 1, 3, 2, 1],\n",
       "       [1, 1, 1, 3, 3, 2],\n",
       "       [1, 1, 2, 1, 2, 1],\n",
       "       [1, 1, 2, 1, 2, 2],\n",
       "       [1, 1, 2, 2, 3, 1],\n",
       "       [1, 1, 2, 2, 4, 1],\n",
       "       [1, 1, 2, 3, 1, 2],\n",
       "       [1, 2, 1, 1, 1, 2],\n",
       "       [1, 2, 1, 1, 2, 1],\n",
       "       [1, 2, 1, 1, 3, 1],\n",
       "       [1, 2, 1, 1, 4, 2],\n",
       "       [1, 2, 1, 2, 1, 1],\n",
       "       [1, 2, 1, 2, 3, 1],\n",
       "       [1, 2, 1, 2, 3, 2],\n",
       "       [1, 2, 1, 2, 4, 2],\n",
       "       [1, 2, 1, 3, 2, 1],\n",
       "       [1, 2, 1, 3, 4, 2],\n",
       "       [1, 2, 2, 1, 2, 2]])"
      ]
     },
     "execution_count": 8,
     "metadata": {},
     "output_type": "execute_result"
    }
   ],
   "source": [
    "tr_x[:20]"
   ]
  },
  {
   "cell_type": "code",
   "execution_count": 9,
   "metadata": {
    "colab": {
     "base_uri": "https://localhost:8080/"
    },
    "id": "hBPa2WZZCmnB",
    "outputId": "1a2df5c5-eca8-452f-c611-3f6d159f3506"
   },
   "outputs": [
    {
     "data": {
      "text/plain": [
       "range(0, 6)"
      ]
     },
     "execution_count": 9,
     "metadata": {},
     "output_type": "execute_result"
    }
   ],
   "source": [
    "range(6)"
   ]
  }
 ],
 "metadata": {
  "colab": {
   "collapsed_sections": [],
   "provenance": []
  },
  "kernelspec": {
   "display_name": "Python 3 (ipykernel)",
   "language": "python",
   "name": "python3"
  },
  "language_info": {
   "codemirror_mode": {
    "name": "ipython",
    "version": 3
   },
   "file_extension": ".py",
   "mimetype": "text/x-python",
   "name": "python",
   "nbconvert_exporter": "python",
   "pygments_lexer": "ipython3",
   "version": "3.9.7"
  }
 },
 "nbformat": 4,
 "nbformat_minor": 1
}
