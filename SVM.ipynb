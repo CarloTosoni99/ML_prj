{
 "cells": [
  {
   "cell_type": "markdown",
   "id": "0efd412d",
   "metadata": {},
   "source": [
    "# SVM with sklearn #\n",
    "\n",
    "This notebook creates a support vector machine for each monk. The best combination of hyperparameters is selected performing a grid search. Below there is a brief account about the implementation of each monk's support vector machine; for each monk dataset we built three different support vectore machines (with polynomial, linear and rbf kernels) and during the model selection we selected the best one that uses the best set of hyperparameters.\n",
    "\n",
    "\n",
    "## Monk1 ##\n",
    "\n",
    "Hyperparameters considered for the grid search:\n",
    "\n",
    "* SVM with rbf kernel\n",
    "    1. C \n",
    "    2. Gamma\n",
    "\n",
    "\n",
    "* SVM with linear kernel\n",
    "    1. C\n",
    "\n",
    "\n",
    "* SVM with polynomial kernel\n",
    "    1. C\n",
    "    2. Gamma\n",
    "    3. Degree\n",
    "    \n",
    "Model selection performed choosing the model with the best tuple of hyperparameters.\n",
    "\n",
    "## Monk2 ##\n",
    "\n",
    "Hyperparameters considered for the grid search:\n",
    "\n",
    "* SVM with rbf kernel\n",
    "    1. C \n",
    "    2. Gamma\n",
    "\n",
    "\n",
    "* SVM with linear kernel\n",
    "    1. C\n",
    "\n",
    "\n",
    "* SVM with polynomial kernel\n",
    "    1. C\n",
    "    2. Gamma\n",
    "    3. Degree\n",
    "\n",
    "Model selection performed choosing the model with the best tuple of hyperparameters.\n",
    "\n",
    "## Monk3 ##\n",
    "\n",
    "Hyperparameters considered for the grid search:\n",
    "\n",
    "* SVM with rbf kernel\n",
    "    1. C \n",
    "    2. Gamma\n",
    "\n",
    "\n",
    "* SVM with linear kernel\n",
    "    1. C\n",
    "\n",
    "\n",
    "* SVM with polynomial kernel\n",
    "    1. C\n",
    "    2. Gamma\n",
    "    3. Degree\n",
    "\n",
    "Model selection performed choosing the model with the best tuple of hyperparameters."
   ]
  },
  {
   "cell_type": "markdown",
   "id": "4a64cadd",
   "metadata": {},
   "source": [
    "### Importing libraries"
   ]
  },
  {
   "cell_type": "code",
   "execution_count": 1,
   "id": "64d3dcf4",
   "metadata": {},
   "outputs": [],
   "source": [
    "import pandas as pd\n",
    "import numpy as np\n",
    "import matplotlib.pyplot as plt\n",
    "import numpy as np\n",
    "import tensorflow as tf\n",
    "from numpy import loadtxt\n",
    "from sklearn.preprocessing import OneHotEncoder\n",
    "from sklearn.metrics import ConfusionMatrixDisplay, confusion_matrix\n",
    "\n",
    "from sklearn.svm import SVC\n",
    "from sklearn.model_selection import StratifiedShuffleSplit\n",
    "from sklearn.model_selection import GridSearchCV\n",
    "\n",
    "import joblib"
   ]
  },
  {
   "cell_type": "markdown",
   "id": "86192941",
   "metadata": {},
   "source": [
    "## Monk 1"
   ]
  },
  {
   "cell_type": "markdown",
   "id": "ed6195fb",
   "metadata": {},
   "source": [
    "### Importing datasets"
   ]
  },
  {
   "cell_type": "code",
   "execution_count": 2,
   "id": "e26ed463",
   "metadata": {},
   "outputs": [],
   "source": [
    "colnames = ['class', 'a1', 'a2', 'a3', 'a4', 'a5', 'a6', 'id']\n",
    "monk1_tr = pd.read_csv(\"./dataset/monk1/monks-1.train\", sep = \" \", skipinitialspace=True, names = colnames)\n",
    "monk1_tr = monk1_tr.drop('id', axis = 1)\n",
    "\n",
    "monk1_ts = pd.read_csv(\"./dataset/monk1/monks-1.test\", sep = \" \", skipinitialspace=True, names = colnames)\n",
    "monk1_ts = monk1_ts.drop('id', axis = 1)"
   ]
  },
  {
   "cell_type": "code",
   "execution_count": 3,
   "id": "8915d9ef",
   "metadata": {},
   "outputs": [],
   "source": [
    "x_monk1_tr = monk1_tr.iloc[:, 1:7].values\n",
    "y_monk1_tr = monk1_tr.iloc[:, 0].values\n",
    "\n",
    "x_monk1_ts = monk1_ts.iloc[:, 1:7].values\n",
    "y_monk1_ts = monk1_ts.iloc[:, 0].values"
   ]
  },
  {
   "cell_type": "markdown",
   "id": "7275a232",
   "metadata": {},
   "source": [
    "### Performing one-hot encoding"
   ]
  },
  {
   "cell_type": "code",
   "execution_count": 4,
   "id": "ab2b9def",
   "metadata": {},
   "outputs": [],
   "source": [
    "one_hot_encoder_tr = OneHotEncoder(sparse=False)\n",
    "one_hot_encoder_tr.fit(x_monk1_tr)\n",
    "x_monk1_tr = one_hot_encoder_tr.transform(x_monk1_tr)\n",
    "\n",
    "one_hot_encoder_ts = OneHotEncoder(sparse=False)\n",
    "one_hot_encoder_ts.fit(x_monk1_ts)\n",
    "x_monk1_ts = one_hot_encoder_ts.transform(x_monk1_ts)"
   ]
  },
  {
   "cell_type": "markdown",
   "id": "421cf75f",
   "metadata": {},
   "source": [
    "### Grid search"
   ]
  },
  {
   "cell_type": "markdown",
   "id": "6311c34f",
   "metadata": {},
   "source": [
    "#### RBF kernel\n",
    "For the SVM with an RBF kernel, the hyperparameters we can work on are *C* and *gamma*."
   ]
  },
  {
   "cell_type": "code",
   "execution_count": 5,
   "id": "1b7fc805",
   "metadata": {},
   "outputs": [
    {
     "name": "stdout",
     "output_type": "stream",
     "text": [
      "The best parameters are {'C': 27.06995697937494, 'gamma': 0.08129499502225035} with a score of 0.93158\n"
     ]
    }
   ],
   "source": [
    "C_range = np.logspace(-2, 5, 30, base = 2)\n",
    "gamma_range = np.logspace(-9, 3, 30, base = 2)\n",
    "\n",
    "param_grid = [{'C': C_range, 'gamma': gamma_range},\n",
    "              {'C': C_range, 'gamma': ['auto', 'scale']}]\n",
    "\n",
    "cv = StratifiedShuffleSplit(\n",
    "    n_splits=5,\n",
    "    test_size=0.3\n",
    ")\n",
    "\n",
    "grid = GridSearchCV(\n",
    "    SVC(kernel = 'rbf'),\n",
    "    param_grid = param_grid,\n",
    "    cv=cv,\n",
    "    scoring = 'accuracy',\n",
    "    n_jobs = -1\n",
    ")\n",
    "\n",
    "grid.fit(x_monk1_tr, y_monk1_tr)\n",
    "\n",
    "print(\n",
    "    \"The best parameters are %s with a score of %0.5f\"\n",
    "    % (grid.best_params_, grid.best_score_)\n",
    ")"
   ]
  },
  {
   "cell_type": "code",
   "execution_count": 6,
   "id": "06c4158e",
   "metadata": {
    "scrolled": false
   },
   "outputs": [],
   "source": [
    "rbf_classifier = grid.best_estimator_"
   ]
  },
  {
   "cell_type": "code",
   "execution_count": 7,
   "id": "55817b9b",
   "metadata": {},
   "outputs": [
    {
     "data": {
      "image/png": "[encoded data removed]",
      "text/plain": [
       "<Figure size 640x480 with 2 Axes>"
      ]
     },
     "metadata": {},
     "output_type": "display_data"
    }
   ],
   "source": [
    "predictions = rbf_classifier.predict(x_monk1_tr)\n",
    "\n",
    "cm = confusion_matrix(y_monk1_tr, predictions)\n",
    "disp = ConfusionMatrixDisplay(confusion_matrix=cm)\n",
    "disp.plot()\n",
    "plt.show()"
   ]
  },
  {
   "cell_type": "markdown",
   "id": "f887473d",
   "metadata": {},
   "source": [
    "#### Linear kernel\n",
    "For the SVM with an linear kernel, the hyperparameter we can work on is *C*."
   ]
  },
  {
   "cell_type": "code",
   "execution_count": 9,
   "id": "cae63c1d",
   "metadata": {},
   "outputs": [
    {
     "name": "stdout",
     "output_type": "stream",
     "text": [
      "The best parameters are {'C': 42.047245672296846} with a score of 0.78421\n"
     ]
    }
   ],
   "source": [
    "C_range = np.logspace(-2, 10, 100, base = 2)\n",
    "gamma_range = np.logspace(-9, 3, 30, base = 2)\n",
    "\n",
    "param_grid = dict(\n",
    "    C = C_range\n",
    ")\n",
    "\n",
    "cv = StratifiedShuffleSplit(\n",
    "    n_splits=5,\n",
    "    test_size=0.3\n",
    ")\n",
    "\n",
    "grid = GridSearchCV(\n",
    "    SVC(kernel = 'linear'),\n",
    "    param_grid = param_grid,\n",
    "    cv=cv,\n",
    "    scoring = 'accuracy',\n",
    "    n_jobs = -1\n",
    ")\n",
    "\n",
    "grid.fit(x_monk1_tr, y_monk1_tr)\n",
    "\n",
    "print(\n",
    "    \"The best parameters are %s with a score of %0.5f\"\n",
    "    % (grid.best_params_, grid.best_score_)\n",
    ")"
   ]
  },
  {
   "cell_type": "code",
   "execution_count": 10,
   "id": "f865ea27",
   "metadata": {},
   "outputs": [],
   "source": [
    "linear_classifier = grid.best_estimator_"
   ]
  },
  {
   "cell_type": "code",
   "execution_count": 11,
   "id": "3e3bc1cd",
   "metadata": {},
   "outputs": [
    {
     "data": {
      "image/png": "[encoded data removed]",
      "text/plain": [
       "<Figure size 640x480 with 2 Axes>"
      ]
     },
     "metadata": {},
     "output_type": "display_data"
    }
   ],
   "source": [
    "predictions = linear_classifier.predict(x_monk1_tr)\n",
    "\n",
    "cm = confusion_matrix(y_monk1_tr, predictions)\n",
    "disp = ConfusionMatrixDisplay(confusion_matrix=cm)\n",
    "disp.plot()\n",
    "plt.show()"
   ]
  },
  {
   "cell_type": "markdown",
   "id": "165a6fbd",
   "metadata": {},
   "source": [
    "#### Polynomial kernel\n",
    "For the SVM with an linear kernel, the hyperparameters we can work on are *C*, *gamma* and *degree*."
   ]
  },
  {
   "cell_type": "code",
   "execution_count": 12,
   "id": "7261cd17",
   "metadata": {},
   "outputs": [
    {
     "name": "stdout",
     "output_type": "stream",
     "text": [
      "The best parameters are {'C': 0.25, 'degree': 2, 'gamma': 1.259921049894872} with a score of 0.97895\n"
     ]
    }
   ],
   "source": [
    "degree_range = np.arange(2, 10, 1)\n",
    "C_range = np.logspace(-2, 10, 10, base = 2)\n",
    "gamma_range = np.logspace(-9, 3, 10, base = 2)\n",
    "\n",
    "param_grid = [{'C': C_range, 'gamma': gamma_range, 'degree': degree_range},\n",
    "              {'C': C_range, 'degree': degree_range, 'gamma': ['auto', 'scale']}]\n",
    "\n",
    "cv = StratifiedShuffleSplit(\n",
    "    n_splits=5,\n",
    "    test_size=0.3\n",
    ")\n",
    "\n",
    "grid = GridSearchCV(\n",
    "    SVC(kernel = 'poly'),\n",
    "    param_grid = param_grid,\n",
    "    cv=cv,\n",
    "    scoring = 'accuracy',\n",
    "    n_jobs = -1\n",
    ")\n",
    "\n",
    "grid.fit(x_monk1_tr, y_monk1_tr)\n",
    "\n",
    "print(\n",
    "    \"The best parameters are %s with a score of %0.5f\"\n",
    "    % (grid.best_params_, grid.best_score_)\n",
    ")"
   ]
  },
  {
   "cell_type": "code",
   "execution_count": 13,
   "id": "64cd5c33",
   "metadata": {},
   "outputs": [],
   "source": [
    "poly_classifier = grid.best_estimator_"
   ]
  },
  {
   "cell_type": "code",
   "execution_count": 14,
   "id": "3d89c94b",
   "metadata": {},
   "outputs": [
    {
     "data": {
      "image/png": "[encoded data removed]",
      "text/plain": [
       "<Figure size 640x480 with 2 Axes>"
      ]
     },
     "metadata": {},
     "output_type": "display_data"
    }
   ],
   "source": [
    "predictions = poly_classifier.predict(x_monk1_tr)\n",
    "\n",
    "cm = confusion_matrix(y_monk1_tr, predictions)\n",
    "disp = ConfusionMatrixDisplay(confusion_matrix=cm)\n",
    "disp.plot()\n",
    "plt.show()"
   ]
  },
  {
   "cell_type": "markdown",
   "id": "660ae237",
   "metadata": {},
   "source": [
    "### Model selection\n",
    "After the model selection of SVC with different kind of kernels, we are going to select the best one.\n",
    "Since a high C means that the model has a higer complexity (because of the SLT) and the risk is higher, we prefer to choose the SVM that uses polynomial as kernel, since C is low (and it means we have a low complexity due to the regularization). "
   ]
  },
  {
   "cell_type": "code",
   "execution_count": 15,
   "id": "58696c4a",
   "metadata": {},
   "outputs": [
    {
     "data": {
      "text/plain": [
       "['./results/monk1/SVM/poly_svm_monk1.z']"
      ]
     },
     "execution_count": 15,
     "metadata": {},
     "output_type": "execute_result"
    }
   ],
   "source": [
    "#Save the polynomial model\n",
    "joblib.dump(poly_classifier, './results/monk1/SVM/poly_svm_monk1.z')"
   ]
  },
  {
   "cell_type": "markdown",
   "id": "11f49c4f",
   "metadata": {},
   "source": [
    "### Model assesstment\n",
    "After the selection phase we assess the generalization capabilities of the final model."
   ]
  },
  {
   "cell_type": "code",
   "execution_count": 16,
   "id": "bd554465",
   "metadata": {
    "scrolled": true
   },
   "outputs": [],
   "source": [
    "svm_monk1 = joblib.load('./results/monk1/SVM/poly_svm_monk1.z')"
   ]
  },
  {
   "cell_type": "code",
   "execution_count": 17,
   "id": "0ff1d4cb",
   "metadata": {},
   "outputs": [],
   "source": [
    "score1 = svm_monk1.score(x_monk1_ts, y_monk1_ts)"
   ]
  },
  {
   "cell_type": "code",
   "execution_count": 18,
   "id": "be96ae7f",
   "metadata": {},
   "outputs": [
    {
     "name": "stdout",
     "output_type": "stream",
     "text": [
      "Final accuracy on the test set: 1.0\n"
     ]
    }
   ],
   "source": [
    "print(\"Final accuracy on the test set: \" + str(score1))"
   ]
  },
  {
   "cell_type": "code",
   "execution_count": 19,
   "id": "2d6d1e75",
   "metadata": {},
   "outputs": [
    {
     "data": {
      "image/png": "[encoded data removed]",
      "text/plain": [
       "<Figure size 640x480 with 2 Axes>"
      ]
     },
     "metadata": {},
     "output_type": "display_data"
    }
   ],
   "source": [
    "predictions = svm_monk1.predict(x_monk1_ts)\n",
    "\n",
    "cm = confusion_matrix(y_monk1_ts, predictions)\n",
    "disp = ConfusionMatrixDisplay(confusion_matrix=cm)\n",
    "disp.plot()\n",
    "plt.show()"
   ]
  },
  {
   "cell_type": "markdown",
   "id": "4125e003",
   "metadata": {},
   "source": [
    "## Monk 2"
   ]
  },
  {
   "cell_type": "code",
   "execution_count": 20,
   "id": "75abf874",
   "metadata": {},
   "outputs": [],
   "source": [
    "colnames = ['class', 'a1', 'a2', 'a3', 'a4', 'a5', 'a6', 'id']\n",
    "monk2_tr = pd.read_csv(\"./dataset/monk2/monks-2.train\", sep = \" \", skipinitialspace=True, names = colnames)\n",
    "monk2_tr = monk2_tr.drop('id', axis = 1)\n",
    "\n",
    "monk2_ts = pd.read_csv(\"./dataset/monk2/monks-2.test\", sep = \" \", skipinitialspace=True, names = colnames)\n",
    "monk2_ts = monk2_ts.drop('id', axis = 1)"
   ]
  },
  {
   "cell_type": "code",
   "execution_count": 21,
   "id": "af5c436e",
   "metadata": {},
   "outputs": [],
   "source": [
    "x_monk2_tr = monk2_tr.iloc[:, 1:7].values\n",
    "y_monk2_tr = monk2_tr.iloc[:, 0].values\n",
    "\n",
    "x_monk2_ts = monk2_ts.iloc[:, 1:7].values\n",
    "y_monk2_ts = monk2_ts.iloc[:, 0].values"
   ]
  },
  {
   "cell_type": "code",
   "execution_count": 22,
   "id": "18db0438",
   "metadata": {},
   "outputs": [],
   "source": [
    "one_hot_encoder_tr = OneHotEncoder(sparse=False)\n",
    "one_hot_encoder_tr.fit(x_monk2_tr)\n",
    "x_monk2_tr = one_hot_encoder_tr.transform(x_monk2_tr)\n",
    "\n",
    "one_hot_encoder_ts = OneHotEncoder(sparse=False)\n",
    "one_hot_encoder_ts.fit(x_monk2_ts)\n",
    "x_monk2_ts = one_hot_encoder_ts.transform(x_monk2_ts)"
   ]
  },
  {
   "cell_type": "markdown",
   "id": "aca75718",
   "metadata": {},
   "source": [
    "### Grid search"
   ]
  },
  {
   "cell_type": "markdown",
   "id": "681afab0",
   "metadata": {},
   "source": [
    "#### RBF kernel\n",
    "For the SVM with an RBF kernel, the hyperparameters we can work on are *C* and *gamma*."
   ]
  },
  {
   "cell_type": "code",
   "execution_count": 23,
   "id": "75b4f919",
   "metadata": {},
   "outputs": [
    {
     "name": "stdout",
     "output_type": "stream",
     "text": [
      "The best parameters are {'C': 1024.0, 'gamma': 0.021941347171432164} with a score of 0.76078\n"
     ]
    }
   ],
   "source": [
    "C_range = np.logspace(-2, 10, 50, base = 2)\n",
    "gamma_range = np.logspace(-9, 10, 50, base = 2)\n",
    "\n",
    "param_grid = [{'C': C_range, 'gamma': gamma_range},\n",
    "              {'C': C_range, 'gamma': ['auto', 'scale']}]\n",
    "\n",
    "cv = StratifiedShuffleSplit(\n",
    "    n_splits=5,\n",
    "    test_size=0.3\n",
    ")\n",
    "\n",
    "grid = GridSearchCV(\n",
    "    SVC(kernel = 'rbf'),\n",
    "    param_grid = param_grid,\n",
    "    cv=cv,\n",
    "    scoring = 'accuracy',\n",
    "    n_jobs = -1\n",
    ")\n",
    "\n",
    "grid.fit(x_monk2_tr, y_monk2_tr)\n",
    "\n",
    "print(\n",
    "    \"The best parameters are %s with a score of %0.5f\"\n",
    "    % (grid.best_params_, grid.best_score_)\n",
    ")"
   ]
  },
  {
   "cell_type": "code",
   "execution_count": 24,
   "id": "0851cf51",
   "metadata": {},
   "outputs": [],
   "source": [
    "rbf_classifier = grid.best_estimator_"
   ]
  },
  {
   "cell_type": "code",
   "execution_count": 25,
   "id": "0ec22839",
   "metadata": {},
   "outputs": [
    {
     "data": {
      "image/png": "[encoded data removed]",
      "text/plain": [
       "<Figure size 640x480 with 2 Axes>"
      ]
     },
     "metadata": {},
     "output_type": "display_data"
    }
   ],
   "source": [
    "predictions = rbf_classifier.predict(x_monk2_tr)\n",
    "\n",
    "cm = confusion_matrix(y_monk2_tr, predictions)\n",
    "disp = ConfusionMatrixDisplay(confusion_matrix=cm)\n",
    "disp.plot()\n",
    "plt.show()"
   ]
  },
  {
   "cell_type": "markdown",
   "id": "9676d0ac",
   "metadata": {},
   "source": [
    "#### Linear kernel\n",
    "For the SVM with an linear kernel, the hyperparameter we can work on is *C*."
   ]
  },
  {
   "cell_type": "code",
   "execution_count": 26,
   "id": "8dd02936",
   "metadata": {},
   "outputs": [
    {
     "name": "stdout",
     "output_type": "stream",
     "text": [
      "The best parameters are {'C': 0.2957447046849116} with a score of 0.60392\n"
     ]
    }
   ],
   "source": [
    "C_range = np.logspace(-2, 10, 100, base = 2)\n",
    "\n",
    "param_grid = dict(\n",
    "    C = C_range\n",
    ")\n",
    "\n",
    "cv = StratifiedShuffleSplit(\n",
    "    n_splits=5,\n",
    "    test_size=0.3\n",
    ")\n",
    "\n",
    "grid = GridSearchCV(\n",
    "    SVC(kernel = 'linear'),\n",
    "    param_grid = param_grid,\n",
    "    cv=cv,\n",
    "    scoring = 'accuracy',\n",
    "    n_jobs = -1\n",
    ")\n",
    "\n",
    "grid.fit(x_monk2_tr, y_monk2_tr)\n",
    "\n",
    "print(\n",
    "    \"The best parameters are %s with a score of %0.5f\"\n",
    "    % (grid.best_params_, grid.best_score_)\n",
    ")"
   ]
  },
  {
   "cell_type": "code",
   "execution_count": 27,
   "id": "c68ddcf0",
   "metadata": {},
   "outputs": [],
   "source": [
    "linear_classifier = grid.best_estimator_"
   ]
  },
  {
   "cell_type": "code",
   "execution_count": 28,
   "id": "ecb8fb12",
   "metadata": {},
   "outputs": [
    {
     "data": {
      "image/png": "[encoded data removed]",
      "text/plain": [
       "<Figure size 640x480 with 2 Axes>"
      ]
     },
     "metadata": {},
     "output_type": "display_data"
    }
   ],
   "source": [
    "predictions = linear_classifier.predict(x_monk2_tr)\n",
    "\n",
    "cm = confusion_matrix(y_monk2_tr, predictions)\n",
    "disp = ConfusionMatrixDisplay(confusion_matrix=cm)\n",
    "disp.plot()\n",
    "plt.show()"
   ]
  },
  {
   "cell_type": "markdown",
   "id": "2f4a2687",
   "metadata": {},
   "source": [
    "#### Polynomial kernel\n",
    "For the SVM with an linear kernel, the hyperparameters we can work on are *C*, *gamma* and *degree*."
   ]
  },
  {
   "cell_type": "code",
   "execution_count": 29,
   "id": "dfbff3df",
   "metadata": {},
   "outputs": [
    {
     "name": "stdout",
     "output_type": "stream",
     "text": [
      "The best parameters are {'C': 0.25, 'degree': 2, 'gamma': 8.0} with a score of 0.83922\n"
     ]
    }
   ],
   "source": [
    "degree_range = np.arange(2, 10, 1)\n",
    "C_range = np.logspace(-2, 10, 10, base = 2)\n",
    "gamma_range = np.logspace(-9, 3, 10, base = 2)\n",
    "\n",
    "param_grid = [{'C': C_range, 'gamma': gamma_range, 'degree': degree_range},\n",
    "              {'C': C_range, 'degree': degree_range, 'gamma': ['auto', 'scale']}]\n",
    "\n",
    "cv = StratifiedShuffleSplit(\n",
    "    n_splits=5,\n",
    "    test_size=0.3\n",
    ")\n",
    "\n",
    "grid = GridSearchCV(\n",
    "    SVC(kernel = 'poly'),\n",
    "    param_grid = param_grid,\n",
    "    cv=cv,\n",
    "    scoring = 'accuracy',\n",
    "    n_jobs = -1\n",
    ")\n",
    "\n",
    "grid.fit(x_monk2_tr, y_monk2_tr)\n",
    "\n",
    "print(\n",
    "    \"The best parameters are %s with a score of %0.5f\"\n",
    "    % (grid.best_params_, grid.best_score_)\n",
    ")"
   ]
  },
  {
   "cell_type": "code",
   "execution_count": 30,
   "id": "b26014e3",
   "metadata": {},
   "outputs": [],
   "source": [
    "poly_classifier = grid.best_estimator_"
   ]
  },
  {
   "cell_type": "code",
   "execution_count": 31,
   "id": "8d814598",
   "metadata": {},
   "outputs": [
    {
     "data": {
      "image/png": "[encoded data removed]",
      "text/plain": [
       "<Figure size 640x480 with 2 Axes>"
      ]
     },
     "metadata": {},
     "output_type": "display_data"
    }
   ],
   "source": [
    "predictions = poly_classifier.predict(x_monk2_tr)\n",
    "\n",
    "cm = confusion_matrix(y_monk2_tr, predictions)\n",
    "disp = ConfusionMatrixDisplay(confusion_matrix=cm)\n",
    "disp.plot()\n",
    "plt.show()"
   ]
  },
  {
   "cell_type": "markdown",
   "id": "ec6ac739",
   "metadata": {},
   "source": [
    "### Model selection\n",
    "After the model selection of SVC with different kind of kernels, we are going to select the best one.\n",
    "Since a high C means that the model has a higer complexity (because of the SLT) and the risk is higher, we prefer to choose the SVM that uses polynomial as kernel, since C is low (and it means we have a low complexity due to the regularization)."
   ]
  },
  {
   "cell_type": "code",
   "execution_count": 32,
   "id": "25c117f7",
   "metadata": {
    "scrolled": true
   },
   "outputs": [
    {
     "data": {
      "text/plain": [
       "['./results/monk2/SVM/poly_svm_monk2.z']"
      ]
     },
     "execution_count": 32,
     "metadata": {},
     "output_type": "execute_result"
    }
   ],
   "source": [
    "#Save the polynomial model\n",
    "joblib.dump(poly_classifier, './results/monk2/SVM/poly_svm_monk2.z')"
   ]
  },
  {
   "cell_type": "markdown",
   "id": "5a2075a6",
   "metadata": {},
   "source": [
    "### Model assesstment\n",
    "After the selection phase we assess the generalization capabilities of the final model."
   ]
  },
  {
   "cell_type": "code",
   "execution_count": 33,
   "id": "dbf65385",
   "metadata": {},
   "outputs": [],
   "source": [
    "svm_monk2 = joblib.load('./results/monk2/SVM/poly_svm_monk2.z')"
   ]
  },
  {
   "cell_type": "code",
   "execution_count": 34,
   "id": "886f59d8",
   "metadata": {},
   "outputs": [],
   "source": [
    "score2 = svm_monk2.score(x_monk2_ts, y_monk2_ts)"
   ]
  },
  {
   "cell_type": "code",
   "execution_count": 35,
   "id": "295e9bd0",
   "metadata": {},
   "outputs": [
    {
     "name": "stdout",
     "output_type": "stream",
     "text": [
      "Final accuracy on the test set: 1.0\n"
     ]
    }
   ],
   "source": [
    "print(\"Final accuracy on the test set: \" + str(score2))"
   ]
  },
  {
   "cell_type": "code",
   "execution_count": 36,
   "id": "f35b3fc9",
   "metadata": {},
   "outputs": [
    {
     "data": {
      "image/png": "[encoded data removed]",
      "text/plain": [
       "<Figure size 640x480 with 2 Axes>"
      ]
     },
     "metadata": {},
     "output_type": "display_data"
    }
   ],
   "source": [
    "predictions = svm_monk2.predict(x_monk2_ts)\n",
    "\n",
    "cm = confusion_matrix(y_monk2_ts, predictions)\n",
    "disp = ConfusionMatrixDisplay(confusion_matrix=cm)\n",
    "disp.plot()\n",
    "plt.show()"
   ]
  },
  {
   "cell_type": "markdown",
   "id": "d8786fe6",
   "metadata": {},
   "source": [
    "## Monk 3"
   ]
  },
  {
   "cell_type": "code",
   "execution_count": 37,
   "id": "8a16482d",
   "metadata": {},
   "outputs": [],
   "source": [
    "colnames = ['class', 'a1', 'a2', 'a3', 'a4', 'a5', 'a6', 'id']\n",
    "monk3_tr = pd.read_csv(\"./dataset/monk3/monks-3.train\", sep = \" \", skipinitialspace=True, names = colnames)\n",
    "monk3_tr = monk3_tr.drop('id', axis = 1)\n",
    "\n",
    "monk3_ts = pd.read_csv(\"./dataset/monk3/monks-3.test\", sep = \" \", skipinitialspace=True, names = colnames)\n",
    "monk3_ts = monk3_ts.drop('id', axis = 1)"
   ]
  },
  {
   "cell_type": "code",
   "execution_count": 38,
   "id": "c4701f57",
   "metadata": {},
   "outputs": [],
   "source": [
    "x_monk3_tr = monk3_tr.iloc[:, 1:7].values\n",
    "y_monk3_tr = monk3_tr.iloc[:, 0].values\n",
    "\n",
    "x_monk3_ts = monk3_ts.iloc[:, 1:7].values\n",
    "y_monk3_ts = monk3_ts.iloc[:, 0].values"
   ]
  },
  {
   "cell_type": "code",
   "execution_count": 39,
   "id": "026596ad",
   "metadata": {},
   "outputs": [],
   "source": [
    "one_hot_encoder_tr = OneHotEncoder(sparse=False)\n",
    "one_hot_encoder_tr.fit(x_monk3_tr)\n",
    "x_monk3_tr = one_hot_encoder_tr.transform(x_monk3_tr)\n",
    "\n",
    "one_hot_encoder_ts = OneHotEncoder(sparse=False)\n",
    "one_hot_encoder_ts.fit(x_monk3_ts)\n",
    "x_monk3_ts = one_hot_encoder_ts.transform(x_monk3_ts)"
   ]
  },
  {
   "cell_type": "markdown",
   "id": "79cb3a06",
   "metadata": {},
   "source": [
    "### Grid search"
   ]
  },
  {
   "cell_type": "markdown",
   "id": "bc306e04",
   "metadata": {},
   "source": [
    "#### RBF kernel\n",
    "For the SVM with an RBF kernel, the hyperparameters we can work on are *C* and *gamma*."
   ]
  },
  {
   "cell_type": "code",
   "execution_count": 40,
   "id": "9877fbf8",
   "metadata": {},
   "outputs": [
    {
     "name": "stdout",
     "output_type": "stream",
     "text": [
      "The best parameters are {'C': 0.953321330946634, 'gamma': 0.08129499502225035} with a score of 0.92973\n"
     ]
    }
   ],
   "source": [
    "C_range = np.logspace(-2, 5, 30, base = 2)\n",
    "gamma_range = np.logspace(-9, 3, 30, base = 2)\n",
    "\n",
    "param_grid = [{'C': C_range, 'gamma': gamma_range},\n",
    "              {'C': C_range, 'gamma': ['auto', 'scale']}]\n",
    "\n",
    "cv = StratifiedShuffleSplit(\n",
    "    n_splits=5,\n",
    "    test_size=0.3\n",
    ")\n",
    "\n",
    "grid = GridSearchCV(\n",
    "    SVC(kernel = 'rbf'),\n",
    "    param_grid = param_grid,\n",
    "    cv=cv,\n",
    "    scoring = 'accuracy',\n",
    "    n_jobs = -1\n",
    ")\n",
    "\n",
    "grid.fit(x_monk3_tr, y_monk3_tr)\n",
    "\n",
    "print(\n",
    "    \"The best parameters are %s with a score of %0.5f\"\n",
    "    % (grid.best_params_, grid.best_score_)\n",
    ")"
   ]
  },
  {
   "cell_type": "code",
   "execution_count": 41,
   "id": "3dbf3d23",
   "metadata": {},
   "outputs": [],
   "source": [
    "rbf_classifier = grid.best_estimator_"
   ]
  },
  {
   "cell_type": "code",
   "execution_count": 42,
   "id": "f14517a2",
   "metadata": {},
   "outputs": [
    {
     "data": {
      "image/png": "[encoded data removed]",
      "text/plain": [
       "<Figure size 640x480 with 2 Axes>"
      ]
     },
     "metadata": {},
     "output_type": "display_data"
    }
   ],
   "source": [
    "predictions = rbf_classifier.predict(x_monk3_tr)\n",
    "\n",
    "cm = confusion_matrix(y_monk3_tr, predictions)\n",
    "disp = ConfusionMatrixDisplay(confusion_matrix=cm)\n",
    "disp.plot()\n",
    "plt.show()"
   ]
  },
  {
   "cell_type": "markdown",
   "id": "1298f014",
   "metadata": {},
   "source": [
    "#### Linear kernel\n",
    "For the SVM with an linear kernel, the hyperparameter we can work on is *C*."
   ]
  },
  {
   "cell_type": "code",
   "execution_count": 43,
   "id": "07d5066d",
   "metadata": {},
   "outputs": [
    {
     "name": "stdout",
     "output_type": "stream",
     "text": [
      "The best parameters are {'C': 0.25} with a score of 0.91892\n"
     ]
    }
   ],
   "source": [
    "C_range = np.logspace(-2, 10, 100, base = 2)\n",
    "\n",
    "param_grid = dict(\n",
    "    C = C_range\n",
    ")\n",
    "\n",
    "cv = StratifiedShuffleSplit(\n",
    "    n_splits=5,\n",
    "    test_size=0.3\n",
    ")\n",
    "\n",
    "grid = GridSearchCV(\n",
    "    SVC(kernel = 'linear'),\n",
    "    param_grid = param_grid,\n",
    "    cv=cv,\n",
    "    scoring = 'accuracy',\n",
    "    n_jobs = -1\n",
    ")\n",
    "\n",
    "grid.fit(x_monk3_tr, y_monk3_tr)\n",
    "\n",
    "print(\n",
    "    \"The best parameters are %s with a score of %0.5f\"\n",
    "    % (grid.best_params_, grid.best_score_)\n",
    ")"
   ]
  },
  {
   "cell_type": "code",
   "execution_count": 44,
   "id": "9121ed16",
   "metadata": {},
   "outputs": [],
   "source": [
    "linear_classifier = grid.best_estimator_"
   ]
  },
  {
   "cell_type": "code",
   "execution_count": 45,
   "id": "c8022190",
   "metadata": {},
   "outputs": [
    {
     "data": {
      "image/png": "[encoded data removed]",
      "text/plain": [
       "<Figure size 640x480 with 2 Axes>"
      ]
     },
     "metadata": {},
     "output_type": "display_data"
    }
   ],
   "source": [
    "predictions = linear_classifier.predict(x_monk2_tr)\n",
    "\n",
    "cm = confusion_matrix(y_monk2_tr, predictions)\n",
    "disp = ConfusionMatrixDisplay(confusion_matrix=cm)\n",
    "disp.plot()\n",
    "plt.show()"
   ]
  },
  {
   "cell_type": "markdown",
   "id": "54feace2",
   "metadata": {},
   "source": [
    "#### Polynomial kernel\n",
    "For the SVM with an linear kernel, the hyperparameters we can work on are *C*, *gamma* and *degree*."
   ]
  },
  {
   "cell_type": "code",
   "execution_count": 46,
   "id": "b43c1fb5",
   "metadata": {},
   "outputs": [
    {
     "name": "stdout",
     "output_type": "stream",
     "text": [
      "The best parameters are {'C': 0.25, 'degree': 2, 'gamma': 0.5} with a score of 0.96757\n"
     ]
    }
   ],
   "source": [
    "degree_range = np.arange(2, 10, 1)\n",
    "C_range = np.logspace(-2, 10, 10, base = 2)\n",
    "gamma_range = np.logspace(-9, 3, 10, base = 2)\n",
    "\n",
    "param_grid = [{'C': C_range, 'gamma': gamma_range, 'degree': degree_range},\n",
    "              {'C': C_range, 'degree': degree_range, 'gamma': ['auto', 'scale']}]\n",
    "\n",
    "cv = StratifiedShuffleSplit(\n",
    "    n_splits=5,\n",
    "    test_size=0.3\n",
    ")\n",
    "\n",
    "grid = GridSearchCV(\n",
    "    SVC(kernel = 'poly'),\n",
    "    param_grid = param_grid,\n",
    "    cv=cv,\n",
    "    scoring = 'accuracy',\n",
    "    n_jobs = -1\n",
    ")\n",
    "\n",
    "grid.fit(x_monk3_tr, y_monk3_tr)\n",
    "\n",
    "print(\n",
    "    \"The best parameters are %s with a score of %0.5f\"\n",
    "    % (grid.best_params_, grid.best_score_)\n",
    ")"
   ]
  },
  {
   "cell_type": "code",
   "execution_count": 47,
   "id": "f3bde12f",
   "metadata": {},
   "outputs": [],
   "source": [
    "poly_classifier = grid.best_estimator_"
   ]
  },
  {
   "cell_type": "code",
   "execution_count": 48,
   "id": "1ba519dd",
   "metadata": {},
   "outputs": [
    {
     "data": {
      "image/png": "[encoded data removed]",
      "text/plain": [
       "<Figure size 640x480 with 2 Axes>"
      ]
     },
     "metadata": {},
     "output_type": "display_data"
    }
   ],
   "source": [
    "predictions = poly_classifier.predict(x_monk3_tr)\n",
    "\n",
    "cm = confusion_matrix(y_monk3_tr, predictions)\n",
    "disp = ConfusionMatrixDisplay(confusion_matrix=cm)\n",
    "disp.plot()\n",
    "plt.show()"
   ]
  },
  {
   "cell_type": "markdown",
   "id": "d3409ebf",
   "metadata": {},
   "source": [
    "### Model selection\n",
    "After the model selection of SVC with different kind of kernels, we are going to select the best one.\n",
    "Since a high C means that the model has a higer complexity (because of the SLT) and the risk is higher, we prefer to choose the SVM that uses polynomial as kernel, since C is low (and it means we have a low complexity due to the regularization)."
   ]
  },
  {
   "cell_type": "code",
   "execution_count": 49,
   "id": "e804d501",
   "metadata": {},
   "outputs": [
    {
     "data": {
      "text/plain": [
       "['./results/monk3/SVM/poly_svm_monk3.z']"
      ]
     },
     "execution_count": 49,
     "metadata": {},
     "output_type": "execute_result"
    }
   ],
   "source": [
    "#Save the rbf model\n",
    "joblib.dump(poly_classifier, './results/monk3/SVM/poly_svm_monk3.z')"
   ]
  },
  {
   "cell_type": "markdown",
   "id": "49720eec",
   "metadata": {},
   "source": [
    "### Model assessment\n",
    "After the selection phase we assess the generalization capabilities of the final model."
   ]
  },
  {
   "cell_type": "code",
   "execution_count": 50,
   "id": "8caf9c52",
   "metadata": {},
   "outputs": [],
   "source": [
    "svm_monk3 = joblib.load('./results/monk3/SVM/poly_svm_monk3.z')"
   ]
  },
  {
   "cell_type": "code",
   "execution_count": 51,
   "id": "100be34e",
   "metadata": {},
   "outputs": [],
   "source": [
    "score3 = svm_monk3.score(x_monk3_ts, y_monk3_ts)"
   ]
  },
  {
   "cell_type": "code",
   "execution_count": 52,
   "id": "515d5f2b",
   "metadata": {
    "scrolled": true
   },
   "outputs": [
    {
     "name": "stdout",
     "output_type": "stream",
     "text": [
      "Final accuracy on the test set: 0.9768518518518519\n"
     ]
    }
   ],
   "source": [
    "print(\"Final accuracy on the test set: \" + str(score3))"
   ]
  },
  {
   "cell_type": "code",
   "execution_count": 53,
   "id": "47b29da3",
   "metadata": {},
   "outputs": [
    {
     "data": {
      "image/png": "[encoded data removed]",
      "text/plain": [
       "<Figure size 640x480 with 2 Axes>"
      ]
     },
     "metadata": {},
     "output_type": "display_data"
    }
   ],
   "source": [
    "predictions = svm_monk3.predict(x_monk3_ts)\n",
    "\n",
    "cm = confusion_matrix(y_monk3_ts, predictions)\n",
    "disp = ConfusionMatrixDisplay(confusion_matrix=cm)\n",
    "disp.plot()\n",
    "plt.show()"
   ]
  }
 ],
 "metadata": {
  "kernelspec": {
   "display_name": "Python 3 (ipykernel)",
   "language": "python",
   "name": "python3"
  },
  "language_info": {
   "codemirror_mode": {
    "name": "ipython",
    "version": 3
   },
   "file_extension": ".py",
   "mimetype": "text/x-python",
   "name": "python",
   "nbconvert_exporter": "python",
   "pygments_lexer": "ipython3",
   "version": "3.9.13"
  }
 },
 "nbformat": 4,
 "nbformat_minor": 5
}
