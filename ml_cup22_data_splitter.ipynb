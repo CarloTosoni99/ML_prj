{
 "cells": [
  {
   "cell_type": "markdown",
   "id": "02e70e00",
   "metadata": {},
   "source": [
    "# ML CUP 2022 ##\n",
    "\n",
    "## Split between design set and test set ##\n",
    "\n",
    "This notebook was created with the aim of dividing the original file `ML-CUP22-TR.csv`, containing all the available patterns into a designs set, named `ML-CUP22-TR.csv` and a test set to perform an internal model assessment, named `ML-CUP22-INTERNAL-TS.csv`.\n",
    "\n",
    "__WARNING__; please do not re-execute this notebook, data has already been split!\n",
    "\n",
    "Assignment of the patterns between design set and test set:\n",
    "\n",
    "1. 80% of the patterns were assigned to the design set (1194 patterns)\n",
    "2. The remaining 20% to the test set (298 patterns)"
   ]
  },
  {
   "cell_type": "code",
   "execution_count": 1,
   "id": "95c15cf0",
   "metadata": {},
   "outputs": [],
   "source": [
    "import numpy as np\n",
    "import pandas as pd\n",
    "\n",
    "import random\n",
    "\n",
    "from sklearn.utils import shuffle"
   ]
  },
  {
   "cell_type": "markdown",
   "id": "84cd5c01",
   "metadata": {},
   "source": [
    "create reproducible results"
   ]
  },
  {
   "cell_type": "code",
   "execution_count": 2,
   "id": "ff5e539c",
   "metadata": {},
   "outputs": [],
   "source": [
    "seed = 2\n",
    "random.seed(seed)\n",
    "np.random.seed(seed)"
   ]
  },
  {
   "cell_type": "markdown",
   "id": "d51a9ce7",
   "metadata": {},
   "source": [
    "load the training set given its local path"
   ]
  },
  {
   "cell_type": "code",
   "execution_count": 3,
   "id": "2a0b5719",
   "metadata": {},
   "outputs": [],
   "source": [
    "def load_mlcup_dataset(local_path):\n",
    "    \n",
    "    # Load the dataset\n",
    "    data = np.loadtxt(local_path, delimiter=\",\", dtype='float32')\n",
    "    \n",
    "    return data"
   ]
  },
  {
   "cell_type": "markdown",
   "id": "0dea30af",
   "metadata": {},
   "source": [
    "split the data between design set and test set"
   ]
  },
  {
   "cell_type": "code",
   "execution_count": 4,
   "id": "f0a1804b",
   "metadata": {},
   "outputs": [],
   "source": [
    "def test_split(total_set, perc_split):\n",
    "    \n",
    "    # division between design set and validation set\n",
    "    subset_size = int(perc_split * len(total_set))\n",
    "\n",
    "    index = np.random.choice(len(total_set), subset_size, replace=False)\n",
    "    index = np.sort(index)\n",
    "\n",
    "    test_set = total_set[index]\n",
    "    \n",
    "    design_set = np.delete(total_set, index, 0)\n",
    "    \n",
    "    return test_set, design_set"
   ]
  },
  {
   "cell_type": "markdown",
   "id": "50696f8d",
   "metadata": {},
   "source": [
    "now we can divide the set"
   ]
  },
  {
   "cell_type": "code",
   "execution_count": 5,
   "id": "71169050",
   "metadata": {},
   "outputs": [],
   "source": [
    "local_path_set = './dataset/ml_cup22/original_training_set/ML-CUP22-TR.csv'\n",
    "local_path_ds = './dataset/ml_cup22/ML-CUP22-TR.csv'\n",
    "local_path_ts = './dataset/ml_cup22/ML-CUP22-INTERNAL-TS.csv'\n",
    "\n",
    "perc_split = 0.2\n",
    "\n",
    "total_set = load_mlcup_dataset(local_path_set)\n",
    "\n",
    "# create the design set and the test set\n",
    "test_set, design_set = test_split(total_set, perc_split)"
   ]
  },
  {
   "cell_type": "markdown",
   "id": "cf90673c",
   "metadata": {},
   "source": [
    "finally, we can save the two csv files"
   ]
  },
  {
   "cell_type": "code",
   "execution_count": 6,
   "id": "e31c9d92",
   "metadata": {},
   "outputs": [],
   "source": [
    "# convert to pandas dataframes\n",
    "df_test = pd.DataFrame(test_set)\n",
    "df_design = pd.DataFrame(design_set)\n",
    "\n",
    "# save the dataframes as csv\n",
    "df_test.to_csv(local_path_ts)\n",
    "df_design.to_csv(local_path_ds)"
   ]
  }
 ],
 "metadata": {
  "kernelspec": {
   "display_name": "Python 3",
   "language": "python",
   "name": "python3"
  },
  "language_info": {
   "codemirror_mode": {
    "name": "ipython",
    "version": 3
   },
   "file_extension": ".py",
   "mimetype": "text/x-python",
   "name": "python",
   "nbconvert_exporter": "python",
   "pygments_lexer": "ipython3",
   "version": "3.9.13"
  }
 },
 "nbformat": 4,
 "nbformat_minor": 5
}
